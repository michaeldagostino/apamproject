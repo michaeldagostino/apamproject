{
  "nbformat": 4,
  "nbformat_minor": 0,
  "metadata": {
    "colab": {
      "provenance": []
    },
    "kernelspec": {
      "name": "python3",
      "display_name": "Python 3"
    },
    "language_info": {
      "name": "python"
    }
  },
  "cells": [
    {
      "cell_type": "code",
      "source": [
        "import numpy as np\n",
        "from scipy.stats import norm\n",
        "from scipy.optimize import fsolve"
      ],
      "metadata": {
        "id": "QlPclfDLw1S1"
      },
      "execution_count": null,
      "outputs": []
    },
    {
      "cell_type": "markdown",
      "source": [
        "### **1) QED Model**"
      ],
      "metadata": {
        "id": "YtpjZAJZkSgk"
      }
    },
    {
      "cell_type": "code",
      "source": [
        "#Hazard Function for standard normal distribution\n",
        "\n",
        "def hazard_function_normal(x, mean=0, std_dev=1):\n",
        "    pdf = norm.pdf(x, loc=mean, scale=std_dev)\n",
        "    cdf = norm.cdf(x, loc=mean, scale=std_dev)\n",
        "    if cdf == 1:\n",
        "        return 0\n",
        "    return pdf / (1 - cdf)"
      ],
      "metadata": {
        "id": "GgeVB8vqr1EP"
      },
      "execution_count": null,
      "outputs": []
    },
    {
      "cell_type": "code",
      "source": [
        "# Function to define equation whose roots will give us beta*\n",
        "\n",
        "def equation_to_solve(beta, mu, M, lamda):\n",
        "    term1 = hazard_function_normal(beta * np.sqrt(mu)) - beta * np.sqrt(mu)\n",
        "    term2 = 1 + ((1 / np.sqrt(mu)) * (hazard_function_normal(beta * np.sqrt(mu)) / hazard_function_normal(-beta)))\n",
        "    lhs = M * np.sqrt(lamda)\n",
        "    return term1 / term2 - lhs"
      ],
      "metadata": {
        "id": "6yIHwLvIsQYs"
      },
      "execution_count": null,
      "outputs": []
    },
    {
      "cell_type": "code",
      "source": [
        "# Constant_Inputs\n",
        "mu = 13         #service rate\n",
        "M = 0.1         #acceptable abandonment probability\n",
        "lamda = 32      #arrival rate\n",
        "g0 = 1          #patience density at origin (?)\n",
        "\n",
        "# Initial guess for beta\n",
        "beta_initial_guess = 0.5"
      ],
      "metadata": {
        "id": "YVtC9dxZsWm9"
      },
      "execution_count": null,
      "outputs": []
    },
    {
      "cell_type": "code",
      "source": [
        "#Solve for beta*\n",
        "\n",
        "beta_solution = fsolve(equation_to_solve, beta_initial_guess, args=(mu, M, lamda))"
      ],
      "metadata": {
        "id": "BdsGii_V8Ku0"
      },
      "execution_count": null,
      "outputs": []
    },
    {
      "cell_type": "code",
      "source": [
        "# Function to calculate number of servers (QED Model)\n",
        "def optimal_n(beta, mu, lamda):\n",
        "    return np.ceil(((beta * np.sqrt(lamda) / np.sqrt(mu)) + (lamda / mu)))"
      ],
      "metadata": {
        "id": "Xu8LJTImss0X"
      },
      "execution_count": null,
      "outputs": []
    },
    {
      "cell_type": "code",
      "source": [
        "n_solution = optimal_n(beta_solution, mu, lamda)"
      ],
      "metadata": {
        "id": "z3d81UTZI_A2"
      },
      "execution_count": null,
      "outputs": []
    },
    {
      "cell_type": "code",
      "source": [
        "#Calculate probability of abandonment\n",
        "\n",
        "term1 = hazard_function_normal(beta_solution * np.sqrt(mu)) - beta_solution * np.sqrt(mu)\n",
        "term2 = 1 + ((1 / np.sqrt(mu)) * (hazard_function_normal(beta_solution * np.sqrt(mu)) / hazard_function_normal(-beta_solution)))\n",
        "p_abandonment = g0*(term1 / term2) / lamda"
      ],
      "metadata": {
        "id": "U8vQd8sn_u0l"
      },
      "execution_count": null,
      "outputs": []
    },
    {
      "cell_type": "code",
      "source": [
        "print(\"Given Inputs:\")\n",
        "print(f\"lamda: {lamda}\")\n",
        "print(f\"mu: {mu}\")\n",
        "print(f\"M: {M}\")\n",
        "print(\"Given Outputs:\")\n",
        "print(f\"Optimal beta: {beta_solution}\")\n",
        "print(f\"Optimal SERVERS: {n_solution}\")\n",
        "print(f\"Probability of abandonment: {p_abandonment}\")"
      ],
      "metadata": {
        "colab": {
          "base_uri": "https://localhost:8080/"
        },
        "id": "Ye4Q_V971gL2",
        "outputId": "4477ebd7-3604-413a-dbc9-26d667e08a1f"
      },
      "execution_count": null,
      "outputs": [
        {
          "output_type": "stream",
          "name": "stdout",
          "text": [
            "Given Inputs:\n",
            "lamda: 32\n",
            "mu: 13\n",
            "M: 0.1\n",
            "Given Outputs:\n",
            "Optimal beta: [0.0404789]\n",
            "Optimal SERVERS: [3.]\n",
            "Probability of abandonment: [0.01767767]\n"
          ]
        }
      ]
    },
    {
      "cell_type": "markdown",
      "source": [
        "### **2) QED+ED Model**"
      ],
      "metadata": {
        "id": "-T9bT4QWkdBA"
      }
    },
    {
      "cell_type": "markdown",
      "source": [
        "## Define alpha, and T\n",
        "\n",
        "1. Assuming that patience function is a normal distribution with mu=3, sigma=2\n",
        "\n",
        "2. alpha = 0.1 (Max possible abandonment)\n",
        "\n",
        "3. T = 1.5 (Limit for abandonment time)"
      ],
      "metadata": {
        "id": "eKgIS92ayWCl"
      }
    },
    {
      "cell_type": "code",
      "source": [
        "alpha = 0.1\n",
        "T = 0.5\n",
        "mean = 3\n",
        "sigma = 1\n",
        "lamda = 32\n",
        "mu = 13"
      ],
      "metadata": {
        "id": "wdT9tTjR1gRF"
      },
      "execution_count": null,
      "outputs": []
    },
    {
      "cell_type": "code",
      "source": [
        "def delta_star(mean, sigma, T, mu, alpha):\n",
        "    g_pdf = norm.pdf(T, loc=mean, scale=sigma)\n",
        "    G_cdf = norm.cdf(T, loc=mean, scale=sigma)\n",
        "    if G_cdf == 0:\n",
        "        return 0\n",
        "    inv_cdf = norm.ppf(alpha / 1 - G_cdf)\n",
        "    delta = inv_cdf * np.sqrt(g_pdf / mu)\n",
        "    return delta"
      ],
      "metadata": {
        "id": "WBeuLkJAkoHQ"
      },
      "execution_count": null,
      "outputs": []
    },
    {
      "cell_type": "code",
      "source": [
        "delta = delta_star(mean, sigma, T, mu, alpha)\n",
        "print(f\"The value of delta is: {delta}\")"
      ],
      "metadata": {
        "colab": {
          "base_uri": "https://localhost:8080/"
        },
        "id": "wibUfQcg1baN",
        "outputId": "702382ec-7014-4238-dd31-b942cd829850"
      },
      "execution_count": null,
      "outputs": [
        {
          "output_type": "stream",
          "name": "stdout",
          "text": [
            "The value of delta is: -0.18324017799164247\n"
          ]
        }
      ]
    },
    {
      "cell_type": "code",
      "source": [
        "G_cdf = norm.cdf(T, loc=mean, scale=sigma)\n",
        "n_star_ED_QED = ((1-G_cdf) * (lamda/mu)) + (delta * np.sqrt(lamda/mu))\n",
        "print(f\"The value of n* ED+QED is: {n_star_ED_QED}\")"
      ],
      "metadata": {
        "colab": {
          "base_uri": "https://localhost:8080/"
        },
        "id": "ObGxOsJ-3_1p",
        "outputId": "4f742f4b-a9bc-46b7-dcff-6647f2aa57c7"
      },
      "execution_count": null,
      "outputs": [
        {
          "output_type": "stream",
          "name": "stdout",
          "text": [
            "The value of n* ED+QED is: 2.009599122029395\n"
          ]
        }
      ]
    },
    {
      "cell_type": "code",
      "source": [],
      "metadata": {
        "id": "CWclrBjNSyBv"
      },
      "execution_count": null,
      "outputs": []
    }
  ]
}
