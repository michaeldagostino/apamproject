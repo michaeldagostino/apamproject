{
  "cells": [
    {
      "cell_type": "code",
      "execution_count": 16,
      "metadata": {
        "id": "QlPclfDLw1S1"
      },
      "outputs": [],
      "source": [
        "import numpy as np\n",
        "from scipy.stats import norm\n",
        "from scipy.optimize import fsolve"
      ]
    },
    {
      "attachments": {},
      "cell_type": "markdown",
      "metadata": {
        "id": "YtpjZAJZkSgk"
      },
      "source": [
        "### **1) QED Model**"
      ]
    },
    {
      "cell_type": "code",
      "execution_count": 17,
      "metadata": {
        "id": "GgeVB8vqr1EP"
      },
      "outputs": [],
      "source": [
        "#Hazard Function for standard normal distribution\n",
        "\n",
        "def hazard_function_normal(x, mean=0, std_dev=1):\n",
        "    pdf = norm.pdf(x, loc=mean, scale=std_dev)\n",
        "    cdf = norm.cdf(x, loc=mean, scale=std_dev)\n",
        "    if cdf == 1:\n",
        "        return 0\n",
        "    return pdf / (1 - cdf)"
      ]
    },
    {
      "cell_type": "code",
      "execution_count": 18,
      "metadata": {
        "id": "6yIHwLvIsQYs"
      },
      "outputs": [],
      "source": [
        "# Function to define equation whose roots will give us beta*\n",
        "\n",
        "def equation_to_solve(beta, mu, M, lamda):\n",
        "    term1 = hazard_function_normal(beta * np.sqrt(mu)) - beta * np.sqrt(mu)\n",
        "    term2 = 1 + ((1 / np.sqrt(mu)) * (hazard_function_normal(beta * np.sqrt(mu)) / hazard_function_normal(-beta)))\n",
        "    lhs = M * np.sqrt(lamda)\n",
        "    return term1 / term2 - lhs"
      ]
    },
    {
      "cell_type": "code",
      "execution_count": 19,
      "metadata": {
        "id": "YVtC9dxZsWm9"
      },
      "outputs": [],
      "source": [
        "# Constant_Inputs\n",
        "mu = 1/13         #service rate\n",
        "M = 0.1         #acceptable abandonment probability\n",
        "lamda = 32      #arrival rate\n",
        "g0 = 1          #patience density at origin (?)\n",
        "\n",
        "# Initial guess for beta\n",
        "beta_initial_guess = 0.5"
      ]
    },
    {
      "cell_type": "code",
      "execution_count": 20,
      "metadata": {
        "id": "BdsGii_V8Ku0"
      },
      "outputs": [],
      "source": [
        "#Solve for beta*\n",
        "\n",
        "beta_solution = fsolve(equation_to_solve, beta_initial_guess, args=(mu, M, lamda))"
      ]
    },
    {
      "cell_type": "code",
      "execution_count": 21,
      "metadata": {
        "id": "Xu8LJTImss0X"
      },
      "outputs": [],
      "source": [
        "# Function to calculate number of servers (QED Model)\n",
        "def optimal_n(beta, mu, lamda):\n",
        "    return np.ceil(((beta * np.sqrt(lamda) / np.sqrt(mu)) + (lamda / mu)))"
      ]
    },
    {
      "cell_type": "code",
      "execution_count": 22,
      "metadata": {
        "id": "z3d81UTZI_A2"
      },
      "outputs": [],
      "source": [
        "n_solution = optimal_n(beta_solution, mu, lamda)"
      ]
    },
    {
      "cell_type": "code",
      "execution_count": 23,
      "metadata": {
        "id": "U8vQd8sn_u0l"
      },
      "outputs": [],
      "source": [
        "#Calculate probability of abandonment\n",
        "\n",
        "term1 = hazard_function_normal(beta_solution * np.sqrt(mu)) - beta_solution * np.sqrt(mu)\n",
        "term2 = 1 + ((1 / np.sqrt(mu)) * (hazard_function_normal(beta_solution * np.sqrt(mu)) / hazard_function_normal(-beta_solution)))\n",
        "p_abandonment = g0*(term1 / term2) / lamda"
      ]
    },
    {
      "cell_type": "code",
      "execution_count": 24,
      "metadata": {
        "colab": {
          "base_uri": "https://localhost:8080/"
        },
        "id": "Ye4Q_V971gL2",
        "outputId": "4477ebd7-3604-413a-dbc9-26d667e08a1f"
      },
      "outputs": [
        {
          "name": "stdout",
          "output_type": "stream",
          "text": [
            "Given Inputs:\n",
            "lamda: 32\n",
            "mu: 0.07692307692307693\n",
            "M: 0.1\n",
            "Given Outputs:\n",
            "Optimal beta: [-1.86681251]\n",
            "Optimal SERVERS: [378.]\n",
            "Probability of abandonment: [0.01767767]\n"
          ]
        }
      ],
      "source": [
        "print(\"Given Inputs:\")\n",
        "print(f\"lamda: {lamda}\")\n",
        "print(f\"mu: {mu}\")\n",
        "print(f\"M: {M}\")\n",
        "print(\"Given Outputs:\")\n",
        "print(f\"Optimal beta: {beta_solution}\")\n",
        "print(f\"Optimal SERVERS: {n_solution}\")\n",
        "print(f\"Probability of abandonment: {p_abandonment}\")"
      ]
    },
    {
      "attachments": {},
      "cell_type": "markdown",
      "metadata": {
        "id": "-T9bT4QWkdBA"
      },
      "source": [
        "### **2) QED+ED Model**"
      ]
    },
    {
      "attachments": {},
      "cell_type": "markdown",
      "metadata": {
        "id": "eKgIS92ayWCl"
      },
      "source": [
        "## Define alpha, and T\n",
        "\n",
        "1. Assuming that patience function is a normal distribution with mu=3, sigma=2\n",
        "\n",
        "2. alpha = 0.1 (Max possible abandonment)\n",
        "\n",
        "3. T = 1.5 (Limit for abandonment time)"
      ]
    },
    {
      "cell_type": "code",
      "execution_count": 25,
      "metadata": {
        "id": "wdT9tTjR1gRF"
      },
      "outputs": [],
      "source": [
        "alpha = 0.1\n",
        "T = 0.5\n",
        "mean = 3\n",
        "sigma = 1\n",
        "lamda = 32\n",
        "mu = 1/13"
      ]
    },
    {
      "cell_type": "code",
      "execution_count": 26,
      "metadata": {
        "id": "WBeuLkJAkoHQ"
      },
      "outputs": [],
      "source": [
        "def delta_star(mean, sigma, T, mu, alpha):\n",
        "    g_pdf = norm.pdf(T, loc=mean, scale=sigma)\n",
        "    G_cdf = norm.cdf(T, loc=mean, scale=sigma)\n",
        "    if G_cdf == 0:\n",
        "        return 0\n",
        "    inv_cdf = norm.ppf(alpha / 1 - G_cdf)\n",
        "    delta = inv_cdf * np.sqrt(g_pdf / mu)\n",
        "    return delta"
      ]
    },
    {
      "cell_type": "code",
      "execution_count": 27,
      "metadata": {
        "colab": {
          "base_uri": "https://localhost:8080/"
        },
        "id": "wibUfQcg1baN",
        "outputId": "702382ec-7014-4238-dd31-b942cd829850"
      },
      "outputs": [
        {
          "name": "stdout",
          "output_type": "stream",
          "text": [
            "The value of delta is: -0.6290442280765589\n"
          ]
        }
      ],
      "source": [
        "delta = delta_star(mean, sigma, T, mu, alpha)\n",
        "print(f\"The value of delta is: {delta}\")"
      ]
    },
    {
      "cell_type": "code",
      "execution_count": 28,
      "metadata": {
        "colab": {
          "base_uri": "https://localhost:8080/"
        },
        "id": "ObGxOsJ-3_1p",
        "outputId": "4f742f4b-a9bc-46b7-dcff-6647f2aa57c7"
      },
      "outputs": [
        {
          "name": "stdout",
          "output_type": "stream",
          "text": [
            "The value of n* ED+QED is: 400.586744048976\n"
          ]
        }
      ],
      "source": [
        "G_cdf = norm.cdf(T, loc=mean, scale=sigma)\n",
        "n_star_ED_QED = ((1-G_cdf) * (lamda/mu)) + (delta * np.sqrt(lamda/mu))\n",
        "print(f\"The value of n* ED+QED is: {n_star_ED_QED}\")"
      ]
    },
    {
      "cell_type": "code",
      "execution_count": null,
      "metadata": {
        "id": "CWclrBjNSyBv"
      },
      "outputs": [],
      "source": []
    }
  ],
  "metadata": {
    "colab": {
      "provenance": []
    },
    "kernelspec": {
      "display_name": "Python 3",
      "name": "python3"
    },
    "language_info": {
      "codemirror_mode": {
        "name": "ipython",
        "version": 3
      },
      "file_extension": ".py",
      "mimetype": "text/x-python",
      "name": "python",
      "nbconvert_exporter": "python",
      "pygments_lexer": "ipython3",
      "version": "3.9.6"
    }
  },
  "nbformat": 4,
  "nbformat_minor": 0
}
