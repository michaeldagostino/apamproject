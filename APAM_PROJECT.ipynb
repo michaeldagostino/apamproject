{
 "cells": [
  {
   "cell_type": "code",
   "execution_count": 1,
   "metadata": {},
   "outputs": [
    {
     "name": "stdout",
     "output_type": "stream",
     "text": [
      "Requirement already satisfied: plotly in /Users/michaeldagostino/anaconda3/lib/python3.10/site-packages (5.9.0)\n",
      "Requirement already satisfied: tenacity>=6.2.0 in /Users/michaeldagostino/anaconda3/lib/python3.10/site-packages (from plotly) (8.0.1)\n",
      "Note: you may need to restart the kernel to use updated packages.\n",
      "Requirement already satisfied: ipywidgets in /Users/michaeldagostino/anaconda3/lib/python3.10/site-packages (8.1.5)\n",
      "Requirement already satisfied: traitlets>=4.3.1 in /Users/michaeldagostino/anaconda3/lib/python3.10/site-packages (from ipywidgets) (5.7.1)\n",
      "Requirement already satisfied: comm>=0.1.3 in /Users/michaeldagostino/anaconda3/lib/python3.10/site-packages (from ipywidgets) (0.2.2)\n",
      "Requirement already satisfied: jupyterlab-widgets~=3.0.12 in /Users/michaeldagostino/anaconda3/lib/python3.10/site-packages (from ipywidgets) (3.0.13)\n",
      "Requirement already satisfied: widgetsnbextension~=4.0.12 in /Users/michaeldagostino/anaconda3/lib/python3.10/site-packages (from ipywidgets) (4.0.13)\n",
      "Requirement already satisfied: ipython>=6.1.0 in /Users/michaeldagostino/anaconda3/lib/python3.10/site-packages (from ipywidgets) (8.10.0)\n",
      "Requirement already satisfied: decorator in /Users/michaeldagostino/anaconda3/lib/python3.10/site-packages (from ipython>=6.1.0->ipywidgets) (5.1.1)\n",
      "Requirement already satisfied: stack-data in /Users/michaeldagostino/anaconda3/lib/python3.10/site-packages (from ipython>=6.1.0->ipywidgets) (0.2.0)\n",
      "Requirement already satisfied: appnope in /Users/michaeldagostino/anaconda3/lib/python3.10/site-packages (from ipython>=6.1.0->ipywidgets) (0.1.2)\n",
      "Requirement already satisfied: jedi>=0.16 in /Users/michaeldagostino/anaconda3/lib/python3.10/site-packages (from ipython>=6.1.0->ipywidgets) (0.18.1)\n",
      "Requirement already satisfied: pygments>=2.4.0 in /Users/michaeldagostino/anaconda3/lib/python3.10/site-packages (from ipython>=6.1.0->ipywidgets) (2.11.2)\n",
      "Requirement already satisfied: prompt-toolkit<3.1.0,>=3.0.30 in /Users/michaeldagostino/anaconda3/lib/python3.10/site-packages (from ipython>=6.1.0->ipywidgets) (3.0.36)\n",
      "Requirement already satisfied: backcall in /Users/michaeldagostino/anaconda3/lib/python3.10/site-packages (from ipython>=6.1.0->ipywidgets) (0.2.0)\n",
      "Requirement already satisfied: matplotlib-inline in /Users/michaeldagostino/anaconda3/lib/python3.10/site-packages (from ipython>=6.1.0->ipywidgets) (0.1.6)\n",
      "Requirement already satisfied: pexpect>4.3 in /Users/michaeldagostino/anaconda3/lib/python3.10/site-packages (from ipython>=6.1.0->ipywidgets) (4.8.0)\n",
      "Requirement already satisfied: pickleshare in /Users/michaeldagostino/anaconda3/lib/python3.10/site-packages (from ipython>=6.1.0->ipywidgets) (0.7.5)\n",
      "Requirement already satisfied: parso<0.9.0,>=0.8.0 in /Users/michaeldagostino/anaconda3/lib/python3.10/site-packages (from jedi>=0.16->ipython>=6.1.0->ipywidgets) (0.8.3)\n",
      "Requirement already satisfied: ptyprocess>=0.5 in /Users/michaeldagostino/anaconda3/lib/python3.10/site-packages (from pexpect>4.3->ipython>=6.1.0->ipywidgets) (0.7.0)\n",
      "Requirement already satisfied: wcwidth in /Users/michaeldagostino/anaconda3/lib/python3.10/site-packages (from prompt-toolkit<3.1.0,>=3.0.30->ipython>=6.1.0->ipywidgets) (0.2.5)\n",
      "Requirement already satisfied: asttokens in /Users/michaeldagostino/anaconda3/lib/python3.10/site-packages (from stack-data->ipython>=6.1.0->ipywidgets) (2.0.5)\n",
      "Requirement already satisfied: executing in /Users/michaeldagostino/anaconda3/lib/python3.10/site-packages (from stack-data->ipython>=6.1.0->ipywidgets) (0.8.3)\n",
      "Requirement already satisfied: pure-eval in /Users/michaeldagostino/anaconda3/lib/python3.10/site-packages (from stack-data->ipython>=6.1.0->ipywidgets) (0.2.2)\n",
      "Requirement already satisfied: six in /Users/michaeldagostino/anaconda3/lib/python3.10/site-packages (from asttokens->stack-data->ipython>=6.1.0->ipywidgets) (1.16.0)\n",
      "Note: you may need to restart the kernel to use updated packages.\n",
      "Enabling notebook extension jupyter-js-widgets/extension...\n",
      "      - Validating: \u001b[32mOK\u001b[0m\n"
     ]
    }
   ],
   "source": [
    "%pip install plotly \n",
    "%pip install ipywidgets\n",
    "\n",
    "!jupyter nbextension enable --py widgetsnbextension\n"
   ]
  },
  {
   "cell_type": "code",
   "execution_count": 1,
   "metadata": {},
   "outputs": [
    {
     "data": {
      "application/vnd.plotly.v1+json": {
       "config": {
        "plotlyServerURL": "https://plot.ly"
       },
       "data": [
        {
         "fill": "tozeroy",
         "fillcolor": "rgba(135, 206, 250, 0.4)",
         "line": {
          "color": "blue",
          "width": 2
         },
         "mode": "lines",
         "name": "Abandonment Probability",
         "type": "scatter",
         "x": [
          10,
          10.918367346938776,
          11.83673469387755,
          12.755102040816327,
          13.673469387755102,
          14.591836734693878,
          15.510204081632654,
          16.42857142857143,
          17.346938775510203,
          18.26530612244898,
          19.183673469387756,
          20.10204081632653,
          21.02040816326531,
          21.93877551020408,
          22.857142857142858,
          23.775510204081634,
          24.693877551020407,
          25.612244897959187,
          26.53061224489796,
          27.448979591836736,
          28.367346938775512,
          29.285714285714285,
          30.20408163265306,
          31.122448979591837,
          32.04081632653062,
          32.95918367346939,
          33.87755102040816,
          34.79591836734694,
          35.714285714285715,
          36.63265306122449,
          37.55102040816327,
          38.46938775510204,
          39.38775510204081,
          40.30612244897959,
          41.22448979591837,
          42.142857142857146,
          43.06122448979592,
          43.97959183673469,
          44.89795918367347,
          45.816326530612244,
          46.734693877551024,
          47.6530612244898,
          48.57142857142857,
          49.48979591836735,
          50.40816326530612,
          51.3265306122449,
          52.244897959183675,
          53.16326530612245,
          54.08163265306123,
          55
         ],
         "y": [
          0.9,
          0.8908163265306123,
          0.8816326530612245,
          0.8724489795918368,
          0.863265306122449,
          0.8540816326530613,
          0.8448979591836735,
          0.8357142857142856,
          0.826530612244898,
          0.8173469387755102,
          0.8081632653061225,
          0.7989795918367347,
          0.7897959183673469,
          0.7806122448979592,
          0.7714285714285715,
          0.7622448979591836,
          0.753061224489796,
          0.7438775510204081,
          0.7346938775510203,
          0.7255102040816326,
          0.7163265306122448,
          0.7071428571428571,
          0.6979591836734693,
          0.6887755102040816,
          0.6795918367346938,
          0.6704081632653061,
          0.6612244897959183,
          0.6520408163265305,
          0.6428571428571428,
          0.633673469387755,
          0.6244897959183673,
          0.6153061224489795,
          0.6061224489795919,
          0.596938775510204,
          0.5877551020408163,
          0.5785714285714285,
          0.5693877551020408,
          0.560204081632653,
          0.5510204081632653,
          0.5418367346938775,
          0.5326530612244897,
          0.523469387755102,
          0.5142857142857142,
          0.5051020408163265,
          0.4959183673469387,
          0.486734693877551,
          0.4775510204081632,
          0.4683673469387756,
          0.4591836734693877,
          0.44999999999999996
         ]
        },
        {
         "fill": "tonexty",
         "fillcolor": "rgba(144, 238, 144, 0.4)",
         "line": {
          "color": "green",
          "dash": "dash",
          "width": 2
         },
         "mode": "lines",
         "name": "Average Wait Time",
         "type": "scatter",
         "x": [
          10,
          10.918367346938776,
          11.83673469387755,
          12.755102040816327,
          13.673469387755102,
          14.591836734693878,
          15.510204081632654,
          16.42857142857143,
          17.346938775510203,
          18.26530612244898,
          19.183673469387756,
          20.10204081632653,
          21.02040816326531,
          21.93877551020408,
          22.857142857142858,
          23.775510204081634,
          24.693877551020407,
          25.612244897959187,
          26.53061224489796,
          27.448979591836736,
          28.367346938775512,
          29.285714285714285,
          30.20408163265306,
          31.122448979591837,
          32.04081632653062,
          32.95918367346939,
          33.87755102040816,
          34.79591836734694,
          35.714285714285715,
          36.63265306122449,
          37.55102040816327,
          38.46938775510204,
          39.38775510204081,
          40.30612244897959,
          41.22448979591837,
          42.142857142857146,
          43.06122448979592,
          43.97959183673469,
          44.89795918367347,
          45.816326530612244,
          46.734693877551024,
          47.6530612244898,
          48.57142857142857,
          49.48979591836735,
          50.40816326530612,
          51.3265306122449,
          52.244897959183675,
          53.16326530612245,
          54.08163265306123,
          55
         ],
         "y": [
          0.011111111111111112,
          0.01122565864833906,
          0.011342592592592593,
          0.011461988304093567,
          0.011583924349881798,
          0.011708482676224612,
          0.011835748792270532,
          0.011965811965811965,
          0.012098765432098766,
          0.012234706616729088,
          0.012373737373737375,
          0.01251596424010217,
          0.012661498708010335,
          0.01281045751633987,
          0.012962962962962964,
          0.013119143239625168,
          0.013279132791327914,
          0.013443072702331962,
          0.01361111111111111,
          0.013783403656821378,
          0.01396011396011396,
          0.014141414141414142,
          0.014327485380116958,
          0.01451851851851852,
          0.014714714714714716,
          0.014916286149162863,
          0.015123456790123457,
          0.01533646322378717,
          0.015555555555555553,
          0.015780998389694042,
          0.01601307189542484,
          0.01625207296849088,
          0.016498316498316498,
          0.016752136752136753,
          0.01701388888888889,
          0.017283950617283952,
          0.01756272401433692,
          0.01785063752276867,
          0.018148148148148153,
          0.018455743879472693,
          0.018773946360153258,
          0.019103313840155945,
          0.019444444444444445,
          0.0197979797979798,
          0.02016460905349794,
          0.020545073375262055,
          0.020940170940170942,
          0.021350762527233114,
          0.021777777777777778,
          0.022222222222222223
         ]
        }
       ],
       "layout": {
        "annotations": [
         {
          "arrowhead": 2,
          "ax": -30,
          "ay": -50,
          "font": {
           "color": "blue"
          },
          "showarrow": true,
          "text": "Max Abandonment: 0.90",
          "x": 10,
          "y": 0.9
         },
         {
          "arrowhead": 2,
          "ax": 30,
          "ay": -50,
          "font": {
           "color": "green"
          },
          "showarrow": true,
          "text": "Max Wait Time: 0.02",
          "x": 55,
          "y": 0.022222222222222223
         }
        ],
        "font": {
         "size": 14
        },
        "legend": {
         "bgcolor": "rgba(255,255,255,0.8)",
         "bordercolor": "black",
         "borderwidth": 1
        },
        "template": {
         "data": {
          "bar": [
           {
            "error_x": {
             "color": "#2a3f5f"
            },
            "error_y": {
             "color": "#2a3f5f"
            },
            "marker": {
             "line": {
              "color": "white",
              "width": 0.5
             },
             "pattern": {
              "fillmode": "overlay",
              "size": 10,
              "solidity": 0.2
             }
            },
            "type": "bar"
           }
          ],
          "barpolar": [
           {
            "marker": {
             "line": {
              "color": "white",
              "width": 0.5
             },
             "pattern": {
              "fillmode": "overlay",
              "size": 10,
              "solidity": 0.2
             }
            },
            "type": "barpolar"
           }
          ],
          "carpet": [
           {
            "aaxis": {
             "endlinecolor": "#2a3f5f",
             "gridcolor": "#C8D4E3",
             "linecolor": "#C8D4E3",
             "minorgridcolor": "#C8D4E3",
             "startlinecolor": "#2a3f5f"
            },
            "baxis": {
             "endlinecolor": "#2a3f5f",
             "gridcolor": "#C8D4E3",
             "linecolor": "#C8D4E3",
             "minorgridcolor": "#C8D4E3",
             "startlinecolor": "#2a3f5f"
            },
            "type": "carpet"
           }
          ],
          "choropleth": [
           {
            "colorbar": {
             "outlinewidth": 0,
             "ticks": ""
            },
            "type": "choropleth"
           }
          ],
          "contour": [
           {
            "colorbar": {
             "outlinewidth": 0,
             "ticks": ""
            },
            "colorscale": [
             [
              0,
              "#0d0887"
             ],
             [
              0.1111111111111111,
              "#46039f"
             ],
             [
              0.2222222222222222,
              "#7201a8"
             ],
             [
              0.3333333333333333,
              "#9c179e"
             ],
             [
              0.4444444444444444,
              "#bd3786"
             ],
             [
              0.5555555555555556,
              "#d8576b"
             ],
             [
              0.6666666666666666,
              "#ed7953"
             ],
             [
              0.7777777777777778,
              "#fb9f3a"
             ],
             [
              0.8888888888888888,
              "#fdca26"
             ],
             [
              1,
              "#f0f921"
             ]
            ],
            "type": "contour"
           }
          ],
          "contourcarpet": [
           {
            "colorbar": {
             "outlinewidth": 0,
             "ticks": ""
            },
            "type": "contourcarpet"
           }
          ],
          "heatmap": [
           {
            "colorbar": {
             "outlinewidth": 0,
             "ticks": ""
            },
            "colorscale": [
             [
              0,
              "#0d0887"
             ],
             [
              0.1111111111111111,
              "#46039f"
             ],
             [
              0.2222222222222222,
              "#7201a8"
             ],
             [
              0.3333333333333333,
              "#9c179e"
             ],
             [
              0.4444444444444444,
              "#bd3786"
             ],
             [
              0.5555555555555556,
              "#d8576b"
             ],
             [
              0.6666666666666666,
              "#ed7953"
             ],
             [
              0.7777777777777778,
              "#fb9f3a"
             ],
             [
              0.8888888888888888,
              "#fdca26"
             ],
             [
              1,
              "#f0f921"
             ]
            ],
            "type": "heatmap"
           }
          ],
          "heatmapgl": [
           {
            "colorbar": {
             "outlinewidth": 0,
             "ticks": ""
            },
            "colorscale": [
             [
              0,
              "#0d0887"
             ],
             [
              0.1111111111111111,
              "#46039f"
             ],
             [
              0.2222222222222222,
              "#7201a8"
             ],
             [
              0.3333333333333333,
              "#9c179e"
             ],
             [
              0.4444444444444444,
              "#bd3786"
             ],
             [
              0.5555555555555556,
              "#d8576b"
             ],
             [
              0.6666666666666666,
              "#ed7953"
             ],
             [
              0.7777777777777778,
              "#fb9f3a"
             ],
             [
              0.8888888888888888,
              "#fdca26"
             ],
             [
              1,
              "#f0f921"
             ]
            ],
            "type": "heatmapgl"
           }
          ],
          "histogram": [
           {
            "marker": {
             "pattern": {
              "fillmode": "overlay",
              "size": 10,
              "solidity": 0.2
             }
            },
            "type": "histogram"
           }
          ],
          "histogram2d": [
           {
            "colorbar": {
             "outlinewidth": 0,
             "ticks": ""
            },
            "colorscale": [
             [
              0,
              "#0d0887"
             ],
             [
              0.1111111111111111,
              "#46039f"
             ],
             [
              0.2222222222222222,
              "#7201a8"
             ],
             [
              0.3333333333333333,
              "#9c179e"
             ],
             [
              0.4444444444444444,
              "#bd3786"
             ],
             [
              0.5555555555555556,
              "#d8576b"
             ],
             [
              0.6666666666666666,
              "#ed7953"
             ],
             [
              0.7777777777777778,
              "#fb9f3a"
             ],
             [
              0.8888888888888888,
              "#fdca26"
             ],
             [
              1,
              "#f0f921"
             ]
            ],
            "type": "histogram2d"
           }
          ],
          "histogram2dcontour": [
           {
            "colorbar": {
             "outlinewidth": 0,
             "ticks": ""
            },
            "colorscale": [
             [
              0,
              "#0d0887"
             ],
             [
              0.1111111111111111,
              "#46039f"
             ],
             [
              0.2222222222222222,
              "#7201a8"
             ],
             [
              0.3333333333333333,
              "#9c179e"
             ],
             [
              0.4444444444444444,
              "#bd3786"
             ],
             [
              0.5555555555555556,
              "#d8576b"
             ],
             [
              0.6666666666666666,
              "#ed7953"
             ],
             [
              0.7777777777777778,
              "#fb9f3a"
             ],
             [
              0.8888888888888888,
              "#fdca26"
             ],
             [
              1,
              "#f0f921"
             ]
            ],
            "type": "histogram2dcontour"
           }
          ],
          "mesh3d": [
           {
            "colorbar": {
             "outlinewidth": 0,
             "ticks": ""
            },
            "type": "mesh3d"
           }
          ],
          "parcoords": [
           {
            "line": {
             "colorbar": {
              "outlinewidth": 0,
              "ticks": ""
             }
            },
            "type": "parcoords"
           }
          ],
          "pie": [
           {
            "automargin": true,
            "type": "pie"
           }
          ],
          "scatter": [
           {
            "fillpattern": {
             "fillmode": "overlay",
             "size": 10,
             "solidity": 0.2
            },
            "type": "scatter"
           }
          ],
          "scatter3d": [
           {
            "line": {
             "colorbar": {
              "outlinewidth": 0,
              "ticks": ""
             }
            },
            "marker": {
             "colorbar": {
              "outlinewidth": 0,
              "ticks": ""
             }
            },
            "type": "scatter3d"
           }
          ],
          "scattercarpet": [
           {
            "marker": {
             "colorbar": {
              "outlinewidth": 0,
              "ticks": ""
             }
            },
            "type": "scattercarpet"
           }
          ],
          "scattergeo": [
           {
            "marker": {
             "colorbar": {
              "outlinewidth": 0,
              "ticks": ""
             }
            },
            "type": "scattergeo"
           }
          ],
          "scattergl": [
           {
            "marker": {
             "colorbar": {
              "outlinewidth": 0,
              "ticks": ""
             }
            },
            "type": "scattergl"
           }
          ],
          "scattermapbox": [
           {
            "marker": {
             "colorbar": {
              "outlinewidth": 0,
              "ticks": ""
             }
            },
            "type": "scattermapbox"
           }
          ],
          "scatterpolar": [
           {
            "marker": {
             "colorbar": {
              "outlinewidth": 0,
              "ticks": ""
             }
            },
            "type": "scatterpolar"
           }
          ],
          "scatterpolargl": [
           {
            "marker": {
             "colorbar": {
              "outlinewidth": 0,
              "ticks": ""
             }
            },
            "type": "scatterpolargl"
           }
          ],
          "scatterternary": [
           {
            "marker": {
             "colorbar": {
              "outlinewidth": 0,
              "ticks": ""
             }
            },
            "type": "scatterternary"
           }
          ],
          "surface": [
           {
            "colorbar": {
             "outlinewidth": 0,
             "ticks": ""
            },
            "colorscale": [
             [
              0,
              "#0d0887"
             ],
             [
              0.1111111111111111,
              "#46039f"
             ],
             [
              0.2222222222222222,
              "#7201a8"
             ],
             [
              0.3333333333333333,
              "#9c179e"
             ],
             [
              0.4444444444444444,
              "#bd3786"
             ],
             [
              0.5555555555555556,
              "#d8576b"
             ],
             [
              0.6666666666666666,
              "#ed7953"
             ],
             [
              0.7777777777777778,
              "#fb9f3a"
             ],
             [
              0.8888888888888888,
              "#fdca26"
             ],
             [
              1,
              "#f0f921"
             ]
            ],
            "type": "surface"
           }
          ],
          "table": [
           {
            "cells": {
             "fill": {
              "color": "#EBF0F8"
             },
             "line": {
              "color": "white"
             }
            },
            "header": {
             "fill": {
              "color": "#C8D4E3"
             },
             "line": {
              "color": "white"
             }
            },
            "type": "table"
           }
          ]
         },
         "layout": {
          "annotationdefaults": {
           "arrowcolor": "#2a3f5f",
           "arrowhead": 0,
           "arrowwidth": 1
          },
          "autotypenumbers": "strict",
          "coloraxis": {
           "colorbar": {
            "outlinewidth": 0,
            "ticks": ""
           }
          },
          "colorscale": {
           "diverging": [
            [
             0,
             "#8e0152"
            ],
            [
             0.1,
             "#c51b7d"
            ],
            [
             0.2,
             "#de77ae"
            ],
            [
             0.3,
             "#f1b6da"
            ],
            [
             0.4,
             "#fde0ef"
            ],
            [
             0.5,
             "#f7f7f7"
            ],
            [
             0.6,
             "#e6f5d0"
            ],
            [
             0.7,
             "#b8e186"
            ],
            [
             0.8,
             "#7fbc41"
            ],
            [
             0.9,
             "#4d9221"
            ],
            [
             1,
             "#276419"
            ]
           ],
           "sequential": [
            [
             0,
             "#0d0887"
            ],
            [
             0.1111111111111111,
             "#46039f"
            ],
            [
             0.2222222222222222,
             "#7201a8"
            ],
            [
             0.3333333333333333,
             "#9c179e"
            ],
            [
             0.4444444444444444,
             "#bd3786"
            ],
            [
             0.5555555555555556,
             "#d8576b"
            ],
            [
             0.6666666666666666,
             "#ed7953"
            ],
            [
             0.7777777777777778,
             "#fb9f3a"
            ],
            [
             0.8888888888888888,
             "#fdca26"
            ],
            [
             1,
             "#f0f921"
            ]
           ],
           "sequentialminus": [
            [
             0,
             "#0d0887"
            ],
            [
             0.1111111111111111,
             "#46039f"
            ],
            [
             0.2222222222222222,
             "#7201a8"
            ],
            [
             0.3333333333333333,
             "#9c179e"
            ],
            [
             0.4444444444444444,
             "#bd3786"
            ],
            [
             0.5555555555555556,
             "#d8576b"
            ],
            [
             0.6666666666666666,
             "#ed7953"
            ],
            [
             0.7777777777777778,
             "#fb9f3a"
            ],
            [
             0.8888888888888888,
             "#fdca26"
            ],
            [
             1,
             "#f0f921"
            ]
           ]
          },
          "colorway": [
           "#636efa",
           "#EF553B",
           "#00cc96",
           "#ab63fa",
           "#FFA15A",
           "#19d3f3",
           "#FF6692",
           "#B6E880",
           "#FF97FF",
           "#FECB52"
          ],
          "font": {
           "color": "#2a3f5f"
          },
          "geo": {
           "bgcolor": "white",
           "lakecolor": "white",
           "landcolor": "white",
           "showlakes": true,
           "showland": true,
           "subunitcolor": "#C8D4E3"
          },
          "hoverlabel": {
           "align": "left"
          },
          "hovermode": "closest",
          "mapbox": {
           "style": "light"
          },
          "paper_bgcolor": "white",
          "plot_bgcolor": "white",
          "polar": {
           "angularaxis": {
            "gridcolor": "#EBF0F8",
            "linecolor": "#EBF0F8",
            "ticks": ""
           },
           "bgcolor": "white",
           "radialaxis": {
            "gridcolor": "#EBF0F8",
            "linecolor": "#EBF0F8",
            "ticks": ""
           }
          },
          "scene": {
           "xaxis": {
            "backgroundcolor": "white",
            "gridcolor": "#DFE8F3",
            "gridwidth": 2,
            "linecolor": "#EBF0F8",
            "showbackground": true,
            "ticks": "",
            "zerolinecolor": "#EBF0F8"
           },
           "yaxis": {
            "backgroundcolor": "white",
            "gridcolor": "#DFE8F3",
            "gridwidth": 2,
            "linecolor": "#EBF0F8",
            "showbackground": true,
            "ticks": "",
            "zerolinecolor": "#EBF0F8"
           },
           "zaxis": {
            "backgroundcolor": "white",
            "gridcolor": "#DFE8F3",
            "gridwidth": 2,
            "linecolor": "#EBF0F8",
            "showbackground": true,
            "ticks": "",
            "zerolinecolor": "#EBF0F8"
           }
          },
          "shapedefaults": {
           "line": {
            "color": "#2a3f5f"
           }
          },
          "ternary": {
           "aaxis": {
            "gridcolor": "#DFE8F3",
            "linecolor": "#A2B1C6",
            "ticks": ""
           },
           "baxis": {
            "gridcolor": "#DFE8F3",
            "linecolor": "#A2B1C6",
            "ticks": ""
           },
           "bgcolor": "white",
           "caxis": {
            "gridcolor": "#DFE8F3",
            "linecolor": "#A2B1C6",
            "ticks": ""
           }
          },
          "title": {
           "x": 0.05
          },
          "xaxis": {
           "automargin": true,
           "gridcolor": "#EBF0F8",
           "linecolor": "#EBF0F8",
           "ticks": "",
           "title": {
            "standoff": 15
           },
           "zerolinecolor": "#EBF0F8",
           "zerolinewidth": 2
          },
          "yaxis": {
           "automargin": true,
           "gridcolor": "#EBF0F8",
           "linecolor": "#EBF0F8",
           "ticks": "",
           "title": {
            "standoff": 15
           },
           "zerolinecolor": "#EBF0F8",
           "zerolinewidth": 2
          }
         }
        },
        "title": {
         "font": {
          "size": 20
         },
         "text": "Enhanced Erlang A Metrics"
        },
        "xaxis": {
         "title": {
          "text": "Arrival Rate (λ)"
         }
        },
        "yaxis": {
         "title": {
          "text": "Metrics"
         }
        }
       }
      }
     },
     "metadata": {},
     "output_type": "display_data"
    },
    {
     "data": {
      "application/vnd.jupyter.widget-view+json": {
       "model_id": "30afbbe784a9480b8e681e49ae037556",
       "version_major": 2,
       "version_minor": 0
      },
      "text/plain": [
       "interactive(children=(IntSlider(value=55, description='lambda_val', min=10, step=5), IntSlider(value=10, descr…"
      ]
     },
     "metadata": {},
     "output_type": "display_data"
    },
    {
     "data": {
      "application/vnd.plotly.v1+json": {
       "config": {
        "plotlyServerURL": "https://plot.ly"
       },
       "data": [
        {
         "fill": "tozeroy",
         "fillcolor": "rgba(135, 206, 250, 0.4)",
         "line": {
          "color": "blue",
          "width": 2
         },
         "mode": "lines",
         "name": "Abandonment Probability",
         "type": "scatter",
         "x": [
          10,
          10.918367346938776,
          11.83673469387755,
          12.755102040816327,
          13.673469387755102,
          14.591836734693878,
          15.510204081632654,
          16.42857142857143,
          17.346938775510203,
          18.26530612244898,
          19.183673469387756,
          20.10204081632653,
          21.02040816326531,
          21.93877551020408,
          22.857142857142858,
          23.775510204081634,
          24.693877551020407,
          25.612244897959187,
          26.53061224489796,
          27.448979591836736,
          28.367346938775512,
          29.285714285714285,
          30.20408163265306,
          31.122448979591837,
          32.04081632653062,
          32.95918367346939,
          33.87755102040816,
          34.79591836734694,
          35.714285714285715,
          36.63265306122449,
          37.55102040816327,
          38.46938775510204,
          39.38775510204081,
          40.30612244897959,
          41.22448979591837,
          42.142857142857146,
          43.06122448979592,
          43.97959183673469,
          44.89795918367347,
          45.816326530612244,
          46.734693877551024,
          47.6530612244898,
          48.57142857142857,
          49.48979591836735,
          50.40816326530612,
          51.3265306122449,
          52.244897959183675,
          53.16326530612245,
          54.08163265306123,
          55
         ],
         "y": [
          0.8,
          0.7816326530612245,
          0.763265306122449,
          0.7448979591836735,
          0.726530612244898,
          0.7081632653061225,
          0.689795918367347,
          0.6714285714285714,
          0.653061224489796,
          0.6346938775510205,
          0.616326530612245,
          0.5979591836734695,
          0.5795918367346938,
          0.5612244897959184,
          0.5428571428571429,
          0.5244897959183673,
          0.5061224489795919,
          0.4877551020408163,
          0.4693877551020408,
          0.4510204081632653,
          0.43265306122448977,
          0.41428571428571426,
          0.39591836734693875,
          0.37755102040816324,
          0.3591836734693876,
          0.3408163265306122,
          0.3224489795918367,
          0.3040816326530611,
          0.2857142857142857,
          0.2673469387755102,
          0.24897959183673468,
          0.23061224489795917,
          0.21224489795918378,
          0.19387755102040816,
          0.17551020408163254,
          0.15714285714285703,
          0.13877551020408163,
          0.12040816326530612,
          0.10204081632653061,
          0.0836734693877551,
          0.06530612244897949,
          0.04693877551020409,
          0.02857142857142858,
          0.010204081632652962,
          0,
          0,
          0,
          0,
          0,
          0
         ]
        },
        {
         "fill": "tonexty",
         "fillcolor": "rgba(144, 238, 144, 0.4)",
         "line": {
          "color": "green",
          "dash": "dash",
          "width": 2
         },
         "mode": "lines",
         "name": "Average Wait Time",
         "type": "scatter",
         "x": [
          10,
          10.918367346938776,
          11.83673469387755,
          12.755102040816327,
          13.673469387755102,
          14.591836734693878,
          15.510204081632654,
          16.42857142857143,
          17.346938775510203,
          18.26530612244898,
          19.183673469387756,
          20.10204081632653,
          21.02040816326531,
          21.93877551020408,
          22.857142857142858,
          23.775510204081634,
          24.693877551020407,
          25.612244897959187,
          26.53061224489796,
          27.448979591836736,
          28.367346938775512,
          29.285714285714285,
          30.20408163265306,
          31.122448979591837,
          32.04081632653062,
          32.95918367346939,
          33.87755102040816,
          34.79591836734694,
          35.714285714285715,
          36.63265306122449,
          37.55102040816327,
          38.46938775510204,
          39.38775510204081,
          40.30612244897959,
          41.22448979591837,
          42.142857142857146,
          43.06122448979592,
          43.97959183673469,
          44.89795918367347,
          45.816326530612244,
          46.734693877551024,
          47.6530612244898,
          48.57142857142857,
          49.48979591836735,
          50.40816326530612,
          51.3265306122449,
          52.244897959183675,
          53.16326530612245,
          54.08163265306123,
          55
         ],
         "y": [
          0.025,
          0.02558746736292428,
          0.026203208556149733,
          0.02684931506849315,
          0.027528089887640453,
          0.02824207492795389,
          0.028994082840236683,
          0.029787234042553193,
          0.030625,
          0.031511254019292605,
          0.03245033112582781,
          0.033447098976109216,
          0.03450704225352113,
          0.03563636363636363,
          0.03684210526315789,
          0.03813229571984436,
          0.03951612903225806,
          0.041004184100418416,
          0.042608695652173914,
          0.04434389140271494,
          0.046226415094339626,
          0.04827586206896552,
          0.05051546391752576,
          0.05297297297297297,
          0.0556818181818182,
          0.05868263473053893,
          0.0620253164556962,
          0.06577181208053692,
          0.07,
          0.0748091603053435,
          0.08032786885245903,
          0.08672566371681417,
          0.0942307692307692,
          0.10315789473684212,
          0.1139534883720931,
          0.1272727272727273,
          0.14411764705882346,
          0.16610169491525426,
          0.1960000000000002,
          0.23902439024390248,
          0.30625000000000047,
          0.4260869565217393,
          0.6999999999999982,
          1.9600000000000022,
          0,
          0,
          0,
          0,
          0,
          0
         ]
        }
       ],
       "layout": {
        "annotations": [
         {
          "arrowhead": 2,
          "ax": -30,
          "ay": -50,
          "font": {
           "color": "blue"
          },
          "showarrow": true,
          "text": "Max Abandonment: 0.80",
          "x": 10,
          "y": 0.8
         },
         {
          "arrowhead": 2,
          "ax": 30,
          "ay": -50,
          "font": {
           "color": "green"
          },
          "showarrow": true,
          "text": "Max Wait Time: 1.96",
          "x": 49.48979591836735,
          "y": 1.9600000000000022
         }
        ],
        "font": {
         "size": 14
        },
        "legend": {
         "bgcolor": "rgba(255,255,255,0.8)",
         "bordercolor": "black",
         "borderwidth": 1
        },
        "template": {
         "data": {
          "bar": [
           {
            "error_x": {
             "color": "#2a3f5f"
            },
            "error_y": {
             "color": "#2a3f5f"
            },
            "marker": {
             "line": {
              "color": "white",
              "width": 0.5
             },
             "pattern": {
              "fillmode": "overlay",
              "size": 10,
              "solidity": 0.2
             }
            },
            "type": "bar"
           }
          ],
          "barpolar": [
           {
            "marker": {
             "line": {
              "color": "white",
              "width": 0.5
             },
             "pattern": {
              "fillmode": "overlay",
              "size": 10,
              "solidity": 0.2
             }
            },
            "type": "barpolar"
           }
          ],
          "carpet": [
           {
            "aaxis": {
             "endlinecolor": "#2a3f5f",
             "gridcolor": "#C8D4E3",
             "linecolor": "#C8D4E3",
             "minorgridcolor": "#C8D4E3",
             "startlinecolor": "#2a3f5f"
            },
            "baxis": {
             "endlinecolor": "#2a3f5f",
             "gridcolor": "#C8D4E3",
             "linecolor": "#C8D4E3",
             "minorgridcolor": "#C8D4E3",
             "startlinecolor": "#2a3f5f"
            },
            "type": "carpet"
           }
          ],
          "choropleth": [
           {
            "colorbar": {
             "outlinewidth": 0,
             "ticks": ""
            },
            "type": "choropleth"
           }
          ],
          "contour": [
           {
            "colorbar": {
             "outlinewidth": 0,
             "ticks": ""
            },
            "colorscale": [
             [
              0,
              "#0d0887"
             ],
             [
              0.1111111111111111,
              "#46039f"
             ],
             [
              0.2222222222222222,
              "#7201a8"
             ],
             [
              0.3333333333333333,
              "#9c179e"
             ],
             [
              0.4444444444444444,
              "#bd3786"
             ],
             [
              0.5555555555555556,
              "#d8576b"
             ],
             [
              0.6666666666666666,
              "#ed7953"
             ],
             [
              0.7777777777777778,
              "#fb9f3a"
             ],
             [
              0.8888888888888888,
              "#fdca26"
             ],
             [
              1,
              "#f0f921"
             ]
            ],
            "type": "contour"
           }
          ],
          "contourcarpet": [
           {
            "colorbar": {
             "outlinewidth": 0,
             "ticks": ""
            },
            "type": "contourcarpet"
           }
          ],
          "heatmap": [
           {
            "colorbar": {
             "outlinewidth": 0,
             "ticks": ""
            },
            "colorscale": [
             [
              0,
              "#0d0887"
             ],
             [
              0.1111111111111111,
              "#46039f"
             ],
             [
              0.2222222222222222,
              "#7201a8"
             ],
             [
              0.3333333333333333,
              "#9c179e"
             ],
             [
              0.4444444444444444,
              "#bd3786"
             ],
             [
              0.5555555555555556,
              "#d8576b"
             ],
             [
              0.6666666666666666,
              "#ed7953"
             ],
             [
              0.7777777777777778,
              "#fb9f3a"
             ],
             [
              0.8888888888888888,
              "#fdca26"
             ],
             [
              1,
              "#f0f921"
             ]
            ],
            "type": "heatmap"
           }
          ],
          "heatmapgl": [
           {
            "colorbar": {
             "outlinewidth": 0,
             "ticks": ""
            },
            "colorscale": [
             [
              0,
              "#0d0887"
             ],
             [
              0.1111111111111111,
              "#46039f"
             ],
             [
              0.2222222222222222,
              "#7201a8"
             ],
             [
              0.3333333333333333,
              "#9c179e"
             ],
             [
              0.4444444444444444,
              "#bd3786"
             ],
             [
              0.5555555555555556,
              "#d8576b"
             ],
             [
              0.6666666666666666,
              "#ed7953"
             ],
             [
              0.7777777777777778,
              "#fb9f3a"
             ],
             [
              0.8888888888888888,
              "#fdca26"
             ],
             [
              1,
              "#f0f921"
             ]
            ],
            "type": "heatmapgl"
           }
          ],
          "histogram": [
           {
            "marker": {
             "pattern": {
              "fillmode": "overlay",
              "size": 10,
              "solidity": 0.2
             }
            },
            "type": "histogram"
           }
          ],
          "histogram2d": [
           {
            "colorbar": {
             "outlinewidth": 0,
             "ticks": ""
            },
            "colorscale": [
             [
              0,
              "#0d0887"
             ],
             [
              0.1111111111111111,
              "#46039f"
             ],
             [
              0.2222222222222222,
              "#7201a8"
             ],
             [
              0.3333333333333333,
              "#9c179e"
             ],
             [
              0.4444444444444444,
              "#bd3786"
             ],
             [
              0.5555555555555556,
              "#d8576b"
             ],
             [
              0.6666666666666666,
              "#ed7953"
             ],
             [
              0.7777777777777778,
              "#fb9f3a"
             ],
             [
              0.8888888888888888,
              "#fdca26"
             ],
             [
              1,
              "#f0f921"
             ]
            ],
            "type": "histogram2d"
           }
          ],
          "histogram2dcontour": [
           {
            "colorbar": {
             "outlinewidth": 0,
             "ticks": ""
            },
            "colorscale": [
             [
              0,
              "#0d0887"
             ],
             [
              0.1111111111111111,
              "#46039f"
             ],
             [
              0.2222222222222222,
              "#7201a8"
             ],
             [
              0.3333333333333333,
              "#9c179e"
             ],
             [
              0.4444444444444444,
              "#bd3786"
             ],
             [
              0.5555555555555556,
              "#d8576b"
             ],
             [
              0.6666666666666666,
              "#ed7953"
             ],
             [
              0.7777777777777778,
              "#fb9f3a"
             ],
             [
              0.8888888888888888,
              "#fdca26"
             ],
             [
              1,
              "#f0f921"
             ]
            ],
            "type": "histogram2dcontour"
           }
          ],
          "mesh3d": [
           {
            "colorbar": {
             "outlinewidth": 0,
             "ticks": ""
            },
            "type": "mesh3d"
           }
          ],
          "parcoords": [
           {
            "line": {
             "colorbar": {
              "outlinewidth": 0,
              "ticks": ""
             }
            },
            "type": "parcoords"
           }
          ],
          "pie": [
           {
            "automargin": true,
            "type": "pie"
           }
          ],
          "scatter": [
           {
            "fillpattern": {
             "fillmode": "overlay",
             "size": 10,
             "solidity": 0.2
            },
            "type": "scatter"
           }
          ],
          "scatter3d": [
           {
            "line": {
             "colorbar": {
              "outlinewidth": 0,
              "ticks": ""
             }
            },
            "marker": {
             "colorbar": {
              "outlinewidth": 0,
              "ticks": ""
             }
            },
            "type": "scatter3d"
           }
          ],
          "scattercarpet": [
           {
            "marker": {
             "colorbar": {
              "outlinewidth": 0,
              "ticks": ""
             }
            },
            "type": "scattercarpet"
           }
          ],
          "scattergeo": [
           {
            "marker": {
             "colorbar": {
              "outlinewidth": 0,
              "ticks": ""
             }
            },
            "type": "scattergeo"
           }
          ],
          "scattergl": [
           {
            "marker": {
             "colorbar": {
              "outlinewidth": 0,
              "ticks": ""
             }
            },
            "type": "scattergl"
           }
          ],
          "scattermapbox": [
           {
            "marker": {
             "colorbar": {
              "outlinewidth": 0,
              "ticks": ""
             }
            },
            "type": "scattermapbox"
           }
          ],
          "scatterpolar": [
           {
            "marker": {
             "colorbar": {
              "outlinewidth": 0,
              "ticks": ""
             }
            },
            "type": "scatterpolar"
           }
          ],
          "scatterpolargl": [
           {
            "marker": {
             "colorbar": {
              "outlinewidth": 0,
              "ticks": ""
             }
            },
            "type": "scatterpolargl"
           }
          ],
          "scatterternary": [
           {
            "marker": {
             "colorbar": {
              "outlinewidth": 0,
              "ticks": ""
             }
            },
            "type": "scatterternary"
           }
          ],
          "surface": [
           {
            "colorbar": {
             "outlinewidth": 0,
             "ticks": ""
            },
            "colorscale": [
             [
              0,
              "#0d0887"
             ],
             [
              0.1111111111111111,
              "#46039f"
             ],
             [
              0.2222222222222222,
              "#7201a8"
             ],
             [
              0.3333333333333333,
              "#9c179e"
             ],
             [
              0.4444444444444444,
              "#bd3786"
             ],
             [
              0.5555555555555556,
              "#d8576b"
             ],
             [
              0.6666666666666666,
              "#ed7953"
             ],
             [
              0.7777777777777778,
              "#fb9f3a"
             ],
             [
              0.8888888888888888,
              "#fdca26"
             ],
             [
              1,
              "#f0f921"
             ]
            ],
            "type": "surface"
           }
          ],
          "table": [
           {
            "cells": {
             "fill": {
              "color": "#EBF0F8"
             },
             "line": {
              "color": "white"
             }
            },
            "header": {
             "fill": {
              "color": "#C8D4E3"
             },
             "line": {
              "color": "white"
             }
            },
            "type": "table"
           }
          ]
         },
         "layout": {
          "annotationdefaults": {
           "arrowcolor": "#2a3f5f",
           "arrowhead": 0,
           "arrowwidth": 1
          },
          "autotypenumbers": "strict",
          "coloraxis": {
           "colorbar": {
            "outlinewidth": 0,
            "ticks": ""
           }
          },
          "colorscale": {
           "diverging": [
            [
             0,
             "#8e0152"
            ],
            [
             0.1,
             "#c51b7d"
            ],
            [
             0.2,
             "#de77ae"
            ],
            [
             0.3,
             "#f1b6da"
            ],
            [
             0.4,
             "#fde0ef"
            ],
            [
             0.5,
             "#f7f7f7"
            ],
            [
             0.6,
             "#e6f5d0"
            ],
            [
             0.7,
             "#b8e186"
            ],
            [
             0.8,
             "#7fbc41"
            ],
            [
             0.9,
             "#4d9221"
            ],
            [
             1,
             "#276419"
            ]
           ],
           "sequential": [
            [
             0,
             "#0d0887"
            ],
            [
             0.1111111111111111,
             "#46039f"
            ],
            [
             0.2222222222222222,
             "#7201a8"
            ],
            [
             0.3333333333333333,
             "#9c179e"
            ],
            [
             0.4444444444444444,
             "#bd3786"
            ],
            [
             0.5555555555555556,
             "#d8576b"
            ],
            [
             0.6666666666666666,
             "#ed7953"
            ],
            [
             0.7777777777777778,
             "#fb9f3a"
            ],
            [
             0.8888888888888888,
             "#fdca26"
            ],
            [
             1,
             "#f0f921"
            ]
           ],
           "sequentialminus": [
            [
             0,
             "#0d0887"
            ],
            [
             0.1111111111111111,
             "#46039f"
            ],
            [
             0.2222222222222222,
             "#7201a8"
            ],
            [
             0.3333333333333333,
             "#9c179e"
            ],
            [
             0.4444444444444444,
             "#bd3786"
            ],
            [
             0.5555555555555556,
             "#d8576b"
            ],
            [
             0.6666666666666666,
             "#ed7953"
            ],
            [
             0.7777777777777778,
             "#fb9f3a"
            ],
            [
             0.8888888888888888,
             "#fdca26"
            ],
            [
             1,
             "#f0f921"
            ]
           ]
          },
          "colorway": [
           "#636efa",
           "#EF553B",
           "#00cc96",
           "#ab63fa",
           "#FFA15A",
           "#19d3f3",
           "#FF6692",
           "#B6E880",
           "#FF97FF",
           "#FECB52"
          ],
          "font": {
           "color": "#2a3f5f"
          },
          "geo": {
           "bgcolor": "white",
           "lakecolor": "white",
           "landcolor": "white",
           "showlakes": true,
           "showland": true,
           "subunitcolor": "#C8D4E3"
          },
          "hoverlabel": {
           "align": "left"
          },
          "hovermode": "closest",
          "mapbox": {
           "style": "light"
          },
          "paper_bgcolor": "white",
          "plot_bgcolor": "white",
          "polar": {
           "angularaxis": {
            "gridcolor": "#EBF0F8",
            "linecolor": "#EBF0F8",
            "ticks": ""
           },
           "bgcolor": "white",
           "radialaxis": {
            "gridcolor": "#EBF0F8",
            "linecolor": "#EBF0F8",
            "ticks": ""
           }
          },
          "scene": {
           "xaxis": {
            "backgroundcolor": "white",
            "gridcolor": "#DFE8F3",
            "gridwidth": 2,
            "linecolor": "#EBF0F8",
            "showbackground": true,
            "ticks": "",
            "zerolinecolor": "#EBF0F8"
           },
           "yaxis": {
            "backgroundcolor": "white",
            "gridcolor": "#DFE8F3",
            "gridwidth": 2,
            "linecolor": "#EBF0F8",
            "showbackground": true,
            "ticks": "",
            "zerolinecolor": "#EBF0F8"
           },
           "zaxis": {
            "backgroundcolor": "white",
            "gridcolor": "#DFE8F3",
            "gridwidth": 2,
            "linecolor": "#EBF0F8",
            "showbackground": true,
            "ticks": "",
            "zerolinecolor": "#EBF0F8"
           }
          },
          "shapedefaults": {
           "line": {
            "color": "#2a3f5f"
           }
          },
          "ternary": {
           "aaxis": {
            "gridcolor": "#DFE8F3",
            "linecolor": "#A2B1C6",
            "ticks": ""
           },
           "baxis": {
            "gridcolor": "#DFE8F3",
            "linecolor": "#A2B1C6",
            "ticks": ""
           },
           "bgcolor": "white",
           "caxis": {
            "gridcolor": "#DFE8F3",
            "linecolor": "#A2B1C6",
            "ticks": ""
           }
          },
          "title": {
           "x": 0.05
          },
          "xaxis": {
           "automargin": true,
           "gridcolor": "#EBF0F8",
           "linecolor": "#EBF0F8",
           "ticks": "",
           "title": {
            "standoff": 15
           },
           "zerolinecolor": "#EBF0F8",
           "zerolinewidth": 2
          },
          "yaxis": {
           "automargin": true,
           "gridcolor": "#EBF0F8",
           "linecolor": "#EBF0F8",
           "ticks": "",
           "title": {
            "standoff": 15
           },
           "zerolinecolor": "#EBF0F8",
           "zerolinewidth": 2
          }
         }
        },
        "title": {
         "font": {
          "size": 20
         },
         "text": "Enhanced Erlang A Metrics"
        },
        "xaxis": {
         "title": {
          "text": "Arrival Rate (λ)"
         }
        },
        "yaxis": {
         "title": {
          "text": "Metrics"
         }
        }
       }
      }
     },
     "metadata": {},
     "output_type": "display_data"
    },
    {
     "data": {
      "text/plain": [
       "<function __main__.plot_erlang_a(lambda_val, mu_val, num_agents, gamma_val)>"
      ]
     },
     "execution_count": 1,
     "metadata": {},
     "output_type": "execute_result"
    }
   ],
   "source": [
    "import plotly.graph_objs as go\n",
    "import numpy as np\n",
    "from ipywidgets import interact\n",
    "from plotly.io import write_html\n",
    "\n",
    "# Function to compute and plot data\n",
    "def plot_erlang_a(lambda_val, mu_val, num_agents, gamma_val):\n",
    "    # Generate arrival rates for the x-axis\n",
    "    arrival_rates = np.linspace(10, lambda_val, 50)\n",
    "    abandonment_probs = np.clip(1 - (arrival_rates / (mu_val * num_agents)), 0, 1)  # Mock data\n",
    "    wait_times = np.clip(1 / (mu_val * (num_agents - arrival_rates / mu_val)), 0, 10)  # Mock data\n",
    "\n",
    "    # Create a Plotly graph\n",
    "    fig = go.Figure()\n",
    "\n",
    "    # Abandonment Probability Curve\n",
    "    fig.add_trace(go.Scatter(\n",
    "        x=arrival_rates,\n",
    "        y=abandonment_probs,\n",
    "        mode='lines',\n",
    "        name='Abandonment Probability',\n",
    "        line=dict(color='blue', width=2),\n",
    "        fill='tozeroy',  # Gradient fill to x-axis\n",
    "        fillcolor='rgba(135, 206, 250, 0.4)'\n",
    "    ))\n",
    "\n",
    "    # Average Wait Time Curve\n",
    "    fig.add_trace(go.Scatter(\n",
    "        x=arrival_rates,\n",
    "        y=wait_times,\n",
    "        mode='lines',\n",
    "        name='Average Wait Time',\n",
    "        line=dict(color='green', width=2, dash='dash'),\n",
    "        fill='tonexty',  # Gradient fill to the curve below\n",
    "        fillcolor='rgba(144, 238, 144, 0.4)'\n",
    "    ))\n",
    "\n",
    "    # Add annotations\n",
    "    max_abandonment = np.max(abandonment_probs)\n",
    "    max_wait_time = np.max(wait_times)\n",
    "    fig.add_annotation(\n",
    "        x=arrival_rates[np.argmax(abandonment_probs)],\n",
    "        y=max_abandonment,\n",
    "        text=f\"Max Abandonment: {max_abandonment:.2f}\",\n",
    "        showarrow=True,\n",
    "        arrowhead=2,\n",
    "        ax=-30,\n",
    "        ay=-50,\n",
    "        font=dict(color=\"blue\")\n",
    "    )\n",
    "    fig.add_annotation(\n",
    "        x=arrival_rates[np.argmax(wait_times)],\n",
    "        y=max_wait_time,\n",
    "        text=f\"Max Wait Time: {max_wait_time:.2f}\",\n",
    "        showarrow=True,\n",
    "        arrowhead=2,\n",
    "        ax=30,\n",
    "        ay=-50,\n",
    "        font=dict(color=\"green\")\n",
    "    )\n",
    "\n",
    "    # Update layout\n",
    "    fig.update_layout(\n",
    "        title=\"Enhanced Erlang A Metrics\",\n",
    "        xaxis_title=\"Arrival Rate (λ)\",\n",
    "        yaxis_title=\"Metrics\",\n",
    "        template=\"plotly_white\",\n",
    "        legend=dict(\n",
    "            bgcolor=\"rgba(255,255,255,0.8)\",\n",
    "            bordercolor=\"black\",\n",
    "            borderwidth=1\n",
    "        ),\n",
    "        font=dict(size=14),\n",
    "        title_font=dict(size=20)\n",
    "    )\n",
    "\n",
    "    # Show the graph\n",
    "    fig.show()\n",
    "\n",
    "    # Save the graph as an HTML file (optional)\n",
    "    write_html(fig, file=\"erlang_a_graph.html\", auto_open=False)\n",
    "\n",
    "# Create interactive sliders\n",
    "interact(\n",
    "    plot_erlang_a,\n",
    "    lambda_val=(10, 100, 5),\n",
    "    mu_val=(1, 20, 1),\n",
    "    num_agents=(1, 20, 1),\n",
    "    gamma_val=(0.01, 1.0, 0.01)\n",
    ")\n"
   ]
  },
  {
   "cell_type": "code",
   "execution_count": 2,
   "metadata": {},
   "outputs": [
    {
     "name": "stdout",
     "output_type": "stream",
     "text": [
      "/\n"
     ]
    }
   ],
   "source": [
    "import os\n",
    "print(os.getcwd())\n"
   ]
  },
  {
   "cell_type": "code",
   "execution_count": 5,
   "metadata": {},
   "outputs": [
    {
     "name": "stdout",
     "output_type": "stream",
     "text": [
      "/Users/michaeldagostino/Desktop\n"
     ]
    }
   ],
   "source": [
    "os.chdir(os.path.expanduser(\"~/Desktop\"))  # Change to Documents folder\n",
    "print(os.getcwd())  # Verify the current directory\n"
   ]
  },
  {
   "cell_type": "code",
   "execution_count": 4,
   "metadata": {},
   "outputs": [
    {
     "ename": "NameError",
     "evalue": "name 'fig' is not defined",
     "output_type": "error",
     "traceback": [
      "\u001b[0;31m---------------------------------------------------------------------------\u001b[0m",
      "\u001b[0;31mNameError\u001b[0m                                 Traceback (most recent call last)",
      "Cell \u001b[0;32mIn[4], line 5\u001b[0m\n\u001b[1;32m      3\u001b[0m \u001b[39m# Save the file in the current writable directory\u001b[39;00m\n\u001b[1;32m      4\u001b[0m output_path \u001b[39m=\u001b[39m Path(\u001b[39m\"\u001b[39m\u001b[39merlang_a_graph.html\u001b[39m\u001b[39m\"\u001b[39m)\n\u001b[0;32m----> 5\u001b[0m write_html(fig, file\u001b[39m=\u001b[39moutput_path, auto_open\u001b[39m=\u001b[39m\u001b[39mFalse\u001b[39;00m)\n\u001b[1;32m      6\u001b[0m \u001b[39mprint\u001b[39m(\u001b[39mf\u001b[39m\u001b[39m\"\u001b[39m\u001b[39mGraph saved to: \u001b[39m\u001b[39m{\u001b[39;00moutput_path\u001b[39m.\u001b[39mresolve()\u001b[39m}\u001b[39;00m\u001b[39m\"\u001b[39m)\n",
      "\u001b[0;31mNameError\u001b[0m: name 'fig' is not defined"
     ]
    }
   ],
   "source": [
    "from pathlib import Path\n",
    "\n",
    "# saving file\n",
    "output_path = Path(\"erlang_a_graph.html\")\n",
    "write_html(fig, file=output_path, auto_open=False)\n",
    "print(f\"Graph saved to: {output_path.resolve()}\")\n"
   ]
  },
  {
   "cell_type": "code",
   "execution_count": 6,
   "metadata": {},
   "outputs": [
    {
     "name": "stderr",
     "output_type": "stream",
     "text": [
      "/var/folders/26/ltg48tsj35q_21q6yh7mpblr0000gn/T/ipykernel_22450/1791121496.py:7: RuntimeWarning:\n",
      "\n",
      "divide by zero encountered in divide\n",
      "\n"
     ]
    },
    {
     "data": {
      "application/vnd.plotly.v1+json": {
       "config": {
        "plotlyServerURL": "https://plot.ly"
       },
       "data": [
        {
         "fill": "tozeroy",
         "fillcolor": "rgba(135, 206, 250, 0.4)",
         "line": {
          "color": "blue",
          "width": 2
         },
         "mode": "lines",
         "name": "Abandonment Probability",
         "type": "scatter",
         "x": [
          10,
          11.83673469387755,
          13.673469387755102,
          15.510204081632654,
          17.346938775510203,
          19.183673469387756,
          21.02040816326531,
          22.857142857142858,
          24.693877551020407,
          26.53061224489796,
          28.367346938775512,
          30.20408163265306,
          32.04081632653062,
          33.87755102040816,
          35.714285714285715,
          37.55102040816327,
          39.38775510204081,
          41.22448979591837,
          43.06122448979592,
          44.89795918367347,
          46.734693877551024,
          48.57142857142857,
          50.40816326530612,
          52.244897959183675,
          54.08163265306123,
          55.91836734693878,
          57.755102040816325,
          59.59183673469388,
          61.42857142857143,
          63.26530612244898,
          65.10204081632654,
          66.93877551020408,
          68.77551020408163,
          70.61224489795919,
          72.44897959183675,
          74.28571428571429,
          76.12244897959184,
          77.95918367346938,
          79.79591836734694,
          81.63265306122449,
          83.46938775510205,
          85.3061224489796,
          87.14285714285714,
          88.9795918367347,
          90.81632653061224,
          92.6530612244898,
          94.48979591836735,
          96.3265306122449,
          98.16326530612245,
          100
         ],
         "y": [
          0.9,
          0.8816326530612245,
          0.863265306122449,
          0.8448979591836735,
          0.826530612244898,
          0.8081632653061225,
          0.7897959183673469,
          0.7714285714285715,
          0.753061224489796,
          0.7346938775510203,
          0.7163265306122448,
          0.6979591836734693,
          0.6795918367346938,
          0.6612244897959183,
          0.6428571428571428,
          0.6244897959183673,
          0.6061224489795919,
          0.5877551020408163,
          0.5693877551020408,
          0.5510204081632653,
          0.5326530612244897,
          0.5142857142857142,
          0.4959183673469387,
          0.4775510204081632,
          0.4591836734693877,
          0.4408163265306122,
          0.4224489795918367,
          0.4040816326530612,
          0.3857142857142857,
          0.36734693877551017,
          0.34897959183673466,
          0.33061224489795915,
          0.31224489795918375,
          0.29387755102040813,
          0.2755102040816325,
          0.2571428571428571,
          0.2387755102040816,
          0.2204081632653062,
          0.2020408163265306,
          0.18367346938775508,
          0.16530612244897958,
          0.14693877551020407,
          0.12857142857142856,
          0.11020408163265305,
          0.09183673469387754,
          0.07346938775510192,
          0.055102040816326525,
          0.03673469387755102,
          0.01836734693877551,
          0
         ]
        },
        {
         "fill": "tonexty",
         "fillcolor": "rgba(144, 238, 144, 0.4)",
         "line": {
          "color": "green",
          "dash": "dash",
          "width": 2
         },
         "mode": "lines",
         "name": "Average Wait Time",
         "type": "scatter",
         "x": [
          10,
          11.83673469387755,
          13.673469387755102,
          15.510204081632654,
          17.346938775510203,
          19.183673469387756,
          21.02040816326531,
          22.857142857142858,
          24.693877551020407,
          26.53061224489796,
          28.367346938775512,
          30.20408163265306,
          32.04081632653062,
          33.87755102040816,
          35.714285714285715,
          37.55102040816327,
          39.38775510204081,
          41.22448979591837,
          43.06122448979592,
          44.89795918367347,
          46.734693877551024,
          48.57142857142857,
          50.40816326530612,
          52.244897959183675,
          54.08163265306123,
          55.91836734693878,
          57.755102040816325,
          59.59183673469388,
          61.42857142857143,
          63.26530612244898,
          65.10204081632654,
          66.93877551020408,
          68.77551020408163,
          70.61224489795919,
          72.44897959183675,
          74.28571428571429,
          76.12244897959184,
          77.95918367346938,
          79.79591836734694,
          81.63265306122449,
          83.46938775510205,
          85.3061224489796,
          87.14285714285714,
          88.9795918367347,
          90.81632653061224,
          92.6530612244898,
          94.48979591836735,
          96.3265306122449,
          98.16326530612245,
          100
         ],
         "y": [
          0.011111111111111112,
          0.011342592592592593,
          0.011583924349881798,
          0.011835748792270532,
          0.012098765432098766,
          0.012373737373737375,
          0.012661498708010335,
          0.012962962962962964,
          0.013279132791327914,
          0.01361111111111111,
          0.01396011396011396,
          0.014327485380116958,
          0.014714714714714716,
          0.015123456790123457,
          0.015555555555555553,
          0.01601307189542484,
          0.016498316498316498,
          0.01701388888888889,
          0.01756272401433692,
          0.018148148148148153,
          0.018773946360153258,
          0.019444444444444445,
          0.02016460905349794,
          0.020940170940170942,
          0.021777777777777778,
          0.022685185185185187,
          0.02367149758454106,
          0.02474747474747475,
          0.02592592592592593,
          0.027222222222222224,
          0.028654970760233923,
          0.030246913580246913,
          0.03202614379084967,
          0.03402777777777778,
          0.03629629629629631,
          0.03888888888888889,
          0.041880341880341884,
          0.04537037037037036,
          0.0494949494949495,
          0.05444444444444445,
          0.06049382716049387,
          0.06805555555555556,
          0.07777777777777774,
          0.09074074074074075,
          0.1088888888888888,
          0.13611111111111113,
          0.1814814814814818,
          0.27222222222222225,
          0.5444444444444472,
          10
         ]
        }
       ],
       "layout": {
        "font": {
         "size": 14
        },
        "legend": {
         "bgcolor": "rgba(255,255,255,0.8)",
         "bordercolor": "black",
         "borderwidth": 1
        },
        "template": {
         "data": {
          "bar": [
           {
            "error_x": {
             "color": "#2a3f5f"
            },
            "error_y": {
             "color": "#2a3f5f"
            },
            "marker": {
             "line": {
              "color": "white",
              "width": 0.5
             },
             "pattern": {
              "fillmode": "overlay",
              "size": 10,
              "solidity": 0.2
             }
            },
            "type": "bar"
           }
          ],
          "barpolar": [
           {
            "marker": {
             "line": {
              "color": "white",
              "width": 0.5
             },
             "pattern": {
              "fillmode": "overlay",
              "size": 10,
              "solidity": 0.2
             }
            },
            "type": "barpolar"
           }
          ],
          "carpet": [
           {
            "aaxis": {
             "endlinecolor": "#2a3f5f",
             "gridcolor": "#C8D4E3",
             "linecolor": "#C8D4E3",
             "minorgridcolor": "#C8D4E3",
             "startlinecolor": "#2a3f5f"
            },
            "baxis": {
             "endlinecolor": "#2a3f5f",
             "gridcolor": "#C8D4E3",
             "linecolor": "#C8D4E3",
             "minorgridcolor": "#C8D4E3",
             "startlinecolor": "#2a3f5f"
            },
            "type": "carpet"
           }
          ],
          "choropleth": [
           {
            "colorbar": {
             "outlinewidth": 0,
             "ticks": ""
            },
            "type": "choropleth"
           }
          ],
          "contour": [
           {
            "colorbar": {
             "outlinewidth": 0,
             "ticks": ""
            },
            "colorscale": [
             [
              0,
              "#0d0887"
             ],
             [
              0.1111111111111111,
              "#46039f"
             ],
             [
              0.2222222222222222,
              "#7201a8"
             ],
             [
              0.3333333333333333,
              "#9c179e"
             ],
             [
              0.4444444444444444,
              "#bd3786"
             ],
             [
              0.5555555555555556,
              "#d8576b"
             ],
             [
              0.6666666666666666,
              "#ed7953"
             ],
             [
              0.7777777777777778,
              "#fb9f3a"
             ],
             [
              0.8888888888888888,
              "#fdca26"
             ],
             [
              1,
              "#f0f921"
             ]
            ],
            "type": "contour"
           }
          ],
          "contourcarpet": [
           {
            "colorbar": {
             "outlinewidth": 0,
             "ticks": ""
            },
            "type": "contourcarpet"
           }
          ],
          "heatmap": [
           {
            "colorbar": {
             "outlinewidth": 0,
             "ticks": ""
            },
            "colorscale": [
             [
              0,
              "#0d0887"
             ],
             [
              0.1111111111111111,
              "#46039f"
             ],
             [
              0.2222222222222222,
              "#7201a8"
             ],
             [
              0.3333333333333333,
              "#9c179e"
             ],
             [
              0.4444444444444444,
              "#bd3786"
             ],
             [
              0.5555555555555556,
              "#d8576b"
             ],
             [
              0.6666666666666666,
              "#ed7953"
             ],
             [
              0.7777777777777778,
              "#fb9f3a"
             ],
             [
              0.8888888888888888,
              "#fdca26"
             ],
             [
              1,
              "#f0f921"
             ]
            ],
            "type": "heatmap"
           }
          ],
          "heatmapgl": [
           {
            "colorbar": {
             "outlinewidth": 0,
             "ticks": ""
            },
            "colorscale": [
             [
              0,
              "#0d0887"
             ],
             [
              0.1111111111111111,
              "#46039f"
             ],
             [
              0.2222222222222222,
              "#7201a8"
             ],
             [
              0.3333333333333333,
              "#9c179e"
             ],
             [
              0.4444444444444444,
              "#bd3786"
             ],
             [
              0.5555555555555556,
              "#d8576b"
             ],
             [
              0.6666666666666666,
              "#ed7953"
             ],
             [
              0.7777777777777778,
              "#fb9f3a"
             ],
             [
              0.8888888888888888,
              "#fdca26"
             ],
             [
              1,
              "#f0f921"
             ]
            ],
            "type": "heatmapgl"
           }
          ],
          "histogram": [
           {
            "marker": {
             "pattern": {
              "fillmode": "overlay",
              "size": 10,
              "solidity": 0.2
             }
            },
            "type": "histogram"
           }
          ],
          "histogram2d": [
           {
            "colorbar": {
             "outlinewidth": 0,
             "ticks": ""
            },
            "colorscale": [
             [
              0,
              "#0d0887"
             ],
             [
              0.1111111111111111,
              "#46039f"
             ],
             [
              0.2222222222222222,
              "#7201a8"
             ],
             [
              0.3333333333333333,
              "#9c179e"
             ],
             [
              0.4444444444444444,
              "#bd3786"
             ],
             [
              0.5555555555555556,
              "#d8576b"
             ],
             [
              0.6666666666666666,
              "#ed7953"
             ],
             [
              0.7777777777777778,
              "#fb9f3a"
             ],
             [
              0.8888888888888888,
              "#fdca26"
             ],
             [
              1,
              "#f0f921"
             ]
            ],
            "type": "histogram2d"
           }
          ],
          "histogram2dcontour": [
           {
            "colorbar": {
             "outlinewidth": 0,
             "ticks": ""
            },
            "colorscale": [
             [
              0,
              "#0d0887"
             ],
             [
              0.1111111111111111,
              "#46039f"
             ],
             [
              0.2222222222222222,
              "#7201a8"
             ],
             [
              0.3333333333333333,
              "#9c179e"
             ],
             [
              0.4444444444444444,
              "#bd3786"
             ],
             [
              0.5555555555555556,
              "#d8576b"
             ],
             [
              0.6666666666666666,
              "#ed7953"
             ],
             [
              0.7777777777777778,
              "#fb9f3a"
             ],
             [
              0.8888888888888888,
              "#fdca26"
             ],
             [
              1,
              "#f0f921"
             ]
            ],
            "type": "histogram2dcontour"
           }
          ],
          "mesh3d": [
           {
            "colorbar": {
             "outlinewidth": 0,
             "ticks": ""
            },
            "type": "mesh3d"
           }
          ],
          "parcoords": [
           {
            "line": {
             "colorbar": {
              "outlinewidth": 0,
              "ticks": ""
             }
            },
            "type": "parcoords"
           }
          ],
          "pie": [
           {
            "automargin": true,
            "type": "pie"
           }
          ],
          "scatter": [
           {
            "fillpattern": {
             "fillmode": "overlay",
             "size": 10,
             "solidity": 0.2
            },
            "type": "scatter"
           }
          ],
          "scatter3d": [
           {
            "line": {
             "colorbar": {
              "outlinewidth": 0,
              "ticks": ""
             }
            },
            "marker": {
             "colorbar": {
              "outlinewidth": 0,
              "ticks": ""
             }
            },
            "type": "scatter3d"
           }
          ],
          "scattercarpet": [
           {
            "marker": {
             "colorbar": {
              "outlinewidth": 0,
              "ticks": ""
             }
            },
            "type": "scattercarpet"
           }
          ],
          "scattergeo": [
           {
            "marker": {
             "colorbar": {
              "outlinewidth": 0,
              "ticks": ""
             }
            },
            "type": "scattergeo"
           }
          ],
          "scattergl": [
           {
            "marker": {
             "colorbar": {
              "outlinewidth": 0,
              "ticks": ""
             }
            },
            "type": "scattergl"
           }
          ],
          "scattermapbox": [
           {
            "marker": {
             "colorbar": {
              "outlinewidth": 0,
              "ticks": ""
             }
            },
            "type": "scattermapbox"
           }
          ],
          "scatterpolar": [
           {
            "marker": {
             "colorbar": {
              "outlinewidth": 0,
              "ticks": ""
             }
            },
            "type": "scatterpolar"
           }
          ],
          "scatterpolargl": [
           {
            "marker": {
             "colorbar": {
              "outlinewidth": 0,
              "ticks": ""
             }
            },
            "type": "scatterpolargl"
           }
          ],
          "scatterternary": [
           {
            "marker": {
             "colorbar": {
              "outlinewidth": 0,
              "ticks": ""
             }
            },
            "type": "scatterternary"
           }
          ],
          "surface": [
           {
            "colorbar": {
             "outlinewidth": 0,
             "ticks": ""
            },
            "colorscale": [
             [
              0,
              "#0d0887"
             ],
             [
              0.1111111111111111,
              "#46039f"
             ],
             [
              0.2222222222222222,
              "#7201a8"
             ],
             [
              0.3333333333333333,
              "#9c179e"
             ],
             [
              0.4444444444444444,
              "#bd3786"
             ],
             [
              0.5555555555555556,
              "#d8576b"
             ],
             [
              0.6666666666666666,
              "#ed7953"
             ],
             [
              0.7777777777777778,
              "#fb9f3a"
             ],
             [
              0.8888888888888888,
              "#fdca26"
             ],
             [
              1,
              "#f0f921"
             ]
            ],
            "type": "surface"
           }
          ],
          "table": [
           {
            "cells": {
             "fill": {
              "color": "#EBF0F8"
             },
             "line": {
              "color": "white"
             }
            },
            "header": {
             "fill": {
              "color": "#C8D4E3"
             },
             "line": {
              "color": "white"
             }
            },
            "type": "table"
           }
          ]
         },
         "layout": {
          "annotationdefaults": {
           "arrowcolor": "#2a3f5f",
           "arrowhead": 0,
           "arrowwidth": 1
          },
          "autotypenumbers": "strict",
          "coloraxis": {
           "colorbar": {
            "outlinewidth": 0,
            "ticks": ""
           }
          },
          "colorscale": {
           "diverging": [
            [
             0,
             "#8e0152"
            ],
            [
             0.1,
             "#c51b7d"
            ],
            [
             0.2,
             "#de77ae"
            ],
            [
             0.3,
             "#f1b6da"
            ],
            [
             0.4,
             "#fde0ef"
            ],
            [
             0.5,
             "#f7f7f7"
            ],
            [
             0.6,
             "#e6f5d0"
            ],
            [
             0.7,
             "#b8e186"
            ],
            [
             0.8,
             "#7fbc41"
            ],
            [
             0.9,
             "#4d9221"
            ],
            [
             1,
             "#276419"
            ]
           ],
           "sequential": [
            [
             0,
             "#0d0887"
            ],
            [
             0.1111111111111111,
             "#46039f"
            ],
            [
             0.2222222222222222,
             "#7201a8"
            ],
            [
             0.3333333333333333,
             "#9c179e"
            ],
            [
             0.4444444444444444,
             "#bd3786"
            ],
            [
             0.5555555555555556,
             "#d8576b"
            ],
            [
             0.6666666666666666,
             "#ed7953"
            ],
            [
             0.7777777777777778,
             "#fb9f3a"
            ],
            [
             0.8888888888888888,
             "#fdca26"
            ],
            [
             1,
             "#f0f921"
            ]
           ],
           "sequentialminus": [
            [
             0,
             "#0d0887"
            ],
            [
             0.1111111111111111,
             "#46039f"
            ],
            [
             0.2222222222222222,
             "#7201a8"
            ],
            [
             0.3333333333333333,
             "#9c179e"
            ],
            [
             0.4444444444444444,
             "#bd3786"
            ],
            [
             0.5555555555555556,
             "#d8576b"
            ],
            [
             0.6666666666666666,
             "#ed7953"
            ],
            [
             0.7777777777777778,
             "#fb9f3a"
            ],
            [
             0.8888888888888888,
             "#fdca26"
            ],
            [
             1,
             "#f0f921"
            ]
           ]
          },
          "colorway": [
           "#636efa",
           "#EF553B",
           "#00cc96",
           "#ab63fa",
           "#FFA15A",
           "#19d3f3",
           "#FF6692",
           "#B6E880",
           "#FF97FF",
           "#FECB52"
          ],
          "font": {
           "color": "#2a3f5f"
          },
          "geo": {
           "bgcolor": "white",
           "lakecolor": "white",
           "landcolor": "white",
           "showlakes": true,
           "showland": true,
           "subunitcolor": "#C8D4E3"
          },
          "hoverlabel": {
           "align": "left"
          },
          "hovermode": "closest",
          "mapbox": {
           "style": "light"
          },
          "paper_bgcolor": "white",
          "plot_bgcolor": "white",
          "polar": {
           "angularaxis": {
            "gridcolor": "#EBF0F8",
            "linecolor": "#EBF0F8",
            "ticks": ""
           },
           "bgcolor": "white",
           "radialaxis": {
            "gridcolor": "#EBF0F8",
            "linecolor": "#EBF0F8",
            "ticks": ""
           }
          },
          "scene": {
           "xaxis": {
            "backgroundcolor": "white",
            "gridcolor": "#DFE8F3",
            "gridwidth": 2,
            "linecolor": "#EBF0F8",
            "showbackground": true,
            "ticks": "",
            "zerolinecolor": "#EBF0F8"
           },
           "yaxis": {
            "backgroundcolor": "white",
            "gridcolor": "#DFE8F3",
            "gridwidth": 2,
            "linecolor": "#EBF0F8",
            "showbackground": true,
            "ticks": "",
            "zerolinecolor": "#EBF0F8"
           },
           "zaxis": {
            "backgroundcolor": "white",
            "gridcolor": "#DFE8F3",
            "gridwidth": 2,
            "linecolor": "#EBF0F8",
            "showbackground": true,
            "ticks": "",
            "zerolinecolor": "#EBF0F8"
           }
          },
          "shapedefaults": {
           "line": {
            "color": "#2a3f5f"
           }
          },
          "ternary": {
           "aaxis": {
            "gridcolor": "#DFE8F3",
            "linecolor": "#A2B1C6",
            "ticks": ""
           },
           "baxis": {
            "gridcolor": "#DFE8F3",
            "linecolor": "#A2B1C6",
            "ticks": ""
           },
           "bgcolor": "white",
           "caxis": {
            "gridcolor": "#DFE8F3",
            "linecolor": "#A2B1C6",
            "ticks": ""
           }
          },
          "title": {
           "x": 0.05
          },
          "xaxis": {
           "automargin": true,
           "gridcolor": "#EBF0F8",
           "linecolor": "#EBF0F8",
           "ticks": "",
           "title": {
            "standoff": 15
           },
           "zerolinecolor": "#EBF0F8",
           "zerolinewidth": 2
          },
          "yaxis": {
           "automargin": true,
           "gridcolor": "#EBF0F8",
           "linecolor": "#EBF0F8",
           "ticks": "",
           "title": {
            "standoff": 15
           },
           "zerolinecolor": "#EBF0F8",
           "zerolinewidth": 2
          }
         }
        },
        "title": {
         "font": {
          "size": 20
         },
         "text": "Enhanced Erlang A Metrics"
        },
        "xaxis": {
         "title": {
          "text": "Arrival Rate (λ)"
         }
        },
        "yaxis": {
         "title": {
          "text": "Metrics"
         }
        }
       }
      }
     },
     "metadata": {},
     "output_type": "display_data"
    }
   ],
   "source": [
    "import plotly.graph_objs as go\n",
    "import numpy as np\n",
    "\n",
    "# sample data -- testing\n",
    "arrival_rates = np.linspace(10, 100, 50)\n",
    "abandonment_probs = np.clip(1 - (arrival_rates / (10 * 10)), 0, 1)  # Mock data\n",
    "wait_times = np.clip(1 / (10 * (10 - arrival_rates / 10)), 0, 10)  # Mock data\n",
    "\n",
    "# creating plotly\n",
    "fig = go.Figure()\n",
    "\n",
    "# P(abdandoment) curve\n",
    "fig.add_trace(go.Scatter(\n",
    "    x=arrival_rates,\n",
    "    y=abandonment_probs,\n",
    "    mode='lines',\n",
    "    name='Abandonment Probability',\n",
    "    line=dict(color='blue', width=2),\n",
    "    fill='tozeroy',\n",
    "    fillcolor='rgba(135, 206, 250, 0.4)'\n",
    "))\n",
    "\n",
    "# avg wait time curve\n",
    "fig.add_trace(go.Scatter(\n",
    "    x=arrival_rates,\n",
    "    y=wait_times,\n",
    "    mode='lines',\n",
    "    name='Average Wait Time',\n",
    "    line=dict(color='green', width=2, dash='dash'),\n",
    "    fill='tonexty',\n",
    "    fillcolor='rgba(144, 238, 144, 0.4)'\n",
    "))\n",
    "\n",
    "# updating layout\n",
    "fig.update_layout(\n",
    "    title=\"Enhanced Erlang A Metrics\",\n",
    "    xaxis_title=\"Arrival Rate (λ)\",\n",
    "    yaxis_title=\"Metrics\",\n",
    "    template=\"plotly_white\",\n",
    "    legend=dict(\n",
    "        bgcolor=\"rgba(255,255,255,0.8)\",\n",
    "        bordercolor=\"black\",\n",
    "        borderwidth=1\n",
    "    ),\n",
    "    font=dict(size=14),\n",
    "    title_font=dict(size=20)\n",
    ")\n"
   ]
  },
  {
   "cell_type": "code",
   "execution_count": 7,
   "metadata": {},
   "outputs": [
    {
     "name": "stdout",
     "output_type": "stream",
     "text": [
      "Graph saved to: /Users/michaeldagostino/Desktop/erlang_a_graph.html\n"
     ]
    }
   ],
   "source": [
    "from pathlib import Path\n",
    "from plotly.io import write_html\n",
    "\n",
    "# saving file\n",
    "output_path = Path(\"erlang_a_graph.html\")\n",
    "write_html(fig, file=output_path, auto_open=False)\n",
    "print(f\"Graph saved to: {output_path.resolve()}\")\n"
   ]
  },
  {
   "cell_type": "code",
   "execution_count": 8,
   "metadata": {},
   "outputs": [
    {
     "data": {
      "application/vnd.plotly.v1+json": {
       "config": {
        "plotlyServerURL": "https://plot.ly"
       },
       "data": [
        {
         "fill": "tozeroy",
         "fillcolor": "rgba(135, 206, 250, 0.4)",
         "line": {
          "color": "blue",
          "width": 2
         },
         "mode": "lines",
         "name": "Abandonment Probability",
         "type": "scatter",
         "x": [
          10,
          11.83673469387755,
          13.673469387755102,
          15.510204081632654,
          17.346938775510203,
          19.183673469387756,
          21.02040816326531,
          22.857142857142858,
          24.693877551020407,
          26.53061224489796,
          28.367346938775512,
          30.20408163265306,
          32.04081632653062,
          33.87755102040816,
          35.714285714285715,
          37.55102040816327,
          39.38775510204081,
          41.22448979591837,
          43.06122448979592,
          44.89795918367347,
          46.734693877551024,
          48.57142857142857,
          50.40816326530612,
          52.244897959183675,
          54.08163265306123,
          55.91836734693878,
          57.755102040816325,
          59.59183673469388,
          61.42857142857143,
          63.26530612244898,
          65.10204081632654,
          66.93877551020408,
          68.77551020408163,
          70.61224489795919,
          72.44897959183675,
          74.28571428571429,
          76.12244897959184,
          77.95918367346938,
          79.79591836734694,
          81.63265306122449,
          83.46938775510205,
          85.3061224489796,
          87.14285714285714,
          88.9795918367347,
          90.81632653061224,
          92.6530612244898,
          94.48979591836735,
          96.3265306122449,
          98.16326530612245,
          100
         ],
         "y": [
          0.9,
          0.8816326530612245,
          0.863265306122449,
          0.8448979591836735,
          0.826530612244898,
          0.8081632653061225,
          0.7897959183673469,
          0.7714285714285715,
          0.753061224489796,
          0.7346938775510203,
          0.7163265306122448,
          0.6979591836734693,
          0.6795918367346938,
          0.6612244897959183,
          0.6428571428571428,
          0.6244897959183673,
          0.6061224489795919,
          0.5877551020408163,
          0.5693877551020408,
          0.5510204081632653,
          0.5326530612244897,
          0.5142857142857142,
          0.4959183673469387,
          0.4775510204081632,
          0.4591836734693877,
          0.4408163265306122,
          0.4224489795918367,
          0.4040816326530612,
          0.3857142857142857,
          0.36734693877551017,
          0.34897959183673466,
          0.33061224489795915,
          0.31224489795918375,
          0.29387755102040813,
          0.2755102040816325,
          0.2571428571428571,
          0.2387755102040816,
          0.2204081632653062,
          0.2020408163265306,
          0.18367346938775508,
          0.16530612244897958,
          0.14693877551020407,
          0.12857142857142856,
          0.11020408163265305,
          0.09183673469387754,
          0.07346938775510192,
          0.055102040816326525,
          0.03673469387755102,
          0.01836734693877551,
          0
         ]
        },
        {
         "fill": "tonexty",
         "fillcolor": "rgba(144, 238, 144, 0.4)",
         "line": {
          "color": "green",
          "dash": "dash",
          "width": 2
         },
         "mode": "lines",
         "name": "Average Wait Time",
         "type": "scatter",
         "x": [
          10,
          11.83673469387755,
          13.673469387755102,
          15.510204081632654,
          17.346938775510203,
          19.183673469387756,
          21.02040816326531,
          22.857142857142858,
          24.693877551020407,
          26.53061224489796,
          28.367346938775512,
          30.20408163265306,
          32.04081632653062,
          33.87755102040816,
          35.714285714285715,
          37.55102040816327,
          39.38775510204081,
          41.22448979591837,
          43.06122448979592,
          44.89795918367347,
          46.734693877551024,
          48.57142857142857,
          50.40816326530612,
          52.244897959183675,
          54.08163265306123,
          55.91836734693878,
          57.755102040816325,
          59.59183673469388,
          61.42857142857143,
          63.26530612244898,
          65.10204081632654,
          66.93877551020408,
          68.77551020408163,
          70.61224489795919,
          72.44897959183675,
          74.28571428571429,
          76.12244897959184,
          77.95918367346938,
          79.79591836734694,
          81.63265306122449,
          83.46938775510205,
          85.3061224489796,
          87.14285714285714,
          88.9795918367347,
          90.81632653061224,
          92.6530612244898,
          94.48979591836735,
          96.3265306122449,
          98.16326530612245,
          100
         ],
         "y": [
          0.011111111111111112,
          0.011342592592592593,
          0.011583924349881798,
          0.011835748792270532,
          0.012098765432098766,
          0.012373737373737375,
          0.012661498708010335,
          0.012962962962962964,
          0.013279132791327914,
          0.01361111111111111,
          0.01396011396011396,
          0.014327485380116958,
          0.014714714714714716,
          0.015123456790123457,
          0.015555555555555553,
          0.01601307189542484,
          0.016498316498316498,
          0.01701388888888889,
          0.01756272401433692,
          0.018148148148148153,
          0.018773946360153258,
          0.019444444444444445,
          0.02016460905349794,
          0.020940170940170942,
          0.021777777777777778,
          0.022685185185185187,
          0.02367149758454106,
          0.02474747474747475,
          0.02592592592592593,
          0.027222222222222224,
          0.028654970760233923,
          0.030246913580246913,
          0.03202614379084967,
          0.03402777777777778,
          0.03629629629629631,
          0.03888888888888889,
          0.041880341880341884,
          0.04537037037037036,
          0.0494949494949495,
          0.05444444444444445,
          0.06049382716049387,
          0.06805555555555556,
          0.07777777777777774,
          0.09074074074074075,
          0.1088888888888888,
          0.13611111111111113,
          0.1814814814814818,
          0.27222222222222225,
          0.5444444444444472,
          10
         ]
        }
       ],
       "layout": {
        "font": {
         "size": 14
        },
        "legend": {
         "bgcolor": "rgba(255,255,255,0.8)",
         "bordercolor": "black",
         "borderwidth": 1
        },
        "template": {
         "data": {
          "bar": [
           {
            "error_x": {
             "color": "#2a3f5f"
            },
            "error_y": {
             "color": "#2a3f5f"
            },
            "marker": {
             "line": {
              "color": "white",
              "width": 0.5
             },
             "pattern": {
              "fillmode": "overlay",
              "size": 10,
              "solidity": 0.2
             }
            },
            "type": "bar"
           }
          ],
          "barpolar": [
           {
            "marker": {
             "line": {
              "color": "white",
              "width": 0.5
             },
             "pattern": {
              "fillmode": "overlay",
              "size": 10,
              "solidity": 0.2
             }
            },
            "type": "barpolar"
           }
          ],
          "carpet": [
           {
            "aaxis": {
             "endlinecolor": "#2a3f5f",
             "gridcolor": "#C8D4E3",
             "linecolor": "#C8D4E3",
             "minorgridcolor": "#C8D4E3",
             "startlinecolor": "#2a3f5f"
            },
            "baxis": {
             "endlinecolor": "#2a3f5f",
             "gridcolor": "#C8D4E3",
             "linecolor": "#C8D4E3",
             "minorgridcolor": "#C8D4E3",
             "startlinecolor": "#2a3f5f"
            },
            "type": "carpet"
           }
          ],
          "choropleth": [
           {
            "colorbar": {
             "outlinewidth": 0,
             "ticks": ""
            },
            "type": "choropleth"
           }
          ],
          "contour": [
           {
            "colorbar": {
             "outlinewidth": 0,
             "ticks": ""
            },
            "colorscale": [
             [
              0,
              "#0d0887"
             ],
             [
              0.1111111111111111,
              "#46039f"
             ],
             [
              0.2222222222222222,
              "#7201a8"
             ],
             [
              0.3333333333333333,
              "#9c179e"
             ],
             [
              0.4444444444444444,
              "#bd3786"
             ],
             [
              0.5555555555555556,
              "#d8576b"
             ],
             [
              0.6666666666666666,
              "#ed7953"
             ],
             [
              0.7777777777777778,
              "#fb9f3a"
             ],
             [
              0.8888888888888888,
              "#fdca26"
             ],
             [
              1,
              "#f0f921"
             ]
            ],
            "type": "contour"
           }
          ],
          "contourcarpet": [
           {
            "colorbar": {
             "outlinewidth": 0,
             "ticks": ""
            },
            "type": "contourcarpet"
           }
          ],
          "heatmap": [
           {
            "colorbar": {
             "outlinewidth": 0,
             "ticks": ""
            },
            "colorscale": [
             [
              0,
              "#0d0887"
             ],
             [
              0.1111111111111111,
              "#46039f"
             ],
             [
              0.2222222222222222,
              "#7201a8"
             ],
             [
              0.3333333333333333,
              "#9c179e"
             ],
             [
              0.4444444444444444,
              "#bd3786"
             ],
             [
              0.5555555555555556,
              "#d8576b"
             ],
             [
              0.6666666666666666,
              "#ed7953"
             ],
             [
              0.7777777777777778,
              "#fb9f3a"
             ],
             [
              0.8888888888888888,
              "#fdca26"
             ],
             [
              1,
              "#f0f921"
             ]
            ],
            "type": "heatmap"
           }
          ],
          "heatmapgl": [
           {
            "colorbar": {
             "outlinewidth": 0,
             "ticks": ""
            },
            "colorscale": [
             [
              0,
              "#0d0887"
             ],
             [
              0.1111111111111111,
              "#46039f"
             ],
             [
              0.2222222222222222,
              "#7201a8"
             ],
             [
              0.3333333333333333,
              "#9c179e"
             ],
             [
              0.4444444444444444,
              "#bd3786"
             ],
             [
              0.5555555555555556,
              "#d8576b"
             ],
             [
              0.6666666666666666,
              "#ed7953"
             ],
             [
              0.7777777777777778,
              "#fb9f3a"
             ],
             [
              0.8888888888888888,
              "#fdca26"
             ],
             [
              1,
              "#f0f921"
             ]
            ],
            "type": "heatmapgl"
           }
          ],
          "histogram": [
           {
            "marker": {
             "pattern": {
              "fillmode": "overlay",
              "size": 10,
              "solidity": 0.2
             }
            },
            "type": "histogram"
           }
          ],
          "histogram2d": [
           {
            "colorbar": {
             "outlinewidth": 0,
             "ticks": ""
            },
            "colorscale": [
             [
              0,
              "#0d0887"
             ],
             [
              0.1111111111111111,
              "#46039f"
             ],
             [
              0.2222222222222222,
              "#7201a8"
             ],
             [
              0.3333333333333333,
              "#9c179e"
             ],
             [
              0.4444444444444444,
              "#bd3786"
             ],
             [
              0.5555555555555556,
              "#d8576b"
             ],
             [
              0.6666666666666666,
              "#ed7953"
             ],
             [
              0.7777777777777778,
              "#fb9f3a"
             ],
             [
              0.8888888888888888,
              "#fdca26"
             ],
             [
              1,
              "#f0f921"
             ]
            ],
            "type": "histogram2d"
           }
          ],
          "histogram2dcontour": [
           {
            "colorbar": {
             "outlinewidth": 0,
             "ticks": ""
            },
            "colorscale": [
             [
              0,
              "#0d0887"
             ],
             [
              0.1111111111111111,
              "#46039f"
             ],
             [
              0.2222222222222222,
              "#7201a8"
             ],
             [
              0.3333333333333333,
              "#9c179e"
             ],
             [
              0.4444444444444444,
              "#bd3786"
             ],
             [
              0.5555555555555556,
              "#d8576b"
             ],
             [
              0.6666666666666666,
              "#ed7953"
             ],
             [
              0.7777777777777778,
              "#fb9f3a"
             ],
             [
              0.8888888888888888,
              "#fdca26"
             ],
             [
              1,
              "#f0f921"
             ]
            ],
            "type": "histogram2dcontour"
           }
          ],
          "mesh3d": [
           {
            "colorbar": {
             "outlinewidth": 0,
             "ticks": ""
            },
            "type": "mesh3d"
           }
          ],
          "parcoords": [
           {
            "line": {
             "colorbar": {
              "outlinewidth": 0,
              "ticks": ""
             }
            },
            "type": "parcoords"
           }
          ],
          "pie": [
           {
            "automargin": true,
            "type": "pie"
           }
          ],
          "scatter": [
           {
            "fillpattern": {
             "fillmode": "overlay",
             "size": 10,
             "solidity": 0.2
            },
            "type": "scatter"
           }
          ],
          "scatter3d": [
           {
            "line": {
             "colorbar": {
              "outlinewidth": 0,
              "ticks": ""
             }
            },
            "marker": {
             "colorbar": {
              "outlinewidth": 0,
              "ticks": ""
             }
            },
            "type": "scatter3d"
           }
          ],
          "scattercarpet": [
           {
            "marker": {
             "colorbar": {
              "outlinewidth": 0,
              "ticks": ""
             }
            },
            "type": "scattercarpet"
           }
          ],
          "scattergeo": [
           {
            "marker": {
             "colorbar": {
              "outlinewidth": 0,
              "ticks": ""
             }
            },
            "type": "scattergeo"
           }
          ],
          "scattergl": [
           {
            "marker": {
             "colorbar": {
              "outlinewidth": 0,
              "ticks": ""
             }
            },
            "type": "scattergl"
           }
          ],
          "scattermapbox": [
           {
            "marker": {
             "colorbar": {
              "outlinewidth": 0,
              "ticks": ""
             }
            },
            "type": "scattermapbox"
           }
          ],
          "scatterpolar": [
           {
            "marker": {
             "colorbar": {
              "outlinewidth": 0,
              "ticks": ""
             }
            },
            "type": "scatterpolar"
           }
          ],
          "scatterpolargl": [
           {
            "marker": {
             "colorbar": {
              "outlinewidth": 0,
              "ticks": ""
             }
            },
            "type": "scatterpolargl"
           }
          ],
          "scatterternary": [
           {
            "marker": {
             "colorbar": {
              "outlinewidth": 0,
              "ticks": ""
             }
            },
            "type": "scatterternary"
           }
          ],
          "surface": [
           {
            "colorbar": {
             "outlinewidth": 0,
             "ticks": ""
            },
            "colorscale": [
             [
              0,
              "#0d0887"
             ],
             [
              0.1111111111111111,
              "#46039f"
             ],
             [
              0.2222222222222222,
              "#7201a8"
             ],
             [
              0.3333333333333333,
              "#9c179e"
             ],
             [
              0.4444444444444444,
              "#bd3786"
             ],
             [
              0.5555555555555556,
              "#d8576b"
             ],
             [
              0.6666666666666666,
              "#ed7953"
             ],
             [
              0.7777777777777778,
              "#fb9f3a"
             ],
             [
              0.8888888888888888,
              "#fdca26"
             ],
             [
              1,
              "#f0f921"
             ]
            ],
            "type": "surface"
           }
          ],
          "table": [
           {
            "cells": {
             "fill": {
              "color": "#EBF0F8"
             },
             "line": {
              "color": "white"
             }
            },
            "header": {
             "fill": {
              "color": "#C8D4E3"
             },
             "line": {
              "color": "white"
             }
            },
            "type": "table"
           }
          ]
         },
         "layout": {
          "annotationdefaults": {
           "arrowcolor": "#2a3f5f",
           "arrowhead": 0,
           "arrowwidth": 1
          },
          "autotypenumbers": "strict",
          "coloraxis": {
           "colorbar": {
            "outlinewidth": 0,
            "ticks": ""
           }
          },
          "colorscale": {
           "diverging": [
            [
             0,
             "#8e0152"
            ],
            [
             0.1,
             "#c51b7d"
            ],
            [
             0.2,
             "#de77ae"
            ],
            [
             0.3,
             "#f1b6da"
            ],
            [
             0.4,
             "#fde0ef"
            ],
            [
             0.5,
             "#f7f7f7"
            ],
            [
             0.6,
             "#e6f5d0"
            ],
            [
             0.7,
             "#b8e186"
            ],
            [
             0.8,
             "#7fbc41"
            ],
            [
             0.9,
             "#4d9221"
            ],
            [
             1,
             "#276419"
            ]
           ],
           "sequential": [
            [
             0,
             "#0d0887"
            ],
            [
             0.1111111111111111,
             "#46039f"
            ],
            [
             0.2222222222222222,
             "#7201a8"
            ],
            [
             0.3333333333333333,
             "#9c179e"
            ],
            [
             0.4444444444444444,
             "#bd3786"
            ],
            [
             0.5555555555555556,
             "#d8576b"
            ],
            [
             0.6666666666666666,
             "#ed7953"
            ],
            [
             0.7777777777777778,
             "#fb9f3a"
            ],
            [
             0.8888888888888888,
             "#fdca26"
            ],
            [
             1,
             "#f0f921"
            ]
           ],
           "sequentialminus": [
            [
             0,
             "#0d0887"
            ],
            [
             0.1111111111111111,
             "#46039f"
            ],
            [
             0.2222222222222222,
             "#7201a8"
            ],
            [
             0.3333333333333333,
             "#9c179e"
            ],
            [
             0.4444444444444444,
             "#bd3786"
            ],
            [
             0.5555555555555556,
             "#d8576b"
            ],
            [
             0.6666666666666666,
             "#ed7953"
            ],
            [
             0.7777777777777778,
             "#fb9f3a"
            ],
            [
             0.8888888888888888,
             "#fdca26"
            ],
            [
             1,
             "#f0f921"
            ]
           ]
          },
          "colorway": [
           "#636efa",
           "#EF553B",
           "#00cc96",
           "#ab63fa",
           "#FFA15A",
           "#19d3f3",
           "#FF6692",
           "#B6E880",
           "#FF97FF",
           "#FECB52"
          ],
          "font": {
           "color": "#2a3f5f"
          },
          "geo": {
           "bgcolor": "white",
           "lakecolor": "white",
           "landcolor": "white",
           "showlakes": true,
           "showland": true,
           "subunitcolor": "#C8D4E3"
          },
          "hoverlabel": {
           "align": "left"
          },
          "hovermode": "closest",
          "mapbox": {
           "style": "light"
          },
          "paper_bgcolor": "white",
          "plot_bgcolor": "white",
          "polar": {
           "angularaxis": {
            "gridcolor": "#EBF0F8",
            "linecolor": "#EBF0F8",
            "ticks": ""
           },
           "bgcolor": "white",
           "radialaxis": {
            "gridcolor": "#EBF0F8",
            "linecolor": "#EBF0F8",
            "ticks": ""
           }
          },
          "scene": {
           "xaxis": {
            "backgroundcolor": "white",
            "gridcolor": "#DFE8F3",
            "gridwidth": 2,
            "linecolor": "#EBF0F8",
            "showbackground": true,
            "ticks": "",
            "zerolinecolor": "#EBF0F8"
           },
           "yaxis": {
            "backgroundcolor": "white",
            "gridcolor": "#DFE8F3",
            "gridwidth": 2,
            "linecolor": "#EBF0F8",
            "showbackground": true,
            "ticks": "",
            "zerolinecolor": "#EBF0F8"
           },
           "zaxis": {
            "backgroundcolor": "white",
            "gridcolor": "#DFE8F3",
            "gridwidth": 2,
            "linecolor": "#EBF0F8",
            "showbackground": true,
            "ticks": "",
            "zerolinecolor": "#EBF0F8"
           }
          },
          "shapedefaults": {
           "line": {
            "color": "#2a3f5f"
           }
          },
          "ternary": {
           "aaxis": {
            "gridcolor": "#DFE8F3",
            "linecolor": "#A2B1C6",
            "ticks": ""
           },
           "baxis": {
            "gridcolor": "#DFE8F3",
            "linecolor": "#A2B1C6",
            "ticks": ""
           },
           "bgcolor": "white",
           "caxis": {
            "gridcolor": "#DFE8F3",
            "linecolor": "#A2B1C6",
            "ticks": ""
           }
          },
          "title": {
           "x": 0.05
          },
          "xaxis": {
           "automargin": true,
           "gridcolor": "#EBF0F8",
           "linecolor": "#EBF0F8",
           "ticks": "",
           "title": {
            "standoff": 15
           },
           "zerolinecolor": "#EBF0F8",
           "zerolinewidth": 2
          },
          "yaxis": {
           "automargin": true,
           "gridcolor": "#EBF0F8",
           "linecolor": "#EBF0F8",
           "ticks": "",
           "title": {
            "standoff": 15
           },
           "zerolinecolor": "#EBF0F8",
           "zerolinewidth": 2
          }
         }
        },
        "title": {
         "font": {
          "size": 20
         },
         "text": "Enhanced Erlang A Metrics"
        },
        "xaxis": {
         "title": {
          "text": "Arrival Rate (λ)"
         }
        },
        "yaxis": {
         "title": {
          "text": "Metrics"
         }
        }
       }
      }
     },
     "metadata": {},
     "output_type": "display_data"
    }
   ],
   "source": [
    "fig.show()\n"
   ]
  },
  {
   "cell_type": "code",
   "execution_count": 10,
   "metadata": {},
   "outputs": [
    {
     "data": {
      "application/vnd.plotly.v1+json": {
       "config": {
        "plotlyServerURL": "https://plot.ly"
       },
       "data": [
        {
         "fill": "tozeroy",
         "fillcolor": "rgba(135, 206, 250, 0.4)",
         "line": {
          "color": "blue",
          "width": 2
         },
         "mode": "lines",
         "name": "Abandonment Probability",
         "type": "scatter",
         "x": [
          10,
          10.816326530612244,
          11.63265306122449,
          12.448979591836736,
          13.26530612244898,
          14.081632653061224,
          14.89795918367347,
          15.714285714285715,
          16.53061224489796,
          17.346938775510203,
          18.163265306122447,
          18.979591836734695,
          19.79591836734694,
          20.612244897959183,
          21.42857142857143,
          22.244897959183675,
          23.06122448979592,
          23.877551020408163,
          24.693877551020407,
          25.510204081632654,
          26.3265306122449,
          27.142857142857142,
          27.95918367346939,
          28.775510204081634,
          29.591836734693878,
          30.408163265306122,
          31.224489795918366,
          32.04081632653062,
          32.85714285714286,
          33.673469387755105,
          34.48979591836735,
          35.30612244897959,
          36.12244897959184,
          36.93877551020408,
          37.755102040816325,
          38.57142857142857,
          39.38775510204081,
          40.20408163265306,
          41.02040816326531,
          41.83673469387755,
          42.6530612244898,
          43.46938775510204,
          44.285714285714285,
          45.10204081632653,
          45.91836734693878,
          46.734693877551024,
          47.55102040816327,
          48.36734693877551,
          49.183673469387756,
          50
         ],
         "y": [
          0.9,
          0.8918367346938776,
          0.883673469387755,
          0.8755102040816326,
          0.8673469387755102,
          0.8591836734693877,
          0.8510204081632653,
          0.8428571428571429,
          0.8346938775510204,
          0.826530612244898,
          0.8183673469387756,
          0.810204081632653,
          0.8020408163265306,
          0.7938775510204081,
          0.7857142857142857,
          0.7775510204081633,
          0.7693877551020408,
          0.7612244897959184,
          0.753061224489796,
          0.7448979591836735,
          0.736734693877551,
          0.7285714285714286,
          0.7204081632653061,
          0.7122448979591837,
          0.7040816326530612,
          0.6959183673469388,
          0.6877551020408164,
          0.6795918367346938,
          0.6714285714285714,
          0.6632653061224489,
          0.6551020408163265,
          0.6469387755102041,
          0.6387755102040816,
          0.6306122448979592,
          0.6224489795918368,
          0.6142857142857143,
          0.6061224489795919,
          0.5979591836734695,
          0.5897959183673469,
          0.5816326530612245,
          0.573469387755102,
          0.5653061224489796,
          0.5571428571428572,
          0.5489795918367347,
          0.5408163265306122,
          0.5326530612244897,
          0.5244897959183673,
          0.5163265306122449,
          0.5081632653061224,
          0.5
         ]
        },
        {
         "fill": "tonexty",
         "fillcolor": "rgba(144, 238, 144, 0.4)",
         "line": {
          "color": "green",
          "dash": "dash",
          "width": 2
         },
         "mode": "lines",
         "name": "Average Wait Time",
         "type": "scatter",
         "x": [
          10,
          10.816326530612244,
          11.63265306122449,
          12.448979591836736,
          13.26530612244898,
          14.081632653061224,
          14.89795918367347,
          15.714285714285715,
          16.53061224489796,
          17.346938775510203,
          18.163265306122447,
          18.979591836734695,
          19.79591836734694,
          20.612244897959183,
          21.42857142857143,
          22.244897959183675,
          23.06122448979592,
          23.877551020408163,
          24.693877551020407,
          25.510204081632654,
          26.3265306122449,
          27.142857142857142,
          27.95918367346939,
          28.775510204081634,
          29.591836734693878,
          30.408163265306122,
          31.224489795918366,
          32.04081632653062,
          32.85714285714286,
          33.673469387755105,
          34.48979591836735,
          35.30612244897959,
          36.12244897959184,
          36.93877551020408,
          37.755102040816325,
          38.57142857142857,
          39.38775510204081,
          40.20408163265306,
          41.02040816326531,
          41.83673469387755,
          42.6530612244898,
          43.46938775510204,
          44.285714285714285,
          45.10204081632653,
          45.91836734693878,
          46.734693877551024,
          47.55102040816327,
          48.36734693877551,
          49.183673469387756,
          50
         ],
         "y": [
          0.011111111111111112,
          0.011212814645308922,
          0.011316397228637413,
          0.011421911421911422,
          0.011529411764705882,
          0.01163895486935867,
          0.011750599520383695,
          0.011864406779661016,
          0.011980440097799512,
          0.012098765432098766,
          0.012219451371571072,
          0.012342569269521412,
          0.012468193384223917,
          0.012596401028277636,
          0.012727272727272728,
          0.012860892388451443,
          0.0129973474801061,
          0.013136729222520106,
          0.013279132791327914,
          0.013424657534246575,
          0.013573407202216066,
          0.013725490196078431,
          0.01388101983002833,
          0.014040114613180518,
          0.01420289855072464,
          0.014369501466275659,
          0.014540059347181007,
          0.014714714714714716,
          0.014893617021276596,
          0.015076923076923078,
          0.015264797507788162,
          0.015457413249211356,
          0.015654952076677317,
          0.015857605177993526,
          0.016065573770491802,
          0.01627906976744186,
          0.016498316498316498,
          0.016723549488054608,
          0.016955017301038062,
          0.01719298245614035,
          0.017437722419928827,
          0.01768953068592058,
          0.01794871794871795,
          0.018215613382899624,
          0.01849056603773585,
          0.018773946360153258,
          0.01906614785992218,
          0.019367588932806323,
          0.01967871485943775,
          0.02
         ]
        }
       ],
       "layout": {
        "font": {
         "size": 14
        },
        "legend": {
         "bgcolor": "rgba(255,255,255,0.8)",
         "bordercolor": "black",
         "borderwidth": 1
        },
        "template": {
         "data": {
          "bar": [
           {
            "error_x": {
             "color": "#2a3f5f"
            },
            "error_y": {
             "color": "#2a3f5f"
            },
            "marker": {
             "line": {
              "color": "white",
              "width": 0.5
             },
             "pattern": {
              "fillmode": "overlay",
              "size": 10,
              "solidity": 0.2
             }
            },
            "type": "bar"
           }
          ],
          "barpolar": [
           {
            "marker": {
             "line": {
              "color": "white",
              "width": 0.5
             },
             "pattern": {
              "fillmode": "overlay",
              "size": 10,
              "solidity": 0.2
             }
            },
            "type": "barpolar"
           }
          ],
          "carpet": [
           {
            "aaxis": {
             "endlinecolor": "#2a3f5f",
             "gridcolor": "#C8D4E3",
             "linecolor": "#C8D4E3",
             "minorgridcolor": "#C8D4E3",
             "startlinecolor": "#2a3f5f"
            },
            "baxis": {
             "endlinecolor": "#2a3f5f",
             "gridcolor": "#C8D4E3",
             "linecolor": "#C8D4E3",
             "minorgridcolor": "#C8D4E3",
             "startlinecolor": "#2a3f5f"
            },
            "type": "carpet"
           }
          ],
          "choropleth": [
           {
            "colorbar": {
             "outlinewidth": 0,
             "ticks": ""
            },
            "type": "choropleth"
           }
          ],
          "contour": [
           {
            "colorbar": {
             "outlinewidth": 0,
             "ticks": ""
            },
            "colorscale": [
             [
              0,
              "#0d0887"
             ],
             [
              0.1111111111111111,
              "#46039f"
             ],
             [
              0.2222222222222222,
              "#7201a8"
             ],
             [
              0.3333333333333333,
              "#9c179e"
             ],
             [
              0.4444444444444444,
              "#bd3786"
             ],
             [
              0.5555555555555556,
              "#d8576b"
             ],
             [
              0.6666666666666666,
              "#ed7953"
             ],
             [
              0.7777777777777778,
              "#fb9f3a"
             ],
             [
              0.8888888888888888,
              "#fdca26"
             ],
             [
              1,
              "#f0f921"
             ]
            ],
            "type": "contour"
           }
          ],
          "contourcarpet": [
           {
            "colorbar": {
             "outlinewidth": 0,
             "ticks": ""
            },
            "type": "contourcarpet"
           }
          ],
          "heatmap": [
           {
            "colorbar": {
             "outlinewidth": 0,
             "ticks": ""
            },
            "colorscale": [
             [
              0,
              "#0d0887"
             ],
             [
              0.1111111111111111,
              "#46039f"
             ],
             [
              0.2222222222222222,
              "#7201a8"
             ],
             [
              0.3333333333333333,
              "#9c179e"
             ],
             [
              0.4444444444444444,
              "#bd3786"
             ],
             [
              0.5555555555555556,
              "#d8576b"
             ],
             [
              0.6666666666666666,
              "#ed7953"
             ],
             [
              0.7777777777777778,
              "#fb9f3a"
             ],
             [
              0.8888888888888888,
              "#fdca26"
             ],
             [
              1,
              "#f0f921"
             ]
            ],
            "type": "heatmap"
           }
          ],
          "heatmapgl": [
           {
            "colorbar": {
             "outlinewidth": 0,
             "ticks": ""
            },
            "colorscale": [
             [
              0,
              "#0d0887"
             ],
             [
              0.1111111111111111,
              "#46039f"
             ],
             [
              0.2222222222222222,
              "#7201a8"
             ],
             [
              0.3333333333333333,
              "#9c179e"
             ],
             [
              0.4444444444444444,
              "#bd3786"
             ],
             [
              0.5555555555555556,
              "#d8576b"
             ],
             [
              0.6666666666666666,
              "#ed7953"
             ],
             [
              0.7777777777777778,
              "#fb9f3a"
             ],
             [
              0.8888888888888888,
              "#fdca26"
             ],
             [
              1,
              "#f0f921"
             ]
            ],
            "type": "heatmapgl"
           }
          ],
          "histogram": [
           {
            "marker": {
             "pattern": {
              "fillmode": "overlay",
              "size": 10,
              "solidity": 0.2
             }
            },
            "type": "histogram"
           }
          ],
          "histogram2d": [
           {
            "colorbar": {
             "outlinewidth": 0,
             "ticks": ""
            },
            "colorscale": [
             [
              0,
              "#0d0887"
             ],
             [
              0.1111111111111111,
              "#46039f"
             ],
             [
              0.2222222222222222,
              "#7201a8"
             ],
             [
              0.3333333333333333,
              "#9c179e"
             ],
             [
              0.4444444444444444,
              "#bd3786"
             ],
             [
              0.5555555555555556,
              "#d8576b"
             ],
             [
              0.6666666666666666,
              "#ed7953"
             ],
             [
              0.7777777777777778,
              "#fb9f3a"
             ],
             [
              0.8888888888888888,
              "#fdca26"
             ],
             [
              1,
              "#f0f921"
             ]
            ],
            "type": "histogram2d"
           }
          ],
          "histogram2dcontour": [
           {
            "colorbar": {
             "outlinewidth": 0,
             "ticks": ""
            },
            "colorscale": [
             [
              0,
              "#0d0887"
             ],
             [
              0.1111111111111111,
              "#46039f"
             ],
             [
              0.2222222222222222,
              "#7201a8"
             ],
             [
              0.3333333333333333,
              "#9c179e"
             ],
             [
              0.4444444444444444,
              "#bd3786"
             ],
             [
              0.5555555555555556,
              "#d8576b"
             ],
             [
              0.6666666666666666,
              "#ed7953"
             ],
             [
              0.7777777777777778,
              "#fb9f3a"
             ],
             [
              0.8888888888888888,
              "#fdca26"
             ],
             [
              1,
              "#f0f921"
             ]
            ],
            "type": "histogram2dcontour"
           }
          ],
          "mesh3d": [
           {
            "colorbar": {
             "outlinewidth": 0,
             "ticks": ""
            },
            "type": "mesh3d"
           }
          ],
          "parcoords": [
           {
            "line": {
             "colorbar": {
              "outlinewidth": 0,
              "ticks": ""
             }
            },
            "type": "parcoords"
           }
          ],
          "pie": [
           {
            "automargin": true,
            "type": "pie"
           }
          ],
          "scatter": [
           {
            "fillpattern": {
             "fillmode": "overlay",
             "size": 10,
             "solidity": 0.2
            },
            "type": "scatter"
           }
          ],
          "scatter3d": [
           {
            "line": {
             "colorbar": {
              "outlinewidth": 0,
              "ticks": ""
             }
            },
            "marker": {
             "colorbar": {
              "outlinewidth": 0,
              "ticks": ""
             }
            },
            "type": "scatter3d"
           }
          ],
          "scattercarpet": [
           {
            "marker": {
             "colorbar": {
              "outlinewidth": 0,
              "ticks": ""
             }
            },
            "type": "scattercarpet"
           }
          ],
          "scattergeo": [
           {
            "marker": {
             "colorbar": {
              "outlinewidth": 0,
              "ticks": ""
             }
            },
            "type": "scattergeo"
           }
          ],
          "scattergl": [
           {
            "marker": {
             "colorbar": {
              "outlinewidth": 0,
              "ticks": ""
             }
            },
            "type": "scattergl"
           }
          ],
          "scattermapbox": [
           {
            "marker": {
             "colorbar": {
              "outlinewidth": 0,
              "ticks": ""
             }
            },
            "type": "scattermapbox"
           }
          ],
          "scatterpolar": [
           {
            "marker": {
             "colorbar": {
              "outlinewidth": 0,
              "ticks": ""
             }
            },
            "type": "scatterpolar"
           }
          ],
          "scatterpolargl": [
           {
            "marker": {
             "colorbar": {
              "outlinewidth": 0,
              "ticks": ""
             }
            },
            "type": "scatterpolargl"
           }
          ],
          "scatterternary": [
           {
            "marker": {
             "colorbar": {
              "outlinewidth": 0,
              "ticks": ""
             }
            },
            "type": "scatterternary"
           }
          ],
          "surface": [
           {
            "colorbar": {
             "outlinewidth": 0,
             "ticks": ""
            },
            "colorscale": [
             [
              0,
              "#0d0887"
             ],
             [
              0.1111111111111111,
              "#46039f"
             ],
             [
              0.2222222222222222,
              "#7201a8"
             ],
             [
              0.3333333333333333,
              "#9c179e"
             ],
             [
              0.4444444444444444,
              "#bd3786"
             ],
             [
              0.5555555555555556,
              "#d8576b"
             ],
             [
              0.6666666666666666,
              "#ed7953"
             ],
             [
              0.7777777777777778,
              "#fb9f3a"
             ],
             [
              0.8888888888888888,
              "#fdca26"
             ],
             [
              1,
              "#f0f921"
             ]
            ],
            "type": "surface"
           }
          ],
          "table": [
           {
            "cells": {
             "fill": {
              "color": "#EBF0F8"
             },
             "line": {
              "color": "white"
             }
            },
            "header": {
             "fill": {
              "color": "#C8D4E3"
             },
             "line": {
              "color": "white"
             }
            },
            "type": "table"
           }
          ]
         },
         "layout": {
          "annotationdefaults": {
           "arrowcolor": "#2a3f5f",
           "arrowhead": 0,
           "arrowwidth": 1
          },
          "autotypenumbers": "strict",
          "coloraxis": {
           "colorbar": {
            "outlinewidth": 0,
            "ticks": ""
           }
          },
          "colorscale": {
           "diverging": [
            [
             0,
             "#8e0152"
            ],
            [
             0.1,
             "#c51b7d"
            ],
            [
             0.2,
             "#de77ae"
            ],
            [
             0.3,
             "#f1b6da"
            ],
            [
             0.4,
             "#fde0ef"
            ],
            [
             0.5,
             "#f7f7f7"
            ],
            [
             0.6,
             "#e6f5d0"
            ],
            [
             0.7,
             "#b8e186"
            ],
            [
             0.8,
             "#7fbc41"
            ],
            [
             0.9,
             "#4d9221"
            ],
            [
             1,
             "#276419"
            ]
           ],
           "sequential": [
            [
             0,
             "#0d0887"
            ],
            [
             0.1111111111111111,
             "#46039f"
            ],
            [
             0.2222222222222222,
             "#7201a8"
            ],
            [
             0.3333333333333333,
             "#9c179e"
            ],
            [
             0.4444444444444444,
             "#bd3786"
            ],
            [
             0.5555555555555556,
             "#d8576b"
            ],
            [
             0.6666666666666666,
             "#ed7953"
            ],
            [
             0.7777777777777778,
             "#fb9f3a"
            ],
            [
             0.8888888888888888,
             "#fdca26"
            ],
            [
             1,
             "#f0f921"
            ]
           ],
           "sequentialminus": [
            [
             0,
             "#0d0887"
            ],
            [
             0.1111111111111111,
             "#46039f"
            ],
            [
             0.2222222222222222,
             "#7201a8"
            ],
            [
             0.3333333333333333,
             "#9c179e"
            ],
            [
             0.4444444444444444,
             "#bd3786"
            ],
            [
             0.5555555555555556,
             "#d8576b"
            ],
            [
             0.6666666666666666,
             "#ed7953"
            ],
            [
             0.7777777777777778,
             "#fb9f3a"
            ],
            [
             0.8888888888888888,
             "#fdca26"
            ],
            [
             1,
             "#f0f921"
            ]
           ]
          },
          "colorway": [
           "#636efa",
           "#EF553B",
           "#00cc96",
           "#ab63fa",
           "#FFA15A",
           "#19d3f3",
           "#FF6692",
           "#B6E880",
           "#FF97FF",
           "#FECB52"
          ],
          "font": {
           "color": "#2a3f5f"
          },
          "geo": {
           "bgcolor": "white",
           "lakecolor": "white",
           "landcolor": "white",
           "showlakes": true,
           "showland": true,
           "subunitcolor": "#C8D4E3"
          },
          "hoverlabel": {
           "align": "left"
          },
          "hovermode": "closest",
          "mapbox": {
           "style": "light"
          },
          "paper_bgcolor": "white",
          "plot_bgcolor": "white",
          "polar": {
           "angularaxis": {
            "gridcolor": "#EBF0F8",
            "linecolor": "#EBF0F8",
            "ticks": ""
           },
           "bgcolor": "white",
           "radialaxis": {
            "gridcolor": "#EBF0F8",
            "linecolor": "#EBF0F8",
            "ticks": ""
           }
          },
          "scene": {
           "xaxis": {
            "backgroundcolor": "white",
            "gridcolor": "#DFE8F3",
            "gridwidth": 2,
            "linecolor": "#EBF0F8",
            "showbackground": true,
            "ticks": "",
            "zerolinecolor": "#EBF0F8"
           },
           "yaxis": {
            "backgroundcolor": "white",
            "gridcolor": "#DFE8F3",
            "gridwidth": 2,
            "linecolor": "#EBF0F8",
            "showbackground": true,
            "ticks": "",
            "zerolinecolor": "#EBF0F8"
           },
           "zaxis": {
            "backgroundcolor": "white",
            "gridcolor": "#DFE8F3",
            "gridwidth": 2,
            "linecolor": "#EBF0F8",
            "showbackground": true,
            "ticks": "",
            "zerolinecolor": "#EBF0F8"
           }
          },
          "shapedefaults": {
           "line": {
            "color": "#2a3f5f"
           }
          },
          "ternary": {
           "aaxis": {
            "gridcolor": "#DFE8F3",
            "linecolor": "#A2B1C6",
            "ticks": ""
           },
           "baxis": {
            "gridcolor": "#DFE8F3",
            "linecolor": "#A2B1C6",
            "ticks": ""
           },
           "bgcolor": "white",
           "caxis": {
            "gridcolor": "#DFE8F3",
            "linecolor": "#A2B1C6",
            "ticks": ""
           }
          },
          "title": {
           "x": 0.05
          },
          "xaxis": {
           "automargin": true,
           "gridcolor": "#EBF0F8",
           "linecolor": "#EBF0F8",
           "ticks": "",
           "title": {
            "standoff": 15
           },
           "zerolinecolor": "#EBF0F8",
           "zerolinewidth": 2
          },
          "yaxis": {
           "automargin": true,
           "gridcolor": "#EBF0F8",
           "linecolor": "#EBF0F8",
           "ticks": "",
           "title": {
            "standoff": 15
           },
           "zerolinecolor": "#EBF0F8",
           "zerolinewidth": 2
          }
         }
        },
        "title": {
         "font": {
          "size": 20
         },
         "text": "Enhanced Erlang A Metrics"
        },
        "xaxis": {
         "title": {
          "text": "Arrival Rate (λ)"
         }
        },
        "yaxis": {
         "title": {
          "text": "Metrics"
         }
        }
       }
      }
     },
     "metadata": {},
     "output_type": "display_data"
    },
    {
     "data": {
      "application/vnd.jupyter.widget-view+json": {
       "model_id": "3499b428c0cc42549ed4a5af4e8f4f7a",
       "version_major": 2,
       "version_minor": 0
      },
      "text/plain": [
       "interactive(children=(IntSlider(value=50, description='lambda_val'), IntSlider(value=10, description='mu_val',…"
      ]
     },
     "metadata": {},
     "output_type": "display_data"
    },
    {
     "data": {
      "application/vnd.plotly.v1+json": {
       "config": {
        "plotlyServerURL": "https://plot.ly"
       },
       "data": [
        {
         "fill": "tozeroy",
         "fillcolor": "rgba(135, 206, 250, 0.4)",
         "line": {
          "color": "blue",
          "width": 2
         },
         "mode": "lines",
         "name": "Abandonment Probability",
         "type": "scatter",
         "x": [
          10,
          10.510204081632653,
          11.020408163265307,
          11.53061224489796,
          12.040816326530612,
          12.551020408163264,
          13.061224489795919,
          13.571428571428571,
          14.081632653061224,
          14.591836734693878,
          15.10204081632653,
          15.612244897959183,
          16.122448979591837,
          16.632653061224488,
          17.142857142857142,
          17.653061224489797,
          18.163265306122447,
          18.6734693877551,
          19.183673469387756,
          19.693877551020407,
          20.20408163265306,
          20.714285714285715,
          21.224489795918366,
          21.73469387755102,
          22.244897959183675,
          22.755102040816325,
          23.26530612244898,
          23.775510204081634,
          24.285714285714285,
          24.79591836734694,
          25.306122448979593,
          25.816326530612244,
          26.3265306122449,
          26.836734693877553,
          27.346938775510203,
          27.857142857142858,
          28.367346938775512,
          28.877551020408163,
          29.387755102040817,
          29.89795918367347,
          30.408163265306122,
          30.918367346938776,
          31.42857142857143,
          31.93877551020408,
          32.44897959183673,
          32.95918367346939,
          33.46938775510204,
          33.9795918367347,
          34.48979591836735,
          35
         ],
         "y": [
          0.8333333333333334,
          0.8248299319727891,
          0.8163265306122449,
          0.8078231292517006,
          0.7993197278911565,
          0.7908163265306123,
          0.782312925170068,
          0.7738095238095238,
          0.7653061224489797,
          0.7568027210884354,
          0.7482993197278911,
          0.7397959183673469,
          0.7312925170068028,
          0.7227891156462585,
          0.7142857142857143,
          0.7057823129251701,
          0.6972789115646258,
          0.6887755102040816,
          0.6802721088435374,
          0.6717687074829932,
          0.6632653061224489,
          0.6547619047619048,
          0.6462585034013606,
          0.6377551020408163,
          0.629251700680272,
          0.620748299319728,
          0.6122448979591837,
          0.6037414965986394,
          0.5952380952380952,
          0.5867346938775511,
          0.5782312925170068,
          0.5697278911564626,
          0.5612244897959184,
          0.5527210884353742,
          0.5442176870748299,
          0.5357142857142857,
          0.5272108843537415,
          0.5187074829931972,
          0.5102040816326531,
          0.5017006802721088,
          0.4931972789115646,
          0.48469387755102045,
          0.47619047619047616,
          0.467687074829932,
          0.4591836734693878,
          0.45068027210884354,
          0.44217687074829937,
          0.433673469387755,
          0.4251700680272108,
          0.41666666666666663
         ]
        },
        {
         "fill": "tonexty",
         "fillcolor": "rgba(144, 238, 144, 0.4)",
         "line": {
          "color": "green",
          "dash": "dash",
          "width": 2
         },
         "mode": "lines",
         "name": "Average Wait Time",
         "type": "scatter",
         "x": [
          10,
          10.510204081632653,
          11.020408163265307,
          11.53061224489796,
          12.040816326530612,
          12.551020408163264,
          13.061224489795919,
          13.571428571428571,
          14.081632653061224,
          14.591836734693878,
          15.10204081632653,
          15.612244897959183,
          16.122448979591837,
          16.632653061224488,
          17.142857142857142,
          17.653061224489797,
          18.163265306122447,
          18.6734693877551,
          19.183673469387756,
          19.693877551020407,
          20.20408163265306,
          20.714285714285715,
          21.224489795918366,
          21.73469387755102,
          22.244897959183675,
          22.755102040816325,
          23.26530612244898,
          23.775510204081634,
          24.285714285714285,
          24.79591836734694,
          25.306122448979593,
          25.816326530612244,
          26.3265306122449,
          26.836734693877553,
          27.346938775510203,
          27.857142857142858,
          28.367346938775512,
          28.877551020408163,
          29.387755102040817,
          29.89795918367347,
          30.408163265306122,
          30.918367346938776,
          31.42857142857143,
          31.93877551020408,
          32.44897959183673,
          32.95918367346939,
          33.46938775510204,
          33.9795918367347,
          34.48979591836735,
          35
         ],
         "y": [
          0.02,
          0.02020618556701031,
          0.020416666666666666,
          0.02063157894736842,
          0.020851063829787235,
          0.021075268817204302,
          0.021304347826086957,
          0.021538461538461538,
          0.021777777777777774,
          0.022022471910112355,
          0.02227272727272727,
          0.02252873563218391,
          0.022790697674418606,
          0.023058823529411764,
          0.023333333333333334,
          0.023614457831325306,
          0.023902439024390237,
          0.024197530864197528,
          0.0245,
          0.02481012658227848,
          0.025128205128205124,
          0.025454545454545455,
          0.02578947368421053,
          0.026133333333333335,
          0.026486486486486487,
          0.02684931506849315,
          0.02722222222222222,
          0.027605633802816897,
          0.028,
          0.02840579710144928,
          0.028823529411764706,
          0.02925373134328358,
          0.029696969696969694,
          0.030153846153846156,
          0.030625,
          0.031111111111111114,
          0.031612903225806455,
          0.032131147540983604,
          0.03266666666666667,
          0.03322033898305085,
          0.03379310344827586,
          0.0343859649122807,
          0.035,
          0.03563636363636363,
          0.03629629629629629,
          0.0369811320754717,
          0.03769230769230769,
          0.03843137254901961,
          0.039200000000000006,
          0.04
         ]
        }
       ],
       "layout": {
        "font": {
         "size": 14
        },
        "legend": {
         "bgcolor": "rgba(255,255,255,0.8)",
         "bordercolor": "black",
         "borderwidth": 1
        },
        "template": {
         "data": {
          "bar": [
           {
            "error_x": {
             "color": "#2a3f5f"
            },
            "error_y": {
             "color": "#2a3f5f"
            },
            "marker": {
             "line": {
              "color": "white",
              "width": 0.5
             },
             "pattern": {
              "fillmode": "overlay",
              "size": 10,
              "solidity": 0.2
             }
            },
            "type": "bar"
           }
          ],
          "barpolar": [
           {
            "marker": {
             "line": {
              "color": "white",
              "width": 0.5
             },
             "pattern": {
              "fillmode": "overlay",
              "size": 10,
              "solidity": 0.2
             }
            },
            "type": "barpolar"
           }
          ],
          "carpet": [
           {
            "aaxis": {
             "endlinecolor": "#2a3f5f",
             "gridcolor": "#C8D4E3",
             "linecolor": "#C8D4E3",
             "minorgridcolor": "#C8D4E3",
             "startlinecolor": "#2a3f5f"
            },
            "baxis": {
             "endlinecolor": "#2a3f5f",
             "gridcolor": "#C8D4E3",
             "linecolor": "#C8D4E3",
             "minorgridcolor": "#C8D4E3",
             "startlinecolor": "#2a3f5f"
            },
            "type": "carpet"
           }
          ],
          "choropleth": [
           {
            "colorbar": {
             "outlinewidth": 0,
             "ticks": ""
            },
            "type": "choropleth"
           }
          ],
          "contour": [
           {
            "colorbar": {
             "outlinewidth": 0,
             "ticks": ""
            },
            "colorscale": [
             [
              0,
              "#0d0887"
             ],
             [
              0.1111111111111111,
              "#46039f"
             ],
             [
              0.2222222222222222,
              "#7201a8"
             ],
             [
              0.3333333333333333,
              "#9c179e"
             ],
             [
              0.4444444444444444,
              "#bd3786"
             ],
             [
              0.5555555555555556,
              "#d8576b"
             ],
             [
              0.6666666666666666,
              "#ed7953"
             ],
             [
              0.7777777777777778,
              "#fb9f3a"
             ],
             [
              0.8888888888888888,
              "#fdca26"
             ],
             [
              1,
              "#f0f921"
             ]
            ],
            "type": "contour"
           }
          ],
          "contourcarpet": [
           {
            "colorbar": {
             "outlinewidth": 0,
             "ticks": ""
            },
            "type": "contourcarpet"
           }
          ],
          "heatmap": [
           {
            "colorbar": {
             "outlinewidth": 0,
             "ticks": ""
            },
            "colorscale": [
             [
              0,
              "#0d0887"
             ],
             [
              0.1111111111111111,
              "#46039f"
             ],
             [
              0.2222222222222222,
              "#7201a8"
             ],
             [
              0.3333333333333333,
              "#9c179e"
             ],
             [
              0.4444444444444444,
              "#bd3786"
             ],
             [
              0.5555555555555556,
              "#d8576b"
             ],
             [
              0.6666666666666666,
              "#ed7953"
             ],
             [
              0.7777777777777778,
              "#fb9f3a"
             ],
             [
              0.8888888888888888,
              "#fdca26"
             ],
             [
              1,
              "#f0f921"
             ]
            ],
            "type": "heatmap"
           }
          ],
          "heatmapgl": [
           {
            "colorbar": {
             "outlinewidth": 0,
             "ticks": ""
            },
            "colorscale": [
             [
              0,
              "#0d0887"
             ],
             [
              0.1111111111111111,
              "#46039f"
             ],
             [
              0.2222222222222222,
              "#7201a8"
             ],
             [
              0.3333333333333333,
              "#9c179e"
             ],
             [
              0.4444444444444444,
              "#bd3786"
             ],
             [
              0.5555555555555556,
              "#d8576b"
             ],
             [
              0.6666666666666666,
              "#ed7953"
             ],
             [
              0.7777777777777778,
              "#fb9f3a"
             ],
             [
              0.8888888888888888,
              "#fdca26"
             ],
             [
              1,
              "#f0f921"
             ]
            ],
            "type": "heatmapgl"
           }
          ],
          "histogram": [
           {
            "marker": {
             "pattern": {
              "fillmode": "overlay",
              "size": 10,
              "solidity": 0.2
             }
            },
            "type": "histogram"
           }
          ],
          "histogram2d": [
           {
            "colorbar": {
             "outlinewidth": 0,
             "ticks": ""
            },
            "colorscale": [
             [
              0,
              "#0d0887"
             ],
             [
              0.1111111111111111,
              "#46039f"
             ],
             [
              0.2222222222222222,
              "#7201a8"
             ],
             [
              0.3333333333333333,
              "#9c179e"
             ],
             [
              0.4444444444444444,
              "#bd3786"
             ],
             [
              0.5555555555555556,
              "#d8576b"
             ],
             [
              0.6666666666666666,
              "#ed7953"
             ],
             [
              0.7777777777777778,
              "#fb9f3a"
             ],
             [
              0.8888888888888888,
              "#fdca26"
             ],
             [
              1,
              "#f0f921"
             ]
            ],
            "type": "histogram2d"
           }
          ],
          "histogram2dcontour": [
           {
            "colorbar": {
             "outlinewidth": 0,
             "ticks": ""
            },
            "colorscale": [
             [
              0,
              "#0d0887"
             ],
             [
              0.1111111111111111,
              "#46039f"
             ],
             [
              0.2222222222222222,
              "#7201a8"
             ],
             [
              0.3333333333333333,
              "#9c179e"
             ],
             [
              0.4444444444444444,
              "#bd3786"
             ],
             [
              0.5555555555555556,
              "#d8576b"
             ],
             [
              0.6666666666666666,
              "#ed7953"
             ],
             [
              0.7777777777777778,
              "#fb9f3a"
             ],
             [
              0.8888888888888888,
              "#fdca26"
             ],
             [
              1,
              "#f0f921"
             ]
            ],
            "type": "histogram2dcontour"
           }
          ],
          "mesh3d": [
           {
            "colorbar": {
             "outlinewidth": 0,
             "ticks": ""
            },
            "type": "mesh3d"
           }
          ],
          "parcoords": [
           {
            "line": {
             "colorbar": {
              "outlinewidth": 0,
              "ticks": ""
             }
            },
            "type": "parcoords"
           }
          ],
          "pie": [
           {
            "automargin": true,
            "type": "pie"
           }
          ],
          "scatter": [
           {
            "fillpattern": {
             "fillmode": "overlay",
             "size": 10,
             "solidity": 0.2
            },
            "type": "scatter"
           }
          ],
          "scatter3d": [
           {
            "line": {
             "colorbar": {
              "outlinewidth": 0,
              "ticks": ""
             }
            },
            "marker": {
             "colorbar": {
              "outlinewidth": 0,
              "ticks": ""
             }
            },
            "type": "scatter3d"
           }
          ],
          "scattercarpet": [
           {
            "marker": {
             "colorbar": {
              "outlinewidth": 0,
              "ticks": ""
             }
            },
            "type": "scattercarpet"
           }
          ],
          "scattergeo": [
           {
            "marker": {
             "colorbar": {
              "outlinewidth": 0,
              "ticks": ""
             }
            },
            "type": "scattergeo"
           }
          ],
          "scattergl": [
           {
            "marker": {
             "colorbar": {
              "outlinewidth": 0,
              "ticks": ""
             }
            },
            "type": "scattergl"
           }
          ],
          "scattermapbox": [
           {
            "marker": {
             "colorbar": {
              "outlinewidth": 0,
              "ticks": ""
             }
            },
            "type": "scattermapbox"
           }
          ],
          "scatterpolar": [
           {
            "marker": {
             "colorbar": {
              "outlinewidth": 0,
              "ticks": ""
             }
            },
            "type": "scatterpolar"
           }
          ],
          "scatterpolargl": [
           {
            "marker": {
             "colorbar": {
              "outlinewidth": 0,
              "ticks": ""
             }
            },
            "type": "scatterpolargl"
           }
          ],
          "scatterternary": [
           {
            "marker": {
             "colorbar": {
              "outlinewidth": 0,
              "ticks": ""
             }
            },
            "type": "scatterternary"
           }
          ],
          "surface": [
           {
            "colorbar": {
             "outlinewidth": 0,
             "ticks": ""
            },
            "colorscale": [
             [
              0,
              "#0d0887"
             ],
             [
              0.1111111111111111,
              "#46039f"
             ],
             [
              0.2222222222222222,
              "#7201a8"
             ],
             [
              0.3333333333333333,
              "#9c179e"
             ],
             [
              0.4444444444444444,
              "#bd3786"
             ],
             [
              0.5555555555555556,
              "#d8576b"
             ],
             [
              0.6666666666666666,
              "#ed7953"
             ],
             [
              0.7777777777777778,
              "#fb9f3a"
             ],
             [
              0.8888888888888888,
              "#fdca26"
             ],
             [
              1,
              "#f0f921"
             ]
            ],
            "type": "surface"
           }
          ],
          "table": [
           {
            "cells": {
             "fill": {
              "color": "#EBF0F8"
             },
             "line": {
              "color": "white"
             }
            },
            "header": {
             "fill": {
              "color": "#C8D4E3"
             },
             "line": {
              "color": "white"
             }
            },
            "type": "table"
           }
          ]
         },
         "layout": {
          "annotationdefaults": {
           "arrowcolor": "#2a3f5f",
           "arrowhead": 0,
           "arrowwidth": 1
          },
          "autotypenumbers": "strict",
          "coloraxis": {
           "colorbar": {
            "outlinewidth": 0,
            "ticks": ""
           }
          },
          "colorscale": {
           "diverging": [
            [
             0,
             "#8e0152"
            ],
            [
             0.1,
             "#c51b7d"
            ],
            [
             0.2,
             "#de77ae"
            ],
            [
             0.3,
             "#f1b6da"
            ],
            [
             0.4,
             "#fde0ef"
            ],
            [
             0.5,
             "#f7f7f7"
            ],
            [
             0.6,
             "#e6f5d0"
            ],
            [
             0.7,
             "#b8e186"
            ],
            [
             0.8,
             "#7fbc41"
            ],
            [
             0.9,
             "#4d9221"
            ],
            [
             1,
             "#276419"
            ]
           ],
           "sequential": [
            [
             0,
             "#0d0887"
            ],
            [
             0.1111111111111111,
             "#46039f"
            ],
            [
             0.2222222222222222,
             "#7201a8"
            ],
            [
             0.3333333333333333,
             "#9c179e"
            ],
            [
             0.4444444444444444,
             "#bd3786"
            ],
            [
             0.5555555555555556,
             "#d8576b"
            ],
            [
             0.6666666666666666,
             "#ed7953"
            ],
            [
             0.7777777777777778,
             "#fb9f3a"
            ],
            [
             0.8888888888888888,
             "#fdca26"
            ],
            [
             1,
             "#f0f921"
            ]
           ],
           "sequentialminus": [
            [
             0,
             "#0d0887"
            ],
            [
             0.1111111111111111,
             "#46039f"
            ],
            [
             0.2222222222222222,
             "#7201a8"
            ],
            [
             0.3333333333333333,
             "#9c179e"
            ],
            [
             0.4444444444444444,
             "#bd3786"
            ],
            [
             0.5555555555555556,
             "#d8576b"
            ],
            [
             0.6666666666666666,
             "#ed7953"
            ],
            [
             0.7777777777777778,
             "#fb9f3a"
            ],
            [
             0.8888888888888888,
             "#fdca26"
            ],
            [
             1,
             "#f0f921"
            ]
           ]
          },
          "colorway": [
           "#636efa",
           "#EF553B",
           "#00cc96",
           "#ab63fa",
           "#FFA15A",
           "#19d3f3",
           "#FF6692",
           "#B6E880",
           "#FF97FF",
           "#FECB52"
          ],
          "font": {
           "color": "#2a3f5f"
          },
          "geo": {
           "bgcolor": "white",
           "lakecolor": "white",
           "landcolor": "white",
           "showlakes": true,
           "showland": true,
           "subunitcolor": "#C8D4E3"
          },
          "hoverlabel": {
           "align": "left"
          },
          "hovermode": "closest",
          "mapbox": {
           "style": "light"
          },
          "paper_bgcolor": "white",
          "plot_bgcolor": "white",
          "polar": {
           "angularaxis": {
            "gridcolor": "#EBF0F8",
            "linecolor": "#EBF0F8",
            "ticks": ""
           },
           "bgcolor": "white",
           "radialaxis": {
            "gridcolor": "#EBF0F8",
            "linecolor": "#EBF0F8",
            "ticks": ""
           }
          },
          "scene": {
           "xaxis": {
            "backgroundcolor": "white",
            "gridcolor": "#DFE8F3",
            "gridwidth": 2,
            "linecolor": "#EBF0F8",
            "showbackground": true,
            "ticks": "",
            "zerolinecolor": "#EBF0F8"
           },
           "yaxis": {
            "backgroundcolor": "white",
            "gridcolor": "#DFE8F3",
            "gridwidth": 2,
            "linecolor": "#EBF0F8",
            "showbackground": true,
            "ticks": "",
            "zerolinecolor": "#EBF0F8"
           },
           "zaxis": {
            "backgroundcolor": "white",
            "gridcolor": "#DFE8F3",
            "gridwidth": 2,
            "linecolor": "#EBF0F8",
            "showbackground": true,
            "ticks": "",
            "zerolinecolor": "#EBF0F8"
           }
          },
          "shapedefaults": {
           "line": {
            "color": "#2a3f5f"
           }
          },
          "ternary": {
           "aaxis": {
            "gridcolor": "#DFE8F3",
            "linecolor": "#A2B1C6",
            "ticks": ""
           },
           "baxis": {
            "gridcolor": "#DFE8F3",
            "linecolor": "#A2B1C6",
            "ticks": ""
           },
           "bgcolor": "white",
           "caxis": {
            "gridcolor": "#DFE8F3",
            "linecolor": "#A2B1C6",
            "ticks": ""
           }
          },
          "title": {
           "x": 0.05
          },
          "xaxis": {
           "automargin": true,
           "gridcolor": "#EBF0F8",
           "linecolor": "#EBF0F8",
           "ticks": "",
           "title": {
            "standoff": 15
           },
           "zerolinecolor": "#EBF0F8",
           "zerolinewidth": 2
          },
          "yaxis": {
           "automargin": true,
           "gridcolor": "#EBF0F8",
           "linecolor": "#EBF0F8",
           "ticks": "",
           "title": {
            "standoff": 15
           },
           "zerolinecolor": "#EBF0F8",
           "zerolinewidth": 2
          }
         }
        },
        "title": {
         "font": {
          "size": 20
         },
         "text": "Enhanced Erlang A Metrics"
        },
        "xaxis": {
         "title": {
          "text": "Arrival Rate (λ)"
         }
        },
        "yaxis": {
         "title": {
          "text": "Metrics"
         }
        }
       }
      }
     },
     "metadata": {},
     "output_type": "display_data"
    },
    {
     "data": {
      "text/plain": [
       "<function __main__.plot_erlang_a(lambda_val, mu_val, num_agents, gamma_val)>"
      ]
     },
     "execution_count": 10,
     "metadata": {},
     "output_type": "execute_result"
    }
   ],
   "source": [
    "import plotly.graph_objs as go\n",
    "import numpy as np\n",
    "from ipywidgets import interact\n",
    "from plotly.io import write_html\n",
    "from pathlib import Path\n",
    "\n",
    "# computing/plotting function\n",
    "def plot_erlang_a(lambda_val, mu_val, num_agents, gamma_val):\n",
    "    # Generate arrival rates for the x-axis\n",
    "    arrival_rates = np.linspace(10, lambda_val, 50)\n",
    "    abandonment_probs = np.clip(1 - (arrival_rates / (mu_val * num_agents)), 0, 1)  # Mock data\n",
    "    wait_times = np.clip(1 / (mu_val * (num_agents - arrival_rates / mu_val)), 0, 10)  # Mock data\n",
    "\n",
    "    # creeating plotly graph\n",
    "    fig = go.Figure()\n",
    "\n",
    "    # P(abadndoment) curve\n",
    "    fig.add_trace(go.Scatter(\n",
    "        x=arrival_rates,\n",
    "        y=abandonment_probs,\n",
    "        mode='lines',\n",
    "        name='Abandonment Probability',\n",
    "        line=dict(color='blue', width=2),\n",
    "        fill='tozeroy',\n",
    "        fillcolor='rgba(135, 206, 250, 0.4)'\n",
    "    ))\n",
    "\n",
    "    # avg wait time curve\n",
    "    fig.add_trace(go.Scatter(\n",
    "        x=arrival_rates,\n",
    "        y=wait_times,\n",
    "        mode='lines',\n",
    "        name='Average Wait Time',\n",
    "        line=dict(color='green', width=2, dash='dash'),\n",
    "        fill='tonexty',\n",
    "        fillcolor='rgba(144, 238, 144, 0.4)'\n",
    "    ))\n",
    "\n",
    "    #updatiing layout\n",
    "    fig.update_layout(\n",
    "        title=\"Enhanced Erlang A Metrics\",\n",
    "        xaxis_title=\"Arrival Rate (λ)\",\n",
    "        yaxis_title=\"Metrics\",\n",
    "        template=\"plotly_white\",\n",
    "        legend=dict(\n",
    "            bgcolor=\"rgba(255,255,255,0.8)\",\n",
    "            bordercolor=\"black\",\n",
    "            borderwidth=1\n",
    "        ),\n",
    "        font=dict(size=14),\n",
    "        title_font=dict(size=20)\n",
    "    )\n",
    "\n",
    "    fig.show()\n",
    "\n",
    "    # saving graph as HTML - start of attempt to get a URL link for presentation purposes\n",
    "    output_path = Path(\"erlang_a_graph.html\")\n",
    "    write_html(fig, file=output_path, auto_open=False)\n",
    "    print(f\"Graph saved to: {output_path.resolve()}\")\n",
    "\n",
    "# itneractive sliders\n",
    "interact(\n",
    "    plot_erlang_a,\n",
    "    lambda_val=(0, 100, 1),\n",
    "    mu_val=(0, 20, 1),\n",
    "    num_agents=(0, 20, 1),\n",
    "    gamma_val=(0.01, 1.0, 0.01)\n",
    ")\n"
   ]
  },
  {
   "cell_type": "code",
   "execution_count": 11,
   "metadata": {},
   "outputs": [
    {
     "data": {
      "application/vnd.plotly.v1+json": {
       "config": {
        "plotlyServerURL": "https://plot.ly"
       },
       "data": [
        {
         "fill": "tozeroy",
         "fillcolor": "rgba(135, 206, 250, 0.4)",
         "line": {
          "color": "blue",
          "width": 2
         },
         "mode": "lines",
         "name": "Abandonment Probability",
         "type": "scatter",
         "x": [
          10,
          10.918367346938776,
          11.83673469387755,
          12.755102040816327,
          13.673469387755102,
          14.591836734693878,
          15.510204081632654,
          16.42857142857143,
          17.346938775510203,
          18.26530612244898,
          19.183673469387756,
          20.10204081632653,
          21.02040816326531,
          21.93877551020408,
          22.857142857142858,
          23.775510204081634,
          24.693877551020407,
          25.612244897959187,
          26.53061224489796,
          27.448979591836736,
          28.367346938775512,
          29.285714285714285,
          30.20408163265306,
          31.122448979591837,
          32.04081632653062,
          32.95918367346939,
          33.87755102040816,
          34.79591836734694,
          35.714285714285715,
          36.63265306122449,
          37.55102040816327,
          38.46938775510204,
          39.38775510204081,
          40.30612244897959,
          41.22448979591837,
          42.142857142857146,
          43.06122448979592,
          43.97959183673469,
          44.89795918367347,
          45.816326530612244,
          46.734693877551024,
          47.6530612244898,
          48.57142857142857,
          49.48979591836735,
          50.40816326530612,
          51.3265306122449,
          52.244897959183675,
          53.16326530612245,
          54.08163265306123,
          55
         ],
         "y": [
          1.0137771298164931e-7,
          2.2265647467086087e-7,
          4.5550512735181374e-7,
          8.772620581871641e-7,
          0.0000016039582551851194,
          0.0000028029887258772226,
          0.000004707743751392717,
          0.000007633992895818943,
          0.00001199771120017386,
          0.000018333944397897912,
          0.000027316232839493933,
          0.00003977605547170489,
          0.00005672171784224263,
          0.00007935609270071779,
          0.00010909262829049831,
          0.00014756906690145346,
          0.00019665836293373452,
          0.0002584763532467935,
          0.00033538581011667166,
          0.0004299965955710132,
          0.0005451617319186635,
          0.0006839693035991312,
          0.0008497302067743307,
          0.0010459618622637146,
          0.0012763681016240772,
          0.0015448155228524258,
          0.0018553066891694454,
          0.0022119506098568754,
          0.002618930994845762,
          0.0030804728138040167,
          0.0036008077154194647,
          0.004184138873422187,
          0.004834605823049872,
          0.005556249835916238,
          0.006352980353705278,
          0.007228542963163036,
          0.008186489348083477,
          0.009230149600121886,
          0.010362607211135471,
          0.011586677007181034,
          0.012904886220087577,
          0.014319458828366377,
          0.01583230323668094,
          0.01744500330355401,
          0.019158812671615396,
          0.020974652304445916,
          0.022893111089670876,
          0.024914449329898135,
          0.02703860491165099,
          0.02926520191768625
         ]
        },
        {
         "fill": "tonexty",
         "fillcolor": "rgba(144, 238, 144, 0.4)",
         "line": {
          "color": "green",
          "dash": "dash",
          "width": 2
         },
         "mode": "lines",
         "name": "Average Wait Time",
         "type": "scatter",
         "x": [
          10,
          10.918367346938776,
          11.83673469387755,
          12.755102040816327,
          13.673469387755102,
          14.591836734693878,
          15.510204081632654,
          16.42857142857143,
          17.346938775510203,
          18.26530612244898,
          19.183673469387756,
          20.10204081632653,
          21.02040816326531,
          21.93877551020408,
          22.857142857142858,
          23.775510204081634,
          24.693877551020407,
          25.612244897959187,
          26.53061224489796,
          27.448979591836736,
          28.367346938775512,
          29.285714285714285,
          30.20408163265306,
          31.122448979591837,
          32.04081632653062,
          32.95918367346939,
          33.87755102040816,
          34.79591836734694,
          35.714285714285715,
          36.63265306122449,
          37.55102040816327,
          38.46938775510204,
          39.38775510204081,
          40.30612244897959,
          41.22448979591837,
          42.142857142857146,
          43.06122448979592,
          43.97959183673469,
          44.89795918367347,
          45.816326530612244,
          46.734693877551024,
          47.6530612244898,
          48.57142857142857,
          49.48979591836735,
          50.40816326530612,
          51.3265306122449,
          52.244897959183675,
          53.16326530612245,
          54.08163265306123,
          55
         ],
         "y": [
          1.0240173028449425e-9,
          2.2511435590368684e-9,
          4.609614052093943e-9,
          8.885961933058613e-9,
          1.6261939686337854e-8,
          2.84449513447207e-8,
          4.7819121852869635e-8,
          7.761503307295947e-8,
          1.2209508801838404e-7,
          1.8675049901195257e-7,
          2.785050788878907e-7,
          4.059203828206893e-7,
          5.793963256764414e-7,
          8.113611981920025e-7,
          0.0000011164450263647488,
          0.0000015116304543056798,
          0.000002016375765589661,
          0.000002652705269471753,
          0.0000034452630389343627,
          0.000004421326866641412,
          0.00000561078026969429,
          0.000007046041391013861,
          0.000008761948680964269,
          0.000010795604265597055,
          0.000013186176887956943,
          0.000015974667219535478,
          0.00001920363915701369,
          0.000022916921425729332,
          0.00002715928439099309,
          0.000031976097421119965,
          0.000037412972446046174,
          0.000043515399511341855,
          0.000050328380142223015,
          0.000057896064212630665,
          0.00006626139577087242,
          0.00007546577291892803,
          0.00008554872639285357,
          0.00009654762096402442,
          0.0001084973831935124,
          0.00012143025844334739,
          0.00013537559939719358,
          0.00015035968768669294,
          0.0001664055895747246,
          0.00018353304602772869,
          0.00020175839692868137,
          0.00022109453865071525,
          0.00024155091373683738,
          0.0002631335310195083,
          0.00028584501416847863,
          0.0003096846763776323
         ]
        }
       ],
       "layout": {
        "font": {
         "size": 14
        },
        "legend": {
         "bgcolor": "rgba(255,255,255,0.8)",
         "bordercolor": "black",
         "borderwidth": 1
        },
        "template": {
         "data": {
          "bar": [
           {
            "error_x": {
             "color": "#2a3f5f"
            },
            "error_y": {
             "color": "#2a3f5f"
            },
            "marker": {
             "line": {
              "color": "white",
              "width": 0.5
             },
             "pattern": {
              "fillmode": "overlay",
              "size": 10,
              "solidity": 0.2
             }
            },
            "type": "bar"
           }
          ],
          "barpolar": [
           {
            "marker": {
             "line": {
              "color": "white",
              "width": 0.5
             },
             "pattern": {
              "fillmode": "overlay",
              "size": 10,
              "solidity": 0.2
             }
            },
            "type": "barpolar"
           }
          ],
          "carpet": [
           {
            "aaxis": {
             "endlinecolor": "#2a3f5f",
             "gridcolor": "#C8D4E3",
             "linecolor": "#C8D4E3",
             "minorgridcolor": "#C8D4E3",
             "startlinecolor": "#2a3f5f"
            },
            "baxis": {
             "endlinecolor": "#2a3f5f",
             "gridcolor": "#C8D4E3",
             "linecolor": "#C8D4E3",
             "minorgridcolor": "#C8D4E3",
             "startlinecolor": "#2a3f5f"
            },
            "type": "carpet"
           }
          ],
          "choropleth": [
           {
            "colorbar": {
             "outlinewidth": 0,
             "ticks": ""
            },
            "type": "choropleth"
           }
          ],
          "contour": [
           {
            "colorbar": {
             "outlinewidth": 0,
             "ticks": ""
            },
            "colorscale": [
             [
              0,
              "#0d0887"
             ],
             [
              0.1111111111111111,
              "#46039f"
             ],
             [
              0.2222222222222222,
              "#7201a8"
             ],
             [
              0.3333333333333333,
              "#9c179e"
             ],
             [
              0.4444444444444444,
              "#bd3786"
             ],
             [
              0.5555555555555556,
              "#d8576b"
             ],
             [
              0.6666666666666666,
              "#ed7953"
             ],
             [
              0.7777777777777778,
              "#fb9f3a"
             ],
             [
              0.8888888888888888,
              "#fdca26"
             ],
             [
              1,
              "#f0f921"
             ]
            ],
            "type": "contour"
           }
          ],
          "contourcarpet": [
           {
            "colorbar": {
             "outlinewidth": 0,
             "ticks": ""
            },
            "type": "contourcarpet"
           }
          ],
          "heatmap": [
           {
            "colorbar": {
             "outlinewidth": 0,
             "ticks": ""
            },
            "colorscale": [
             [
              0,
              "#0d0887"
             ],
             [
              0.1111111111111111,
              "#46039f"
             ],
             [
              0.2222222222222222,
              "#7201a8"
             ],
             [
              0.3333333333333333,
              "#9c179e"
             ],
             [
              0.4444444444444444,
              "#bd3786"
             ],
             [
              0.5555555555555556,
              "#d8576b"
             ],
             [
              0.6666666666666666,
              "#ed7953"
             ],
             [
              0.7777777777777778,
              "#fb9f3a"
             ],
             [
              0.8888888888888888,
              "#fdca26"
             ],
             [
              1,
              "#f0f921"
             ]
            ],
            "type": "heatmap"
           }
          ],
          "heatmapgl": [
           {
            "colorbar": {
             "outlinewidth": 0,
             "ticks": ""
            },
            "colorscale": [
             [
              0,
              "#0d0887"
             ],
             [
              0.1111111111111111,
              "#46039f"
             ],
             [
              0.2222222222222222,
              "#7201a8"
             ],
             [
              0.3333333333333333,
              "#9c179e"
             ],
             [
              0.4444444444444444,
              "#bd3786"
             ],
             [
              0.5555555555555556,
              "#d8576b"
             ],
             [
              0.6666666666666666,
              "#ed7953"
             ],
             [
              0.7777777777777778,
              "#fb9f3a"
             ],
             [
              0.8888888888888888,
              "#fdca26"
             ],
             [
              1,
              "#f0f921"
             ]
            ],
            "type": "heatmapgl"
           }
          ],
          "histogram": [
           {
            "marker": {
             "pattern": {
              "fillmode": "overlay",
              "size": 10,
              "solidity": 0.2
             }
            },
            "type": "histogram"
           }
          ],
          "histogram2d": [
           {
            "colorbar": {
             "outlinewidth": 0,
             "ticks": ""
            },
            "colorscale": [
             [
              0,
              "#0d0887"
             ],
             [
              0.1111111111111111,
              "#46039f"
             ],
             [
              0.2222222222222222,
              "#7201a8"
             ],
             [
              0.3333333333333333,
              "#9c179e"
             ],
             [
              0.4444444444444444,
              "#bd3786"
             ],
             [
              0.5555555555555556,
              "#d8576b"
             ],
             [
              0.6666666666666666,
              "#ed7953"
             ],
             [
              0.7777777777777778,
              "#fb9f3a"
             ],
             [
              0.8888888888888888,
              "#fdca26"
             ],
             [
              1,
              "#f0f921"
             ]
            ],
            "type": "histogram2d"
           }
          ],
          "histogram2dcontour": [
           {
            "colorbar": {
             "outlinewidth": 0,
             "ticks": ""
            },
            "colorscale": [
             [
              0,
              "#0d0887"
             ],
             [
              0.1111111111111111,
              "#46039f"
             ],
             [
              0.2222222222222222,
              "#7201a8"
             ],
             [
              0.3333333333333333,
              "#9c179e"
             ],
             [
              0.4444444444444444,
              "#bd3786"
             ],
             [
              0.5555555555555556,
              "#d8576b"
             ],
             [
              0.6666666666666666,
              "#ed7953"
             ],
             [
              0.7777777777777778,
              "#fb9f3a"
             ],
             [
              0.8888888888888888,
              "#fdca26"
             ],
             [
              1,
              "#f0f921"
             ]
            ],
            "type": "histogram2dcontour"
           }
          ],
          "mesh3d": [
           {
            "colorbar": {
             "outlinewidth": 0,
             "ticks": ""
            },
            "type": "mesh3d"
           }
          ],
          "parcoords": [
           {
            "line": {
             "colorbar": {
              "outlinewidth": 0,
              "ticks": ""
             }
            },
            "type": "parcoords"
           }
          ],
          "pie": [
           {
            "automargin": true,
            "type": "pie"
           }
          ],
          "scatter": [
           {
            "fillpattern": {
             "fillmode": "overlay",
             "size": 10,
             "solidity": 0.2
            },
            "type": "scatter"
           }
          ],
          "scatter3d": [
           {
            "line": {
             "colorbar": {
              "outlinewidth": 0,
              "ticks": ""
             }
            },
            "marker": {
             "colorbar": {
              "outlinewidth": 0,
              "ticks": ""
             }
            },
            "type": "scatter3d"
           }
          ],
          "scattercarpet": [
           {
            "marker": {
             "colorbar": {
              "outlinewidth": 0,
              "ticks": ""
             }
            },
            "type": "scattercarpet"
           }
          ],
          "scattergeo": [
           {
            "marker": {
             "colorbar": {
              "outlinewidth": 0,
              "ticks": ""
             }
            },
            "type": "scattergeo"
           }
          ],
          "scattergl": [
           {
            "marker": {
             "colorbar": {
              "outlinewidth": 0,
              "ticks": ""
             }
            },
            "type": "scattergl"
           }
          ],
          "scattermapbox": [
           {
            "marker": {
             "colorbar": {
              "outlinewidth": 0,
              "ticks": ""
             }
            },
            "type": "scattermapbox"
           }
          ],
          "scatterpolar": [
           {
            "marker": {
             "colorbar": {
              "outlinewidth": 0,
              "ticks": ""
             }
            },
            "type": "scatterpolar"
           }
          ],
          "scatterpolargl": [
           {
            "marker": {
             "colorbar": {
              "outlinewidth": 0,
              "ticks": ""
             }
            },
            "type": "scatterpolargl"
           }
          ],
          "scatterternary": [
           {
            "marker": {
             "colorbar": {
              "outlinewidth": 0,
              "ticks": ""
             }
            },
            "type": "scatterternary"
           }
          ],
          "surface": [
           {
            "colorbar": {
             "outlinewidth": 0,
             "ticks": ""
            },
            "colorscale": [
             [
              0,
              "#0d0887"
             ],
             [
              0.1111111111111111,
              "#46039f"
             ],
             [
              0.2222222222222222,
              "#7201a8"
             ],
             [
              0.3333333333333333,
              "#9c179e"
             ],
             [
              0.4444444444444444,
              "#bd3786"
             ],
             [
              0.5555555555555556,
              "#d8576b"
             ],
             [
              0.6666666666666666,
              "#ed7953"
             ],
             [
              0.7777777777777778,
              "#fb9f3a"
             ],
             [
              0.8888888888888888,
              "#fdca26"
             ],
             [
              1,
              "#f0f921"
             ]
            ],
            "type": "surface"
           }
          ],
          "table": [
           {
            "cells": {
             "fill": {
              "color": "#EBF0F8"
             },
             "line": {
              "color": "white"
             }
            },
            "header": {
             "fill": {
              "color": "#C8D4E3"
             },
             "line": {
              "color": "white"
             }
            },
            "type": "table"
           }
          ]
         },
         "layout": {
          "annotationdefaults": {
           "arrowcolor": "#2a3f5f",
           "arrowhead": 0,
           "arrowwidth": 1
          },
          "autotypenumbers": "strict",
          "coloraxis": {
           "colorbar": {
            "outlinewidth": 0,
            "ticks": ""
           }
          },
          "colorscale": {
           "diverging": [
            [
             0,
             "#8e0152"
            ],
            [
             0.1,
             "#c51b7d"
            ],
            [
             0.2,
             "#de77ae"
            ],
            [
             0.3,
             "#f1b6da"
            ],
            [
             0.4,
             "#fde0ef"
            ],
            [
             0.5,
             "#f7f7f7"
            ],
            [
             0.6,
             "#e6f5d0"
            ],
            [
             0.7,
             "#b8e186"
            ],
            [
             0.8,
             "#7fbc41"
            ],
            [
             0.9,
             "#4d9221"
            ],
            [
             1,
             "#276419"
            ]
           ],
           "sequential": [
            [
             0,
             "#0d0887"
            ],
            [
             0.1111111111111111,
             "#46039f"
            ],
            [
             0.2222222222222222,
             "#7201a8"
            ],
            [
             0.3333333333333333,
             "#9c179e"
            ],
            [
             0.4444444444444444,
             "#bd3786"
            ],
            [
             0.5555555555555556,
             "#d8576b"
            ],
            [
             0.6666666666666666,
             "#ed7953"
            ],
            [
             0.7777777777777778,
             "#fb9f3a"
            ],
            [
             0.8888888888888888,
             "#fdca26"
            ],
            [
             1,
             "#f0f921"
            ]
           ],
           "sequentialminus": [
            [
             0,
             "#0d0887"
            ],
            [
             0.1111111111111111,
             "#46039f"
            ],
            [
             0.2222222222222222,
             "#7201a8"
            ],
            [
             0.3333333333333333,
             "#9c179e"
            ],
            [
             0.4444444444444444,
             "#bd3786"
            ],
            [
             0.5555555555555556,
             "#d8576b"
            ],
            [
             0.6666666666666666,
             "#ed7953"
            ],
            [
             0.7777777777777778,
             "#fb9f3a"
            ],
            [
             0.8888888888888888,
             "#fdca26"
            ],
            [
             1,
             "#f0f921"
            ]
           ]
          },
          "colorway": [
           "#636efa",
           "#EF553B",
           "#00cc96",
           "#ab63fa",
           "#FFA15A",
           "#19d3f3",
           "#FF6692",
           "#B6E880",
           "#FF97FF",
           "#FECB52"
          ],
          "font": {
           "color": "#2a3f5f"
          },
          "geo": {
           "bgcolor": "white",
           "lakecolor": "white",
           "landcolor": "white",
           "showlakes": true,
           "showland": true,
           "subunitcolor": "#C8D4E3"
          },
          "hoverlabel": {
           "align": "left"
          },
          "hovermode": "closest",
          "mapbox": {
           "style": "light"
          },
          "paper_bgcolor": "white",
          "plot_bgcolor": "white",
          "polar": {
           "angularaxis": {
            "gridcolor": "#EBF0F8",
            "linecolor": "#EBF0F8",
            "ticks": ""
           },
           "bgcolor": "white",
           "radialaxis": {
            "gridcolor": "#EBF0F8",
            "linecolor": "#EBF0F8",
            "ticks": ""
           }
          },
          "scene": {
           "xaxis": {
            "backgroundcolor": "white",
            "gridcolor": "#DFE8F3",
            "gridwidth": 2,
            "linecolor": "#EBF0F8",
            "showbackground": true,
            "ticks": "",
            "zerolinecolor": "#EBF0F8"
           },
           "yaxis": {
            "backgroundcolor": "white",
            "gridcolor": "#DFE8F3",
            "gridwidth": 2,
            "linecolor": "#EBF0F8",
            "showbackground": true,
            "ticks": "",
            "zerolinecolor": "#EBF0F8"
           },
           "zaxis": {
            "backgroundcolor": "white",
            "gridcolor": "#DFE8F3",
            "gridwidth": 2,
            "linecolor": "#EBF0F8",
            "showbackground": true,
            "ticks": "",
            "zerolinecolor": "#EBF0F8"
           }
          },
          "shapedefaults": {
           "line": {
            "color": "#2a3f5f"
           }
          },
          "ternary": {
           "aaxis": {
            "gridcolor": "#DFE8F3",
            "linecolor": "#A2B1C6",
            "ticks": ""
           },
           "baxis": {
            "gridcolor": "#DFE8F3",
            "linecolor": "#A2B1C6",
            "ticks": ""
           },
           "bgcolor": "white",
           "caxis": {
            "gridcolor": "#DFE8F3",
            "linecolor": "#A2B1C6",
            "ticks": ""
           }
          },
          "title": {
           "x": 0.05
          },
          "xaxis": {
           "automargin": true,
           "gridcolor": "#EBF0F8",
           "linecolor": "#EBF0F8",
           "ticks": "",
           "title": {
            "standoff": 15
           },
           "zerolinecolor": "#EBF0F8",
           "zerolinewidth": 2
          },
          "yaxis": {
           "automargin": true,
           "gridcolor": "#EBF0F8",
           "linecolor": "#EBF0F8",
           "ticks": "",
           "title": {
            "standoff": 15
           },
           "zerolinecolor": "#EBF0F8",
           "zerolinewidth": 2
          }
         }
        },
        "title": {
         "font": {
          "size": 20
         },
         "text": "Enhanced Erlang A Metrics"
        },
        "xaxis": {
         "title": {
          "text": "Arrival Rate (λ)"
         }
        },
        "yaxis": {
         "title": {
          "text": "Metrics"
         }
        }
       }
      }
     },
     "metadata": {},
     "output_type": "display_data"
    },
    {
     "data": {
      "application/vnd.jupyter.widget-view+json": {
       "model_id": "029da09b2de64b298ed07b9c8b0c943c",
       "version_major": 2,
       "version_minor": 0
      },
      "text/plain": [
       "interactive(children=(IntSlider(value=55, description='lambda_val', min=10, step=5), IntSlider(value=10, descr…"
      ]
     },
     "metadata": {},
     "output_type": "display_data"
    },
    {
     "data": {
      "application/vnd.plotly.v1+json": {
       "config": {
        "plotlyServerURL": "https://plot.ly"
       },
       "data": [
        {
         "fill": "tozeroy",
         "fillcolor": "rgba(135, 206, 250, 0.4)",
         "line": {
          "color": "blue",
          "width": 2
         },
         "mode": "lines",
         "name": "Abandonment Probability",
         "type": "scatter",
         "x": [
          10,
          10.510204081632653,
          11.020408163265307,
          11.53061224489796,
          12.040816326530612,
          12.551020408163264,
          13.061224489795919,
          13.571428571428571,
          14.081632653061224,
          14.591836734693878,
          15.10204081632653,
          15.612244897959183,
          16.122448979591837,
          16.632653061224488,
          17.142857142857142,
          17.653061224489797,
          18.163265306122447,
          18.6734693877551,
          19.183673469387756,
          19.693877551020407,
          20.20408163265306,
          20.714285714285715,
          21.224489795918366,
          21.73469387755102,
          22.244897959183675,
          22.755102040816325,
          23.26530612244898,
          23.775510204081634,
          24.285714285714285,
          24.79591836734694,
          25.306122448979593,
          25.816326530612244,
          26.3265306122449,
          26.836734693877553,
          27.346938775510203,
          27.857142857142858,
          28.367346938775512,
          28.877551020408163,
          29.387755102040817,
          29.89795918367347,
          30.408163265306122,
          30.918367346938776,
          31.42857142857143,
          31.93877551020408,
          32.44897959183673,
          32.95918367346939,
          33.46938775510204,
          33.9795918367347,
          34.48979591836735,
          35
         ],
         "y": [
          0.0000010137772325909104,
          0.0000015075961531722747,
          0.00000219485561689646,
          0.0000031342982867345886,
          0.000004397588626467449,
          0.000006071063443581681,
          0.000008257541617435486,
          0.00001107817303360515,
          0.00001467430546227017,
          0.00001920934720973526,
          0.000024870602837114836,
          0.00003187105907116307,
          0.00004045109821551644,
          0.00005088011688743687,
          0.00006345802873255225,
          0.00007851663088182271,
          0.00009642081528225727,
          0.00011756960762519111,
          0.0001423970183815143,
          0.00017137269239985646,
          0.00020500234559904157,
          0.0002438279794582114,
          0.0002884278662457162,
          0.0003394163002011153,
          0.0003974431121647022,
          0.0004631929474088529,
          0.000537384308639775,
          0.0006207683682836522,
          0.0007141275562263619,
          0.0008182739311217637,
          0.0009340473452030005,
          0.0010623134142097482,
          0.001203961305569221,
          0.001359901359330041,
          0.0015310625575376505,
          0.0017183898587521582,
          0.001922841415240635,
          0.0021453856910244465,
          0.002386998499428624,
          0.002648659979066704,
          0.0029313515273053643,
          0.003236052710193687,
          0.0035637381676198723,
          0.003915374532081687,
          0.0042919173789363165,
          0.004694308225340567,
          0.005123471594316439,
          0.005580312159491249,
          0.00606571198507948,
          0.006580527874608637
         ]
        },
        {
         "fill": "tonexty",
         "fillcolor": "rgba(144, 238, 144, 0.4)",
         "line": {
          "color": "green",
          "dash": "dash",
          "width": 2
         },
         "mode": "lines",
         "name": "Average Wait Time",
         "type": "scatter",
         "x": [
          10,
          10.510204081632653,
          11.020408163265307,
          11.53061224489796,
          12.040816326530612,
          12.551020408163264,
          13.061224489795919,
          13.571428571428571,
          14.081632653061224,
          14.591836734693878,
          15.10204081632653,
          15.612244897959183,
          16.122448979591837,
          16.632653061224488,
          17.142857142857142,
          17.653061224489797,
          18.163265306122447,
          18.6734693877551,
          19.183673469387756,
          19.693877551020407,
          20.20408163265306,
          20.714285714285715,
          21.224489795918366,
          21.73469387755102,
          22.244897959183675,
          22.755102040816325,
          23.26530612244898,
          23.775510204081634,
          24.285714285714285,
          24.79591836734694,
          25.306122448979593,
          25.816326530612244,
          26.3265306122449,
          26.836734693877553,
          27.346938775510203,
          27.857142857142858,
          28.367346938775512,
          28.877551020408163,
          29.387755102040817,
          29.89795918367347,
          30.408163265306122,
          30.918367346938776,
          31.42857142857143,
          31.93877551020408,
          32.44897959183673,
          32.95918367346939,
          33.46938775510204,
          33.9795918367347,
          34.48979591836735,
          35
         ],
         "y": [
          1.1404993866647743e-8,
          1.697128024375171e-8,
          2.4723660971937138e-8,
          3.532844842044609e-8,
          4.9599401132279916e-8,
          6.851795210798519e-8,
          9.325418318281818e-8,
          1.2518832307033624e-7,
          1.6593253099643963e-7,
          2.1735271634363693e-7,
          2.8159013738556203e-7,
          3.6108251895652956e-7,
          4.585844296412018e-7,
          5.771866635976761e-7,
          7.203343802073499e-7,
          8.918437661013217e-7,
          0.000001095916998440089,
          0.0000013371553052923092,
          0.0000016205699382257497,
          0.000001951590893436713,
          0.000002336073240547218,
          0.0000027803009422384285,
          0.000003290988072816581,
          0.000003875277369286521,
          0.000004540736074213308,
          0.0000052953490552768405,
          0.000006147509211676803,
          0.000007106005202156797,
          0.000008180006553138328,
          0.00000937904622806232,
          0.000010713000760325702,
          0.00001219206807199737,
          0.000013826743118646522,
          0.00001562779151699148,
          0.000017606221326573765,
          0.00001977325316920292,
          0.000022140288880446997,
          0.00002471887889593157,
          0.00002752068858164766,
          0.00003055746372186832,
          0.000033840995380671877,
          0.0000373830843535145,
          0.00004119550542386274,
          0.00004528997163666948,
          0.00004967809879556209,
          0.000054371370384115303,
          0.00005938110310364126,
          0.00006471841321066774,
          0.00007039418382684344,
          0.00007641903338255192
         ]
        }
       ],
       "layout": {
        "font": {
         "size": 14
        },
        "legend": {
         "bgcolor": "rgba(255,255,255,0.8)",
         "bordercolor": "black",
         "borderwidth": 1
        },
        "template": {
         "data": {
          "bar": [
           {
            "error_x": {
             "color": "#2a3f5f"
            },
            "error_y": {
             "color": "#2a3f5f"
            },
            "marker": {
             "line": {
              "color": "white",
              "width": 0.5
             },
             "pattern": {
              "fillmode": "overlay",
              "size": 10,
              "solidity": 0.2
             }
            },
            "type": "bar"
           }
          ],
          "barpolar": [
           {
            "marker": {
             "line": {
              "color": "white",
              "width": 0.5
             },
             "pattern": {
              "fillmode": "overlay",
              "size": 10,
              "solidity": 0.2
             }
            },
            "type": "barpolar"
           }
          ],
          "carpet": [
           {
            "aaxis": {
             "endlinecolor": "#2a3f5f",
             "gridcolor": "#C8D4E3",
             "linecolor": "#C8D4E3",
             "minorgridcolor": "#C8D4E3",
             "startlinecolor": "#2a3f5f"
            },
            "baxis": {
             "endlinecolor": "#2a3f5f",
             "gridcolor": "#C8D4E3",
             "linecolor": "#C8D4E3",
             "minorgridcolor": "#C8D4E3",
             "startlinecolor": "#2a3f5f"
            },
            "type": "carpet"
           }
          ],
          "choropleth": [
           {
            "colorbar": {
             "outlinewidth": 0,
             "ticks": ""
            },
            "type": "choropleth"
           }
          ],
          "contour": [
           {
            "colorbar": {
             "outlinewidth": 0,
             "ticks": ""
            },
            "colorscale": [
             [
              0,
              "#0d0887"
             ],
             [
              0.1111111111111111,
              "#46039f"
             ],
             [
              0.2222222222222222,
              "#7201a8"
             ],
             [
              0.3333333333333333,
              "#9c179e"
             ],
             [
              0.4444444444444444,
              "#bd3786"
             ],
             [
              0.5555555555555556,
              "#d8576b"
             ],
             [
              0.6666666666666666,
              "#ed7953"
             ],
             [
              0.7777777777777778,
              "#fb9f3a"
             ],
             [
              0.8888888888888888,
              "#fdca26"
             ],
             [
              1,
              "#f0f921"
             ]
            ],
            "type": "contour"
           }
          ],
          "contourcarpet": [
           {
            "colorbar": {
             "outlinewidth": 0,
             "ticks": ""
            },
            "type": "contourcarpet"
           }
          ],
          "heatmap": [
           {
            "colorbar": {
             "outlinewidth": 0,
             "ticks": ""
            },
            "colorscale": [
             [
              0,
              "#0d0887"
             ],
             [
              0.1111111111111111,
              "#46039f"
             ],
             [
              0.2222222222222222,
              "#7201a8"
             ],
             [
              0.3333333333333333,
              "#9c179e"
             ],
             [
              0.4444444444444444,
              "#bd3786"
             ],
             [
              0.5555555555555556,
              "#d8576b"
             ],
             [
              0.6666666666666666,
              "#ed7953"
             ],
             [
              0.7777777777777778,
              "#fb9f3a"
             ],
             [
              0.8888888888888888,
              "#fdca26"
             ],
             [
              1,
              "#f0f921"
             ]
            ],
            "type": "heatmap"
           }
          ],
          "heatmapgl": [
           {
            "colorbar": {
             "outlinewidth": 0,
             "ticks": ""
            },
            "colorscale": [
             [
              0,
              "#0d0887"
             ],
             [
              0.1111111111111111,
              "#46039f"
             ],
             [
              0.2222222222222222,
              "#7201a8"
             ],
             [
              0.3333333333333333,
              "#9c179e"
             ],
             [
              0.4444444444444444,
              "#bd3786"
             ],
             [
              0.5555555555555556,
              "#d8576b"
             ],
             [
              0.6666666666666666,
              "#ed7953"
             ],
             [
              0.7777777777777778,
              "#fb9f3a"
             ],
             [
              0.8888888888888888,
              "#fdca26"
             ],
             [
              1,
              "#f0f921"
             ]
            ],
            "type": "heatmapgl"
           }
          ],
          "histogram": [
           {
            "marker": {
             "pattern": {
              "fillmode": "overlay",
              "size": 10,
              "solidity": 0.2
             }
            },
            "type": "histogram"
           }
          ],
          "histogram2d": [
           {
            "colorbar": {
             "outlinewidth": 0,
             "ticks": ""
            },
            "colorscale": [
             [
              0,
              "#0d0887"
             ],
             [
              0.1111111111111111,
              "#46039f"
             ],
             [
              0.2222222222222222,
              "#7201a8"
             ],
             [
              0.3333333333333333,
              "#9c179e"
             ],
             [
              0.4444444444444444,
              "#bd3786"
             ],
             [
              0.5555555555555556,
              "#d8576b"
             ],
             [
              0.6666666666666666,
              "#ed7953"
             ],
             [
              0.7777777777777778,
              "#fb9f3a"
             ],
             [
              0.8888888888888888,
              "#fdca26"
             ],
             [
              1,
              "#f0f921"
             ]
            ],
            "type": "histogram2d"
           }
          ],
          "histogram2dcontour": [
           {
            "colorbar": {
             "outlinewidth": 0,
             "ticks": ""
            },
            "colorscale": [
             [
              0,
              "#0d0887"
             ],
             [
              0.1111111111111111,
              "#46039f"
             ],
             [
              0.2222222222222222,
              "#7201a8"
             ],
             [
              0.3333333333333333,
              "#9c179e"
             ],
             [
              0.4444444444444444,
              "#bd3786"
             ],
             [
              0.5555555555555556,
              "#d8576b"
             ],
             [
              0.6666666666666666,
              "#ed7953"
             ],
             [
              0.7777777777777778,
              "#fb9f3a"
             ],
             [
              0.8888888888888888,
              "#fdca26"
             ],
             [
              1,
              "#f0f921"
             ]
            ],
            "type": "histogram2dcontour"
           }
          ],
          "mesh3d": [
           {
            "colorbar": {
             "outlinewidth": 0,
             "ticks": ""
            },
            "type": "mesh3d"
           }
          ],
          "parcoords": [
           {
            "line": {
             "colorbar": {
              "outlinewidth": 0,
              "ticks": ""
             }
            },
            "type": "parcoords"
           }
          ],
          "pie": [
           {
            "automargin": true,
            "type": "pie"
           }
          ],
          "scatter": [
           {
            "fillpattern": {
             "fillmode": "overlay",
             "size": 10,
             "solidity": 0.2
            },
            "type": "scatter"
           }
          ],
          "scatter3d": [
           {
            "line": {
             "colorbar": {
              "outlinewidth": 0,
              "ticks": ""
             }
            },
            "marker": {
             "colorbar": {
              "outlinewidth": 0,
              "ticks": ""
             }
            },
            "type": "scatter3d"
           }
          ],
          "scattercarpet": [
           {
            "marker": {
             "colorbar": {
              "outlinewidth": 0,
              "ticks": ""
             }
            },
            "type": "scattercarpet"
           }
          ],
          "scattergeo": [
           {
            "marker": {
             "colorbar": {
              "outlinewidth": 0,
              "ticks": ""
             }
            },
            "type": "scattergeo"
           }
          ],
          "scattergl": [
           {
            "marker": {
             "colorbar": {
              "outlinewidth": 0,
              "ticks": ""
             }
            },
            "type": "scattergl"
           }
          ],
          "scattermapbox": [
           {
            "marker": {
             "colorbar": {
              "outlinewidth": 0,
              "ticks": ""
             }
            },
            "type": "scattermapbox"
           }
          ],
          "scatterpolar": [
           {
            "marker": {
             "colorbar": {
              "outlinewidth": 0,
              "ticks": ""
             }
            },
            "type": "scatterpolar"
           }
          ],
          "scatterpolargl": [
           {
            "marker": {
             "colorbar": {
              "outlinewidth": 0,
              "ticks": ""
             }
            },
            "type": "scatterpolargl"
           }
          ],
          "scatterternary": [
           {
            "marker": {
             "colorbar": {
              "outlinewidth": 0,
              "ticks": ""
             }
            },
            "type": "scatterternary"
           }
          ],
          "surface": [
           {
            "colorbar": {
             "outlinewidth": 0,
             "ticks": ""
            },
            "colorscale": [
             [
              0,
              "#0d0887"
             ],
             [
              0.1111111111111111,
              "#46039f"
             ],
             [
              0.2222222222222222,
              "#7201a8"
             ],
             [
              0.3333333333333333,
              "#9c179e"
             ],
             [
              0.4444444444444444,
              "#bd3786"
             ],
             [
              0.5555555555555556,
              "#d8576b"
             ],
             [
              0.6666666666666666,
              "#ed7953"
             ],
             [
              0.7777777777777778,
              "#fb9f3a"
             ],
             [
              0.8888888888888888,
              "#fdca26"
             ],
             [
              1,
              "#f0f921"
             ]
            ],
            "type": "surface"
           }
          ],
          "table": [
           {
            "cells": {
             "fill": {
              "color": "#EBF0F8"
             },
             "line": {
              "color": "white"
             }
            },
            "header": {
             "fill": {
              "color": "#C8D4E3"
             },
             "line": {
              "color": "white"
             }
            },
            "type": "table"
           }
          ]
         },
         "layout": {
          "annotationdefaults": {
           "arrowcolor": "#2a3f5f",
           "arrowhead": 0,
           "arrowwidth": 1
          },
          "autotypenumbers": "strict",
          "coloraxis": {
           "colorbar": {
            "outlinewidth": 0,
            "ticks": ""
           }
          },
          "colorscale": {
           "diverging": [
            [
             0,
             "#8e0152"
            ],
            [
             0.1,
             "#c51b7d"
            ],
            [
             0.2,
             "#de77ae"
            ],
            [
             0.3,
             "#f1b6da"
            ],
            [
             0.4,
             "#fde0ef"
            ],
            [
             0.5,
             "#f7f7f7"
            ],
            [
             0.6,
             "#e6f5d0"
            ],
            [
             0.7,
             "#b8e186"
            ],
            [
             0.8,
             "#7fbc41"
            ],
            [
             0.9,
             "#4d9221"
            ],
            [
             1,
             "#276419"
            ]
           ],
           "sequential": [
            [
             0,
             "#0d0887"
            ],
            [
             0.1111111111111111,
             "#46039f"
            ],
            [
             0.2222222222222222,
             "#7201a8"
            ],
            [
             0.3333333333333333,
             "#9c179e"
            ],
            [
             0.4444444444444444,
             "#bd3786"
            ],
            [
             0.5555555555555556,
             "#d8576b"
            ],
            [
             0.6666666666666666,
             "#ed7953"
            ],
            [
             0.7777777777777778,
             "#fb9f3a"
            ],
            [
             0.8888888888888888,
             "#fdca26"
            ],
            [
             1,
             "#f0f921"
            ]
           ],
           "sequentialminus": [
            [
             0,
             "#0d0887"
            ],
            [
             0.1111111111111111,
             "#46039f"
            ],
            [
             0.2222222222222222,
             "#7201a8"
            ],
            [
             0.3333333333333333,
             "#9c179e"
            ],
            [
             0.4444444444444444,
             "#bd3786"
            ],
            [
             0.5555555555555556,
             "#d8576b"
            ],
            [
             0.6666666666666666,
             "#ed7953"
            ],
            [
             0.7777777777777778,
             "#fb9f3a"
            ],
            [
             0.8888888888888888,
             "#fdca26"
            ],
            [
             1,
             "#f0f921"
            ]
           ]
          },
          "colorway": [
           "#636efa",
           "#EF553B",
           "#00cc96",
           "#ab63fa",
           "#FFA15A",
           "#19d3f3",
           "#FF6692",
           "#B6E880",
           "#FF97FF",
           "#FECB52"
          ],
          "font": {
           "color": "#2a3f5f"
          },
          "geo": {
           "bgcolor": "white",
           "lakecolor": "white",
           "landcolor": "white",
           "showlakes": true,
           "showland": true,
           "subunitcolor": "#C8D4E3"
          },
          "hoverlabel": {
           "align": "left"
          },
          "hovermode": "closest",
          "mapbox": {
           "style": "light"
          },
          "paper_bgcolor": "white",
          "plot_bgcolor": "white",
          "polar": {
           "angularaxis": {
            "gridcolor": "#EBF0F8",
            "linecolor": "#EBF0F8",
            "ticks": ""
           },
           "bgcolor": "white",
           "radialaxis": {
            "gridcolor": "#EBF0F8",
            "linecolor": "#EBF0F8",
            "ticks": ""
           }
          },
          "scene": {
           "xaxis": {
            "backgroundcolor": "white",
            "gridcolor": "#DFE8F3",
            "gridwidth": 2,
            "linecolor": "#EBF0F8",
            "showbackground": true,
            "ticks": "",
            "zerolinecolor": "#EBF0F8"
           },
           "yaxis": {
            "backgroundcolor": "white",
            "gridcolor": "#DFE8F3",
            "gridwidth": 2,
            "linecolor": "#EBF0F8",
            "showbackground": true,
            "ticks": "",
            "zerolinecolor": "#EBF0F8"
           },
           "zaxis": {
            "backgroundcolor": "white",
            "gridcolor": "#DFE8F3",
            "gridwidth": 2,
            "linecolor": "#EBF0F8",
            "showbackground": true,
            "ticks": "",
            "zerolinecolor": "#EBF0F8"
           }
          },
          "shapedefaults": {
           "line": {
            "color": "#2a3f5f"
           }
          },
          "ternary": {
           "aaxis": {
            "gridcolor": "#DFE8F3",
            "linecolor": "#A2B1C6",
            "ticks": ""
           },
           "baxis": {
            "gridcolor": "#DFE8F3",
            "linecolor": "#A2B1C6",
            "ticks": ""
           },
           "bgcolor": "white",
           "caxis": {
            "gridcolor": "#DFE8F3",
            "linecolor": "#A2B1C6",
            "ticks": ""
           }
          },
          "title": {
           "x": 0.05
          },
          "xaxis": {
           "automargin": true,
           "gridcolor": "#EBF0F8",
           "linecolor": "#EBF0F8",
           "ticks": "",
           "title": {
            "standoff": 15
           },
           "zerolinecolor": "#EBF0F8",
           "zerolinewidth": 2
          },
          "yaxis": {
           "automargin": true,
           "gridcolor": "#EBF0F8",
           "linecolor": "#EBF0F8",
           "ticks": "",
           "title": {
            "standoff": 15
           },
           "zerolinecolor": "#EBF0F8",
           "zerolinewidth": 2
          }
         }
        },
        "title": {
         "font": {
          "size": 20
         },
         "text": "Enhanced Erlang A Metrics"
        },
        "xaxis": {
         "title": {
          "text": "Arrival Rate (λ)"
         }
        },
        "yaxis": {
         "title": {
          "text": "Metrics"
         }
        }
       }
      }
     },
     "metadata": {},
     "output_type": "display_data"
    },
    {
     "data": {
      "text/plain": [
       "<function __main__.plot_erlang_a(lambda_val, mu_val, num_agents, gamma_val)>"
      ]
     },
     "execution_count": 11,
     "metadata": {},
     "output_type": "execute_result"
    }
   ],
   "source": [
    "import plotly.graph_objs as go\n",
    "import numpy as np\n",
    "from ipywidgets import interact\n",
    "from scipy.special import factorial\n",
    "\n",
    "# function for curve\n",
    "def calculate_erlang_a(lambda_val, mu_val, num_agents, gamma_val):\n",
    "    # Traffic intensity (A) and utilization (rho)\n",
    "    A = lambda_val / mu_val\n",
    "    rho = lambda_val / (num_agents * mu_val)\n",
    "    \n",
    "    # Abandonment Probability (P_A) - Simplified Erlang A formula\n",
    "    P_A = (A ** num_agents / factorial(num_agents)) / sum(A ** k / factorial(k) for k in range(num_agents + 1))\n",
    "    \n",
    "    # Average Wait Time (W_q)\n",
    "    if rho < 1:  # Avoid division by zero\n",
    "        W_q = P_A / (mu_val * (num_agents - rho))\n",
    "    else:\n",
    "        W_q = np.inf  # Infinite wait time if utilization exceeds capacity\n",
    "    \n",
    "    return P_A, W_q\n",
    "\n",
    "# function for computation and plot\n",
    "def plot_erlang_a(lambda_val, mu_val, num_agents, gamma_val):\n",
    "    # Generate arrival rates for the x-axis\n",
    "    arrival_rates = np.linspace(10, lambda_val, 50)\n",
    "    abandonment_probs = []\n",
    "    wait_times = []\n",
    "    \n",
    "    # arrival rate values\n",
    "    for arrival in arrival_rates:\n",
    "        P_A, W_q = calculate_erlang_a(arrival, mu_val, num_agents, gamma_val)\n",
    "        abandonment_probs.append(P_A)\n",
    "        wait_times.append(W_q)\n",
    "    \n",
    "    # plotly graph\n",
    "    fig = go.Figure()\n",
    "\n",
    "    # P(abandoment) curve\n",
    "    fig.add_trace(go.Scatter(\n",
    "        x=arrival_rates,\n",
    "        y=abandonment_probs,\n",
    "        mode='lines',\n",
    "        name='Abandonment Probability',\n",
    "        line=dict(color='blue', width=2),\n",
    "        fill='tozeroy',\n",
    "        fillcolor='rgba(135, 206, 250, 0.4)'\n",
    "    ))\n",
    "\n",
    "    # wait time curve\n",
    "    fig.add_trace(go.Scatter(\n",
    "        x=arrival_rates,\n",
    "        y=wait_times,\n",
    "        mode='lines',\n",
    "        name='Average Wait Time',\n",
    "        line=dict(color='green', width=2, dash='dash'),\n",
    "        fill='tonexty',\n",
    "        fillcolor='rgba(144, 238, 144, 0.4)'\n",
    "    ))\n",
    "\n",
    "    # updating layout\n",
    "    fig.update_layout(\n",
    "        title=\"Enhanced Erlang A Metrics\",\n",
    "        xaxis_title=\"Arrival Rate (λ)\",\n",
    "        yaxis_title=\"Metrics\",\n",
    "        template=\"plotly_white\",\n",
    "        legend=dict(\n",
    "            bgcolor=\"rgba(255,255,255,0.8)\",\n",
    "            bordercolor=\"black\",\n",
    "            borderwidth=1\n",
    "        ),\n",
    "        font=dict(size=14),\n",
    "        title_font=dict(size=20)\n",
    "    )\n",
    "\n",
    "    \n",
    "    fig.show()\n",
    "\n",
    "# interactive sliders\n",
    "interact(\n",
    "    plot_erlang_a,\n",
    "    lambda_val=(10, 100, 5),\n",
    "    mu_val=(1, 20, 1),\n",
    "    num_agents=(1, 20, 1),\n",
    "    gamma_val=(0.01, 1.0, 0.01)\n",
    ")\n"
   ]
  },
  {
   "cell_type": "code",
   "execution_count": 2,
   "metadata": {},
   "outputs": [
    {
     "data": {
      "application/vnd.plotly.v1+json": {
       "config": {
        "plotlyServerURL": "https://plot.ly"
       },
       "data": [
        {
         "fill": "tozeroy",
         "fillcolor": "rgba(135, 206, 250, 0.4)",
         "line": {
          "color": "blue",
          "width": 2
         },
         "mode": "lines",
         "name": "Abandonment Probability",
         "type": "scatter",
         "x": [
          10,
          11.83673469387755,
          13.673469387755102,
          15.510204081632654,
          17.346938775510203,
          19.183673469387756,
          21.02040816326531,
          22.857142857142858,
          24.693877551020407,
          26.53061224489796,
          28.367346938775512,
          30.20408163265306,
          32.04081632653062,
          33.87755102040816,
          35.714285714285715,
          37.55102040816327,
          39.38775510204081,
          41.22448979591837,
          43.06122448979592,
          44.89795918367347,
          46.734693877551024,
          48.57142857142857,
          50.40816326530612,
          52.244897959183675,
          54.08163265306123,
          55.91836734693878,
          57.755102040816325,
          59.59183673469388,
          61.42857142857143,
          63.26530612244898,
          65.10204081632654,
          66.93877551020408,
          68.77551020408163,
          70.61224489795919,
          72.44897959183675,
          74.28571428571429,
          76.12244897959184,
          77.95918367346938,
          79.79591836734694,
          81.63265306122449,
          83.46938775510205,
          85.3061224489796,
          87.14285714285714,
          88.9795918367347,
          90.81632653061224,
          92.6530612244898,
          94.48979591836735,
          96.3265306122449,
          98.16326530612245,
          100
         ],
         "y": [
          0.0030674846625766876,
          0.005936415346224596,
          0.01017707296040334,
          0.015943357541359223,
          0.023301974254438168,
          0.032238429648958185,
          0.04267077180353998,
          0.05446679496039197,
          0.06746147300839653,
          0.08147255450880123,
          0.09631327311459152,
          0.11180188437994544,
          0.12776822223643586,
          0.14405772165292474,
          0.16053344323101823,
          0.1770766224809628,
          0.19358619975361063,
          0.20997769950624756,
          0.22618173984336828,
          0.24214237550067907,
          0.25781541369176675,
          0.2731667928667236,
          0.28817107792102803,
          0.30281009949496085,
          0.31707174739355415,
          0.33094891674917576,
          0.34443859861847403,
          0.35754110290078117,
          0.37025939976822286,
          0.38259856546658566,
          0.3945653188545352,
          0.40616763603449535,
          0.4174144316484933,
          0.4283152967092835,
          0.4388802841135813,
          0.44911973418366147,
          0.4590441336764749,
          0.4686640026740587,
          0.47798980462455415,
          0.487031875545299,
          0.4958003690374298,
          0.504305214305935,
          0.5125560848412473,
          0.5205623758089566,
          0.5283331885229863,
          0.5358773206535508,
          0.543203261052347,
          0.5503191882706058,
          0.557232972006835,
          0.5639521768554027
         ]
        },
        {
         "fill": "tonexty",
         "fillcolor": "rgba(144, 238, 144, 0.4)",
         "line": {
          "color": "green",
          "dash": "dash",
          "width": 2
         },
         "mode": "lines",
         "name": "Average Wait Time",
         "type": "scatter",
         "x": [
          10,
          11.83673469387755,
          13.673469387755102,
          15.510204081632654,
          17.346938775510203,
          19.183673469387756,
          21.02040816326531,
          22.857142857142858,
          24.693877551020407,
          26.53061224489796,
          28.367346938775512,
          30.20408163265306,
          32.04081632653062,
          33.87755102040816,
          35.714285714285715,
          37.55102040816327,
          39.38775510204081,
          41.22448979591837,
          43.06122448979592,
          44.89795918367347,
          46.734693877551024,
          48.57142857142857,
          50.40816326530612,
          52.244897959183675,
          54.08163265306123,
          55.91836734693878,
          57.755102040816325,
          59.59183673469388,
          61.42857142857143,
          63.26530612244898,
          65.10204081632654,
          66.93877551020408,
          68.77551020408163,
          70.61224489795919,
          72.44897959183675,
          74.28571428571429,
          76.12244897959184,
          77.95918367346938,
          79.79591836734694,
          81.63265306122449,
          83.46938775510205,
          85.3061224489796,
          87.14285714285714,
          88.9795918367347,
          90.81632653061224,
          92.6530612244898,
          94.48979591836735,
          96.3265306122449,
          98.16326530612245,
          100
         ],
         "y": [
          0.00006390593047034765,
          0.0001246291139524444,
          0.00021531803759057157,
          0.0003399584506208016,
          0.000500788043187487,
          0.0006983567872674408,
          0.0009317592773500264,
          0.001198954606046364,
          0.0014971069644073504,
          0.001822901904534822,
          0.0021728132516643578,
          0.002543311204557719,
          0.0029310125887571895,
          0.0033327801515549162,
          0.0037457803420570925,
          0.0041675093667469625,
          0.004595796408879322,
          0.005028791434900357,
          0.005464943418306236,
          0.005902973333101132,
          0.006341845015510326,
          0.006780735993145621,
          null,
          null,
          null,
          null,
          null,
          null,
          null,
          null,
          null,
          null,
          null,
          null,
          null,
          null,
          null,
          null,
          null,
          null,
          null,
          null,
          null,
          null,
          null,
          null,
          null,
          null,
          null,
          null
         ]
        }
       ],
       "layout": {
        "font": {
         "size": 14
        },
        "legend": {
         "bgcolor": "rgba(255,255,255,0.8)",
         "bordercolor": "black",
         "borderwidth": 1
        },
        "template": {
         "data": {
          "bar": [
           {
            "error_x": {
             "color": "#2a3f5f"
            },
            "error_y": {
             "color": "#2a3f5f"
            },
            "marker": {
             "line": {
              "color": "white",
              "width": 0.5
             },
             "pattern": {
              "fillmode": "overlay",
              "size": 10,
              "solidity": 0.2
             }
            },
            "type": "bar"
           }
          ],
          "barpolar": [
           {
            "marker": {
             "line": {
              "color": "white",
              "width": 0.5
             },
             "pattern": {
              "fillmode": "overlay",
              "size": 10,
              "solidity": 0.2
             }
            },
            "type": "barpolar"
           }
          ],
          "carpet": [
           {
            "aaxis": {
             "endlinecolor": "#2a3f5f",
             "gridcolor": "#C8D4E3",
             "linecolor": "#C8D4E3",
             "minorgridcolor": "#C8D4E3",
             "startlinecolor": "#2a3f5f"
            },
            "baxis": {
             "endlinecolor": "#2a3f5f",
             "gridcolor": "#C8D4E3",
             "linecolor": "#C8D4E3",
             "minorgridcolor": "#C8D4E3",
             "startlinecolor": "#2a3f5f"
            },
            "type": "carpet"
           }
          ],
          "choropleth": [
           {
            "colorbar": {
             "outlinewidth": 0,
             "ticks": ""
            },
            "type": "choropleth"
           }
          ],
          "contour": [
           {
            "colorbar": {
             "outlinewidth": 0,
             "ticks": ""
            },
            "colorscale": [
             [
              0,
              "#0d0887"
             ],
             [
              0.1111111111111111,
              "#46039f"
             ],
             [
              0.2222222222222222,
              "#7201a8"
             ],
             [
              0.3333333333333333,
              "#9c179e"
             ],
             [
              0.4444444444444444,
              "#bd3786"
             ],
             [
              0.5555555555555556,
              "#d8576b"
             ],
             [
              0.6666666666666666,
              "#ed7953"
             ],
             [
              0.7777777777777778,
              "#fb9f3a"
             ],
             [
              0.8888888888888888,
              "#fdca26"
             ],
             [
              1,
              "#f0f921"
             ]
            ],
            "type": "contour"
           }
          ],
          "contourcarpet": [
           {
            "colorbar": {
             "outlinewidth": 0,
             "ticks": ""
            },
            "type": "contourcarpet"
           }
          ],
          "heatmap": [
           {
            "colorbar": {
             "outlinewidth": 0,
             "ticks": ""
            },
            "colorscale": [
             [
              0,
              "#0d0887"
             ],
             [
              0.1111111111111111,
              "#46039f"
             ],
             [
              0.2222222222222222,
              "#7201a8"
             ],
             [
              0.3333333333333333,
              "#9c179e"
             ],
             [
              0.4444444444444444,
              "#bd3786"
             ],
             [
              0.5555555555555556,
              "#d8576b"
             ],
             [
              0.6666666666666666,
              "#ed7953"
             ],
             [
              0.7777777777777778,
              "#fb9f3a"
             ],
             [
              0.8888888888888888,
              "#fdca26"
             ],
             [
              1,
              "#f0f921"
             ]
            ],
            "type": "heatmap"
           }
          ],
          "heatmapgl": [
           {
            "colorbar": {
             "outlinewidth": 0,
             "ticks": ""
            },
            "colorscale": [
             [
              0,
              "#0d0887"
             ],
             [
              0.1111111111111111,
              "#46039f"
             ],
             [
              0.2222222222222222,
              "#7201a8"
             ],
             [
              0.3333333333333333,
              "#9c179e"
             ],
             [
              0.4444444444444444,
              "#bd3786"
             ],
             [
              0.5555555555555556,
              "#d8576b"
             ],
             [
              0.6666666666666666,
              "#ed7953"
             ],
             [
              0.7777777777777778,
              "#fb9f3a"
             ],
             [
              0.8888888888888888,
              "#fdca26"
             ],
             [
              1,
              "#f0f921"
             ]
            ],
            "type": "heatmapgl"
           }
          ],
          "histogram": [
           {
            "marker": {
             "pattern": {
              "fillmode": "overlay",
              "size": 10,
              "solidity": 0.2
             }
            },
            "type": "histogram"
           }
          ],
          "histogram2d": [
           {
            "colorbar": {
             "outlinewidth": 0,
             "ticks": ""
            },
            "colorscale": [
             [
              0,
              "#0d0887"
             ],
             [
              0.1111111111111111,
              "#46039f"
             ],
             [
              0.2222222222222222,
              "#7201a8"
             ],
             [
              0.3333333333333333,
              "#9c179e"
             ],
             [
              0.4444444444444444,
              "#bd3786"
             ],
             [
              0.5555555555555556,
              "#d8576b"
             ],
             [
              0.6666666666666666,
              "#ed7953"
             ],
             [
              0.7777777777777778,
              "#fb9f3a"
             ],
             [
              0.8888888888888888,
              "#fdca26"
             ],
             [
              1,
              "#f0f921"
             ]
            ],
            "type": "histogram2d"
           }
          ],
          "histogram2dcontour": [
           {
            "colorbar": {
             "outlinewidth": 0,
             "ticks": ""
            },
            "colorscale": [
             [
              0,
              "#0d0887"
             ],
             [
              0.1111111111111111,
              "#46039f"
             ],
             [
              0.2222222222222222,
              "#7201a8"
             ],
             [
              0.3333333333333333,
              "#9c179e"
             ],
             [
              0.4444444444444444,
              "#bd3786"
             ],
             [
              0.5555555555555556,
              "#d8576b"
             ],
             [
              0.6666666666666666,
              "#ed7953"
             ],
             [
              0.7777777777777778,
              "#fb9f3a"
             ],
             [
              0.8888888888888888,
              "#fdca26"
             ],
             [
              1,
              "#f0f921"
             ]
            ],
            "type": "histogram2dcontour"
           }
          ],
          "mesh3d": [
           {
            "colorbar": {
             "outlinewidth": 0,
             "ticks": ""
            },
            "type": "mesh3d"
           }
          ],
          "parcoords": [
           {
            "line": {
             "colorbar": {
              "outlinewidth": 0,
              "ticks": ""
             }
            },
            "type": "parcoords"
           }
          ],
          "pie": [
           {
            "automargin": true,
            "type": "pie"
           }
          ],
          "scatter": [
           {
            "fillpattern": {
             "fillmode": "overlay",
             "size": 10,
             "solidity": 0.2
            },
            "type": "scatter"
           }
          ],
          "scatter3d": [
           {
            "line": {
             "colorbar": {
              "outlinewidth": 0,
              "ticks": ""
             }
            },
            "marker": {
             "colorbar": {
              "outlinewidth": 0,
              "ticks": ""
             }
            },
            "type": "scatter3d"
           }
          ],
          "scattercarpet": [
           {
            "marker": {
             "colorbar": {
              "outlinewidth": 0,
              "ticks": ""
             }
            },
            "type": "scattercarpet"
           }
          ],
          "scattergeo": [
           {
            "marker": {
             "colorbar": {
              "outlinewidth": 0,
              "ticks": ""
             }
            },
            "type": "scattergeo"
           }
          ],
          "scattergl": [
           {
            "marker": {
             "colorbar": {
              "outlinewidth": 0,
              "ticks": ""
             }
            },
            "type": "scattergl"
           }
          ],
          "scattermapbox": [
           {
            "marker": {
             "colorbar": {
              "outlinewidth": 0,
              "ticks": ""
             }
            },
            "type": "scattermapbox"
           }
          ],
          "scatterpolar": [
           {
            "marker": {
             "colorbar": {
              "outlinewidth": 0,
              "ticks": ""
             }
            },
            "type": "scatterpolar"
           }
          ],
          "scatterpolargl": [
           {
            "marker": {
             "colorbar": {
              "outlinewidth": 0,
              "ticks": ""
             }
            },
            "type": "scatterpolargl"
           }
          ],
          "scatterternary": [
           {
            "marker": {
             "colorbar": {
              "outlinewidth": 0,
              "ticks": ""
             }
            },
            "type": "scatterternary"
           }
          ],
          "surface": [
           {
            "colorbar": {
             "outlinewidth": 0,
             "ticks": ""
            },
            "colorscale": [
             [
              0,
              "#0d0887"
             ],
             [
              0.1111111111111111,
              "#46039f"
             ],
             [
              0.2222222222222222,
              "#7201a8"
             ],
             [
              0.3333333333333333,
              "#9c179e"
             ],
             [
              0.4444444444444444,
              "#bd3786"
             ],
             [
              0.5555555555555556,
              "#d8576b"
             ],
             [
              0.6666666666666666,
              "#ed7953"
             ],
             [
              0.7777777777777778,
              "#fb9f3a"
             ],
             [
              0.8888888888888888,
              "#fdca26"
             ],
             [
              1,
              "#f0f921"
             ]
            ],
            "type": "surface"
           }
          ],
          "table": [
           {
            "cells": {
             "fill": {
              "color": "#EBF0F8"
             },
             "line": {
              "color": "white"
             }
            },
            "header": {
             "fill": {
              "color": "#C8D4E3"
             },
             "line": {
              "color": "white"
             }
            },
            "type": "table"
           }
          ]
         },
         "layout": {
          "annotationdefaults": {
           "arrowcolor": "#2a3f5f",
           "arrowhead": 0,
           "arrowwidth": 1
          },
          "autotypenumbers": "strict",
          "coloraxis": {
           "colorbar": {
            "outlinewidth": 0,
            "ticks": ""
           }
          },
          "colorscale": {
           "diverging": [
            [
             0,
             "#8e0152"
            ],
            [
             0.1,
             "#c51b7d"
            ],
            [
             0.2,
             "#de77ae"
            ],
            [
             0.3,
             "#f1b6da"
            ],
            [
             0.4,
             "#fde0ef"
            ],
            [
             0.5,
             "#f7f7f7"
            ],
            [
             0.6,
             "#e6f5d0"
            ],
            [
             0.7,
             "#b8e186"
            ],
            [
             0.8,
             "#7fbc41"
            ],
            [
             0.9,
             "#4d9221"
            ],
            [
             1,
             "#276419"
            ]
           ],
           "sequential": [
            [
             0,
             "#0d0887"
            ],
            [
             0.1111111111111111,
             "#46039f"
            ],
            [
             0.2222222222222222,
             "#7201a8"
            ],
            [
             0.3333333333333333,
             "#9c179e"
            ],
            [
             0.4444444444444444,
             "#bd3786"
            ],
            [
             0.5555555555555556,
             "#d8576b"
            ],
            [
             0.6666666666666666,
             "#ed7953"
            ],
            [
             0.7777777777777778,
             "#fb9f3a"
            ],
            [
             0.8888888888888888,
             "#fdca26"
            ],
            [
             1,
             "#f0f921"
            ]
           ],
           "sequentialminus": [
            [
             0,
             "#0d0887"
            ],
            [
             0.1111111111111111,
             "#46039f"
            ],
            [
             0.2222222222222222,
             "#7201a8"
            ],
            [
             0.3333333333333333,
             "#9c179e"
            ],
            [
             0.4444444444444444,
             "#bd3786"
            ],
            [
             0.5555555555555556,
             "#d8576b"
            ],
            [
             0.6666666666666666,
             "#ed7953"
            ],
            [
             0.7777777777777778,
             "#fb9f3a"
            ],
            [
             0.8888888888888888,
             "#fdca26"
            ],
            [
             1,
             "#f0f921"
            ]
           ]
          },
          "colorway": [
           "#636efa",
           "#EF553B",
           "#00cc96",
           "#ab63fa",
           "#FFA15A",
           "#19d3f3",
           "#FF6692",
           "#B6E880",
           "#FF97FF",
           "#FECB52"
          ],
          "font": {
           "color": "#2a3f5f"
          },
          "geo": {
           "bgcolor": "white",
           "lakecolor": "white",
           "landcolor": "white",
           "showlakes": true,
           "showland": true,
           "subunitcolor": "#C8D4E3"
          },
          "hoverlabel": {
           "align": "left"
          },
          "hovermode": "closest",
          "mapbox": {
           "style": "light"
          },
          "paper_bgcolor": "white",
          "plot_bgcolor": "white",
          "polar": {
           "angularaxis": {
            "gridcolor": "#EBF0F8",
            "linecolor": "#EBF0F8",
            "ticks": ""
           },
           "bgcolor": "white",
           "radialaxis": {
            "gridcolor": "#EBF0F8",
            "linecolor": "#EBF0F8",
            "ticks": ""
           }
          },
          "scene": {
           "xaxis": {
            "backgroundcolor": "white",
            "gridcolor": "#DFE8F3",
            "gridwidth": 2,
            "linecolor": "#EBF0F8",
            "showbackground": true,
            "ticks": "",
            "zerolinecolor": "#EBF0F8"
           },
           "yaxis": {
            "backgroundcolor": "white",
            "gridcolor": "#DFE8F3",
            "gridwidth": 2,
            "linecolor": "#EBF0F8",
            "showbackground": true,
            "ticks": "",
            "zerolinecolor": "#EBF0F8"
           },
           "zaxis": {
            "backgroundcolor": "white",
            "gridcolor": "#DFE8F3",
            "gridwidth": 2,
            "linecolor": "#EBF0F8",
            "showbackground": true,
            "ticks": "",
            "zerolinecolor": "#EBF0F8"
           }
          },
          "shapedefaults": {
           "line": {
            "color": "#2a3f5f"
           }
          },
          "ternary": {
           "aaxis": {
            "gridcolor": "#DFE8F3",
            "linecolor": "#A2B1C6",
            "ticks": ""
           },
           "baxis": {
            "gridcolor": "#DFE8F3",
            "linecolor": "#A2B1C6",
            "ticks": ""
           },
           "bgcolor": "white",
           "caxis": {
            "gridcolor": "#DFE8F3",
            "linecolor": "#A2B1C6",
            "ticks": ""
           }
          },
          "title": {
           "x": 0.05
          },
          "xaxis": {
           "automargin": true,
           "gridcolor": "#EBF0F8",
           "linecolor": "#EBF0F8",
           "ticks": "",
           "title": {
            "standoff": 15
           },
           "zerolinecolor": "#EBF0F8",
           "zerolinewidth": 2
          },
          "yaxis": {
           "automargin": true,
           "gridcolor": "#EBF0F8",
           "linecolor": "#EBF0F8",
           "ticks": "",
           "title": {
            "standoff": 15
           },
           "zerolinecolor": "#EBF0F8",
           "zerolinewidth": 2
          }
         }
        },
        "title": {
         "font": {
          "size": 20
         },
         "text": "Erlang A Metrics with Lambda on X-Axis"
        },
        "xaxis": {
         "title": {
          "text": "Lambda"
         }
        },
        "yaxis": {
         "title": {
          "text": "Metrics"
         }
        }
       }
      }
     },
     "metadata": {},
     "output_type": "display_data"
    },
    {
     "data": {
      "application/vnd.jupyter.widget-view+json": {
       "model_id": "14e23fa7907d40d89b6a910a48810829",
       "version_major": 2,
       "version_minor": 0
      },
      "text/plain": [
       "interactive(children=(Dropdown(description='X-Axis', options=('lambda', 'mu', 'num_agents', 'gamma'), value='l…"
      ]
     },
     "metadata": {},
     "output_type": "display_data"
    },
    {
     "data": {
      "application/vnd.plotly.v1+json": {
       "config": {
        "plotlyServerURL": "https://plot.ly"
       },
       "data": [
        {
         "fill": "tozeroy",
         "fillcolor": "rgba(135, 206, 250, 0.4)",
         "line": {
          "color": "blue",
          "width": 2
         },
         "mode": "lines",
         "name": "Abandonment Probability",
         "type": "scatter",
         "x": [
          10,
          11.83673469387755,
          13.673469387755102,
          15.510204081632654,
          17.346938775510203,
          19.183673469387756,
          21.02040816326531,
          22.857142857142858,
          24.693877551020407,
          26.53061224489796,
          28.367346938775512,
          30.20408163265306,
          32.04081632653062,
          33.87755102040816,
          35.714285714285715,
          37.55102040816327,
          39.38775510204081,
          41.22448979591837,
          43.06122448979592,
          44.89795918367347,
          46.734693877551024,
          48.57142857142857,
          50.40816326530612,
          52.244897959183675,
          54.08163265306123,
          55.91836734693878,
          57.755102040816325,
          59.59183673469388,
          61.42857142857143,
          63.26530612244898,
          65.10204081632654,
          66.93877551020408,
          68.77551020408163,
          70.61224489795919,
          72.44897959183675,
          74.28571428571429,
          76.12244897959184,
          77.95918367346938,
          79.79591836734694,
          81.63265306122449,
          83.46938775510205,
          85.3061224489796,
          87.14285714285714,
          88.9795918367347,
          90.81632653061224,
          92.6530612244898,
          94.48979591836735,
          96.3265306122449,
          98.16326530612245,
          100
         ],
         "y": [
          0.0030674846625766876,
          0.005936415346224596,
          0.01017707296040334,
          0.015943357541359223,
          0.023301974254438168,
          0.032238429648958185,
          0.04267077180353998,
          0.05446679496039197,
          0.06746147300839653,
          0.08147255450880123,
          0.09631327311459152,
          0.11180188437994544,
          0.12776822223643586,
          0.14405772165292474,
          0.16053344323101823,
          0.1770766224809628,
          0.19358619975361063,
          0.20997769950624756,
          0.22618173984336828,
          0.24214237550067907,
          0.25781541369176675,
          0.2731667928667236,
          0.28817107792102803,
          0.30281009949496085,
          0.31707174739355415,
          0.33094891674917576,
          0.34443859861847403,
          0.35754110290078117,
          0.37025939976822286,
          0.38259856546658566,
          0.3945653188545352,
          0.40616763603449535,
          0.4174144316484933,
          0.4283152967092835,
          0.4388802841135813,
          0.44911973418366147,
          0.4590441336764749,
          0.4686640026740587,
          0.47798980462455415,
          0.487031875545299,
          0.4958003690374298,
          0.504305214305935,
          0.5125560848412473,
          0.5205623758089566,
          0.5283331885229863,
          0.5358773206535508,
          0.543203261052347,
          0.5503191882706058,
          0.557232972006835,
          0.5639521768554027
         ]
        },
        {
         "fill": "tonexty",
         "fillcolor": "rgba(144, 238, 144, 0.4)",
         "line": {
          "color": "green",
          "dash": "dash",
          "width": 2
         },
         "mode": "lines",
         "name": "Average Wait Time",
         "type": "scatter",
         "x": [
          10,
          11.83673469387755,
          13.673469387755102,
          15.510204081632654,
          17.346938775510203,
          19.183673469387756,
          21.02040816326531,
          22.857142857142858,
          24.693877551020407,
          26.53061224489796,
          28.367346938775512,
          30.20408163265306,
          32.04081632653062,
          33.87755102040816,
          35.714285714285715,
          37.55102040816327,
          39.38775510204081,
          41.22448979591837,
          43.06122448979592,
          44.89795918367347,
          46.734693877551024,
          48.57142857142857,
          50.40816326530612,
          52.244897959183675,
          54.08163265306123,
          55.91836734693878,
          57.755102040816325,
          59.59183673469388,
          61.42857142857143,
          63.26530612244898,
          65.10204081632654,
          66.93877551020408,
          68.77551020408163,
          70.61224489795919,
          72.44897959183675,
          74.28571428571429,
          76.12244897959184,
          77.95918367346938,
          79.79591836734694,
          81.63265306122449,
          83.46938775510205,
          85.3061224489796,
          87.14285714285714,
          88.9795918367347,
          90.81632653061224,
          92.6530612244898,
          94.48979591836735,
          96.3265306122449,
          98.16326530612245,
          100
         ],
         "y": [
          0.00006390593047034765,
          0.0001246291139524444,
          0.00021531803759057157,
          0.0003399584506208016,
          0.000500788043187487,
          0.0006983567872674408,
          0.0009317592773500264,
          0.001198954606046364,
          0.0014971069644073504,
          0.001822901904534822,
          0.0021728132516643578,
          0.002543311204557719,
          0.0029310125887571895,
          0.0033327801515549162,
          0.0037457803420570925,
          0.0041675093667469625,
          0.004595796408879322,
          0.005028791434900357,
          0.005464943418306236,
          0.005902973333101132,
          0.006341845015510326,
          0.006780735993145621,
          null,
          null,
          null,
          null,
          null,
          null,
          null,
          null,
          null,
          null,
          null,
          null,
          null,
          null,
          null,
          null,
          null,
          null,
          null,
          null,
          null,
          null,
          null,
          null,
          null,
          null,
          null,
          null
         ]
        }
       ],
       "layout": {
        "font": {
         "size": 14
        },
        "legend": {
         "bgcolor": "rgba(255,255,255,0.8)",
         "bordercolor": "black",
         "borderwidth": 1
        },
        "template": {
         "data": {
          "bar": [
           {
            "error_x": {
             "color": "#2a3f5f"
            },
            "error_y": {
             "color": "#2a3f5f"
            },
            "marker": {
             "line": {
              "color": "white",
              "width": 0.5
             },
             "pattern": {
              "fillmode": "overlay",
              "size": 10,
              "solidity": 0.2
             }
            },
            "type": "bar"
           }
          ],
          "barpolar": [
           {
            "marker": {
             "line": {
              "color": "white",
              "width": 0.5
             },
             "pattern": {
              "fillmode": "overlay",
              "size": 10,
              "solidity": 0.2
             }
            },
            "type": "barpolar"
           }
          ],
          "carpet": [
           {
            "aaxis": {
             "endlinecolor": "#2a3f5f",
             "gridcolor": "#C8D4E3",
             "linecolor": "#C8D4E3",
             "minorgridcolor": "#C8D4E3",
             "startlinecolor": "#2a3f5f"
            },
            "baxis": {
             "endlinecolor": "#2a3f5f",
             "gridcolor": "#C8D4E3",
             "linecolor": "#C8D4E3",
             "minorgridcolor": "#C8D4E3",
             "startlinecolor": "#2a3f5f"
            },
            "type": "carpet"
           }
          ],
          "choropleth": [
           {
            "colorbar": {
             "outlinewidth": 0,
             "ticks": ""
            },
            "type": "choropleth"
           }
          ],
          "contour": [
           {
            "colorbar": {
             "outlinewidth": 0,
             "ticks": ""
            },
            "colorscale": [
             [
              0,
              "#0d0887"
             ],
             [
              0.1111111111111111,
              "#46039f"
             ],
             [
              0.2222222222222222,
              "#7201a8"
             ],
             [
              0.3333333333333333,
              "#9c179e"
             ],
             [
              0.4444444444444444,
              "#bd3786"
             ],
             [
              0.5555555555555556,
              "#d8576b"
             ],
             [
              0.6666666666666666,
              "#ed7953"
             ],
             [
              0.7777777777777778,
              "#fb9f3a"
             ],
             [
              0.8888888888888888,
              "#fdca26"
             ],
             [
              1,
              "#f0f921"
             ]
            ],
            "type": "contour"
           }
          ],
          "contourcarpet": [
           {
            "colorbar": {
             "outlinewidth": 0,
             "ticks": ""
            },
            "type": "contourcarpet"
           }
          ],
          "heatmap": [
           {
            "colorbar": {
             "outlinewidth": 0,
             "ticks": ""
            },
            "colorscale": [
             [
              0,
              "#0d0887"
             ],
             [
              0.1111111111111111,
              "#46039f"
             ],
             [
              0.2222222222222222,
              "#7201a8"
             ],
             [
              0.3333333333333333,
              "#9c179e"
             ],
             [
              0.4444444444444444,
              "#bd3786"
             ],
             [
              0.5555555555555556,
              "#d8576b"
             ],
             [
              0.6666666666666666,
              "#ed7953"
             ],
             [
              0.7777777777777778,
              "#fb9f3a"
             ],
             [
              0.8888888888888888,
              "#fdca26"
             ],
             [
              1,
              "#f0f921"
             ]
            ],
            "type": "heatmap"
           }
          ],
          "heatmapgl": [
           {
            "colorbar": {
             "outlinewidth": 0,
             "ticks": ""
            },
            "colorscale": [
             [
              0,
              "#0d0887"
             ],
             [
              0.1111111111111111,
              "#46039f"
             ],
             [
              0.2222222222222222,
              "#7201a8"
             ],
             [
              0.3333333333333333,
              "#9c179e"
             ],
             [
              0.4444444444444444,
              "#bd3786"
             ],
             [
              0.5555555555555556,
              "#d8576b"
             ],
             [
              0.6666666666666666,
              "#ed7953"
             ],
             [
              0.7777777777777778,
              "#fb9f3a"
             ],
             [
              0.8888888888888888,
              "#fdca26"
             ],
             [
              1,
              "#f0f921"
             ]
            ],
            "type": "heatmapgl"
           }
          ],
          "histogram": [
           {
            "marker": {
             "pattern": {
              "fillmode": "overlay",
              "size": 10,
              "solidity": 0.2
             }
            },
            "type": "histogram"
           }
          ],
          "histogram2d": [
           {
            "colorbar": {
             "outlinewidth": 0,
             "ticks": ""
            },
            "colorscale": [
             [
              0,
              "#0d0887"
             ],
             [
              0.1111111111111111,
              "#46039f"
             ],
             [
              0.2222222222222222,
              "#7201a8"
             ],
             [
              0.3333333333333333,
              "#9c179e"
             ],
             [
              0.4444444444444444,
              "#bd3786"
             ],
             [
              0.5555555555555556,
              "#d8576b"
             ],
             [
              0.6666666666666666,
              "#ed7953"
             ],
             [
              0.7777777777777778,
              "#fb9f3a"
             ],
             [
              0.8888888888888888,
              "#fdca26"
             ],
             [
              1,
              "#f0f921"
             ]
            ],
            "type": "histogram2d"
           }
          ],
          "histogram2dcontour": [
           {
            "colorbar": {
             "outlinewidth": 0,
             "ticks": ""
            },
            "colorscale": [
             [
              0,
              "#0d0887"
             ],
             [
              0.1111111111111111,
              "#46039f"
             ],
             [
              0.2222222222222222,
              "#7201a8"
             ],
             [
              0.3333333333333333,
              "#9c179e"
             ],
             [
              0.4444444444444444,
              "#bd3786"
             ],
             [
              0.5555555555555556,
              "#d8576b"
             ],
             [
              0.6666666666666666,
              "#ed7953"
             ],
             [
              0.7777777777777778,
              "#fb9f3a"
             ],
             [
              0.8888888888888888,
              "#fdca26"
             ],
             [
              1,
              "#f0f921"
             ]
            ],
            "type": "histogram2dcontour"
           }
          ],
          "mesh3d": [
           {
            "colorbar": {
             "outlinewidth": 0,
             "ticks": ""
            },
            "type": "mesh3d"
           }
          ],
          "parcoords": [
           {
            "line": {
             "colorbar": {
              "outlinewidth": 0,
              "ticks": ""
             }
            },
            "type": "parcoords"
           }
          ],
          "pie": [
           {
            "automargin": true,
            "type": "pie"
           }
          ],
          "scatter": [
           {
            "fillpattern": {
             "fillmode": "overlay",
             "size": 10,
             "solidity": 0.2
            },
            "type": "scatter"
           }
          ],
          "scatter3d": [
           {
            "line": {
             "colorbar": {
              "outlinewidth": 0,
              "ticks": ""
             }
            },
            "marker": {
             "colorbar": {
              "outlinewidth": 0,
              "ticks": ""
             }
            },
            "type": "scatter3d"
           }
          ],
          "scattercarpet": [
           {
            "marker": {
             "colorbar": {
              "outlinewidth": 0,
              "ticks": ""
             }
            },
            "type": "scattercarpet"
           }
          ],
          "scattergeo": [
           {
            "marker": {
             "colorbar": {
              "outlinewidth": 0,
              "ticks": ""
             }
            },
            "type": "scattergeo"
           }
          ],
          "scattergl": [
           {
            "marker": {
             "colorbar": {
              "outlinewidth": 0,
              "ticks": ""
             }
            },
            "type": "scattergl"
           }
          ],
          "scattermapbox": [
           {
            "marker": {
             "colorbar": {
              "outlinewidth": 0,
              "ticks": ""
             }
            },
            "type": "scattermapbox"
           }
          ],
          "scatterpolar": [
           {
            "marker": {
             "colorbar": {
              "outlinewidth": 0,
              "ticks": ""
             }
            },
            "type": "scatterpolar"
           }
          ],
          "scatterpolargl": [
           {
            "marker": {
             "colorbar": {
              "outlinewidth": 0,
              "ticks": ""
             }
            },
            "type": "scatterpolargl"
           }
          ],
          "scatterternary": [
           {
            "marker": {
             "colorbar": {
              "outlinewidth": 0,
              "ticks": ""
             }
            },
            "type": "scatterternary"
           }
          ],
          "surface": [
           {
            "colorbar": {
             "outlinewidth": 0,
             "ticks": ""
            },
            "colorscale": [
             [
              0,
              "#0d0887"
             ],
             [
              0.1111111111111111,
              "#46039f"
             ],
             [
              0.2222222222222222,
              "#7201a8"
             ],
             [
              0.3333333333333333,
              "#9c179e"
             ],
             [
              0.4444444444444444,
              "#bd3786"
             ],
             [
              0.5555555555555556,
              "#d8576b"
             ],
             [
              0.6666666666666666,
              "#ed7953"
             ],
             [
              0.7777777777777778,
              "#fb9f3a"
             ],
             [
              0.8888888888888888,
              "#fdca26"
             ],
             [
              1,
              "#f0f921"
             ]
            ],
            "type": "surface"
           }
          ],
          "table": [
           {
            "cells": {
             "fill": {
              "color": "#EBF0F8"
             },
             "line": {
              "color": "white"
             }
            },
            "header": {
             "fill": {
              "color": "#C8D4E3"
             },
             "line": {
              "color": "white"
             }
            },
            "type": "table"
           }
          ]
         },
         "layout": {
          "annotationdefaults": {
           "arrowcolor": "#2a3f5f",
           "arrowhead": 0,
           "arrowwidth": 1
          },
          "autotypenumbers": "strict",
          "coloraxis": {
           "colorbar": {
            "outlinewidth": 0,
            "ticks": ""
           }
          },
          "colorscale": {
           "diverging": [
            [
             0,
             "#8e0152"
            ],
            [
             0.1,
             "#c51b7d"
            ],
            [
             0.2,
             "#de77ae"
            ],
            [
             0.3,
             "#f1b6da"
            ],
            [
             0.4,
             "#fde0ef"
            ],
            [
             0.5,
             "#f7f7f7"
            ],
            [
             0.6,
             "#e6f5d0"
            ],
            [
             0.7,
             "#b8e186"
            ],
            [
             0.8,
             "#7fbc41"
            ],
            [
             0.9,
             "#4d9221"
            ],
            [
             1,
             "#276419"
            ]
           ],
           "sequential": [
            [
             0,
             "#0d0887"
            ],
            [
             0.1111111111111111,
             "#46039f"
            ],
            [
             0.2222222222222222,
             "#7201a8"
            ],
            [
             0.3333333333333333,
             "#9c179e"
            ],
            [
             0.4444444444444444,
             "#bd3786"
            ],
            [
             0.5555555555555556,
             "#d8576b"
            ],
            [
             0.6666666666666666,
             "#ed7953"
            ],
            [
             0.7777777777777778,
             "#fb9f3a"
            ],
            [
             0.8888888888888888,
             "#fdca26"
            ],
            [
             1,
             "#f0f921"
            ]
           ],
           "sequentialminus": [
            [
             0,
             "#0d0887"
            ],
            [
             0.1111111111111111,
             "#46039f"
            ],
            [
             0.2222222222222222,
             "#7201a8"
            ],
            [
             0.3333333333333333,
             "#9c179e"
            ],
            [
             0.4444444444444444,
             "#bd3786"
            ],
            [
             0.5555555555555556,
             "#d8576b"
            ],
            [
             0.6666666666666666,
             "#ed7953"
            ],
            [
             0.7777777777777778,
             "#fb9f3a"
            ],
            [
             0.8888888888888888,
             "#fdca26"
            ],
            [
             1,
             "#f0f921"
            ]
           ]
          },
          "colorway": [
           "#636efa",
           "#EF553B",
           "#00cc96",
           "#ab63fa",
           "#FFA15A",
           "#19d3f3",
           "#FF6692",
           "#B6E880",
           "#FF97FF",
           "#FECB52"
          ],
          "font": {
           "color": "#2a3f5f"
          },
          "geo": {
           "bgcolor": "white",
           "lakecolor": "white",
           "landcolor": "white",
           "showlakes": true,
           "showland": true,
           "subunitcolor": "#C8D4E3"
          },
          "hoverlabel": {
           "align": "left"
          },
          "hovermode": "closest",
          "mapbox": {
           "style": "light"
          },
          "paper_bgcolor": "white",
          "plot_bgcolor": "white",
          "polar": {
           "angularaxis": {
            "gridcolor": "#EBF0F8",
            "linecolor": "#EBF0F8",
            "ticks": ""
           },
           "bgcolor": "white",
           "radialaxis": {
            "gridcolor": "#EBF0F8",
            "linecolor": "#EBF0F8",
            "ticks": ""
           }
          },
          "scene": {
           "xaxis": {
            "backgroundcolor": "white",
            "gridcolor": "#DFE8F3",
            "gridwidth": 2,
            "linecolor": "#EBF0F8",
            "showbackground": true,
            "ticks": "",
            "zerolinecolor": "#EBF0F8"
           },
           "yaxis": {
            "backgroundcolor": "white",
            "gridcolor": "#DFE8F3",
            "gridwidth": 2,
            "linecolor": "#EBF0F8",
            "showbackground": true,
            "ticks": "",
            "zerolinecolor": "#EBF0F8"
           },
           "zaxis": {
            "backgroundcolor": "white",
            "gridcolor": "#DFE8F3",
            "gridwidth": 2,
            "linecolor": "#EBF0F8",
            "showbackground": true,
            "ticks": "",
            "zerolinecolor": "#EBF0F8"
           }
          },
          "shapedefaults": {
           "line": {
            "color": "#2a3f5f"
           }
          },
          "ternary": {
           "aaxis": {
            "gridcolor": "#DFE8F3",
            "linecolor": "#A2B1C6",
            "ticks": ""
           },
           "baxis": {
            "gridcolor": "#DFE8F3",
            "linecolor": "#A2B1C6",
            "ticks": ""
           },
           "bgcolor": "white",
           "caxis": {
            "gridcolor": "#DFE8F3",
            "linecolor": "#A2B1C6",
            "ticks": ""
           }
          },
          "title": {
           "x": 0.05
          },
          "xaxis": {
           "automargin": true,
           "gridcolor": "#EBF0F8",
           "linecolor": "#EBF0F8",
           "ticks": "",
           "title": {
            "standoff": 15
           },
           "zerolinecolor": "#EBF0F8",
           "zerolinewidth": 2
          },
          "yaxis": {
           "automargin": true,
           "gridcolor": "#EBF0F8",
           "linecolor": "#EBF0F8",
           "ticks": "",
           "title": {
            "standoff": 15
           },
           "zerolinecolor": "#EBF0F8",
           "zerolinewidth": 2
          }
         }
        },
        "title": {
         "font": {
          "size": 20
         },
         "text": "Erlang A Metrics with Lambda on X-Axis"
        },
        "xaxis": {
         "title": {
          "text": "Lambda"
         }
        },
        "yaxis": {
         "title": {
          "text": "Metrics"
         }
        }
       }
      }
     },
     "metadata": {},
     "output_type": "display_data"
    },
    {
     "data": {
      "text/plain": [
       "<function __main__.plot_graph(x_axis='lambda', mu_val=10, num_agents=5, gamma_val=0.1)>"
      ]
     },
     "execution_count": 2,
     "metadata": {},
     "output_type": "execute_result"
    }
   ],
   "source": [
    "import plotly.graph_objs as go\n",
    "import numpy as np\n",
    "from ipywidgets import interact, Dropdown\n",
    "from scipy.special import factorial\n",
    "\n",
    "# function for calculate abandonment probability and average wait time\n",
    "def calculate_erlang_a(lambda_val, mu_val, num_agents, gamma_val):\n",
    "    A = lambda_val / mu_val  # Traffic intensity\n",
    "    rho = lambda_val / (num_agents * mu_val)  # Utilization\n",
    "\n",
    "    # Abandonment Probability (P_A) - Simplified Erlang A formula\n",
    "    P_A = (A ** num_agents / factorial(num_agents)) / sum(A ** k / factorial(k) for k in range(num_agents + 1))\n",
    "\n",
    "    # Average Wait Time (W_q)\n",
    "    if rho < 1:  # Avoid division by zero\n",
    "        W_q = P_A / (mu_val * (num_agents - rho))\n",
    "    else:\n",
    "        W_q = np.inf  # Infinite wait time if utilization exceeds capacity\n",
    "\n",
    "    return P_A, W_q\n",
    "\n",
    "# dynamically update graph\n",
    "def plot_graph(x_axis=\"lambda\", mu_val=10, num_agents=5, gamma_val=0.1):\n",
    "    # Define ranges for each variable\n",
    "    ranges = {\n",
    "        \"lambda\": np.linspace(10, 100, 50),\n",
    "        \"mu\": np.linspace(1, 20, 50),\n",
    "        \"num_agents\": np.linspace(1, 20, 50),\n",
    "        \"gamma\": np.linspace(0.01, 1.0, 50)\n",
    "    }\n",
    "    \n",
    "    # x-axis range\n",
    "    x_values = ranges[x_axis]\n",
    "    abandonment_probs = []\n",
    "    wait_times = []\n",
    "\n",
    "    # Compute metrics for selected x-axis variable\n",
    "    for x_val in x_values:\n",
    "        if x_axis == \"lambda\":\n",
    "            P_A, W_q = calculate_erlang_a(x_val, mu_val, num_agents, gamma_val)\n",
    "        elif x_axis == \"mu\":\n",
    "            P_A, W_q = calculate_erlang_a(50, x_val, num_agents, gamma_val)\n",
    "        elif x_axis == \"num_agents\":\n",
    "            P_A, W_q = calculate_erlang_a(50, mu_val, x_val, gamma_val)\n",
    "        elif x_axis == \"gamma\":\n",
    "            P_A, W_q = calculate_erlang_a(50, mu_val, num_agents, x_val)\n",
    "        abandonment_probs.append(P_A)\n",
    "        wait_times.append(W_q)\n",
    "\n",
    "   \n",
    "    fig = go.Figure()\n",
    "\n",
    "    # P(abadnoment curve)\n",
    "    fig.add_trace(go.Scatter(\n",
    "        x=x_values,\n",
    "        y=abandonment_probs,\n",
    "        mode='lines',\n",
    "        name='Abandonment Probability',\n",
    "        line=dict(color='blue', width=2),\n",
    "        fill='tozeroy',\n",
    "        fillcolor='rgba(135, 206, 250, 0.4)'\n",
    "    ))\n",
    "\n",
    "    # avg wait time curve\n",
    "    fig.add_trace(go.Scatter(\n",
    "        x=x_values,\n",
    "        y=wait_times,\n",
    "        mode='lines',\n",
    "        name='Average Wait Time',\n",
    "        line=dict(color='green', width=2, dash='dash'),\n",
    "        fill='tonexty',\n",
    "        fillcolor='rgba(144, 238, 144, 0.4)'\n",
    "    ))\n",
    "\n",
    "    # updating layout\n",
    "    fig.update_layout(\n",
    "        title=f\"Erlang A Metrics with {x_axis.title()} on X-Axis\",\n",
    "        xaxis_title=x_axis.title(),\n",
    "        yaxis_title=\"Metrics\",\n",
    "        template=\"plotly_white\",\n",
    "        legend=dict(\n",
    "            bgcolor=\"rgba(255,255,255,0.8)\",\n",
    "            bordercolor=\"black\",\n",
    "            borderwidth=1\n",
    "        ),\n",
    "        font=dict(size=14),\n",
    "        title_font=dict(size=20)\n",
    "    )\n",
    "\n",
    "   \n",
    "    fig.show()\n",
    "\n",
    "# both interactive sliders & DROPDOWN MENU\n",
    "interact(\n",
    "    plot_graph,\n",
    "    x_axis=Dropdown(options=[\"lambda\", \"mu\", \"num_agents\", \"gamma\"], value=\"lambda\", description=\"X-Axis\"),\n",
    "    mu_val=(1, 20, 1),\n",
    "    num_agents=(1, 20, 1),\n",
    "    gamma_val=(0.01, 1.0, 0.01)\n",
    ")\n"
   ]
  },
  {
   "cell_type": "code",
   "execution_count": 3,
   "metadata": {},
   "outputs": [
    {
     "data": {
      "application/vnd.plotly.v1+json": {
       "config": {
        "plotlyServerURL": "https://plot.ly"
       },
       "data": [
        {
         "colorbar": {
          "title": {
           "text": "Avg Wait Time (min)"
          }
         },
         "colorscale": [
          [
           0,
           "#440154"
          ],
          [
           0.1111111111111111,
           "#482878"
          ],
          [
           0.2222222222222222,
           "#3e4989"
          ],
          [
           0.3333333333333333,
           "#31688e"
          ],
          [
           0.4444444444444444,
           "#26828e"
          ],
          [
           0.5555555555555556,
           "#1f9e89"
          ],
          [
           0.6666666666666666,
           "#35b779"
          ],
          [
           0.7777777777777778,
           "#6ece58"
          ],
          [
           0.8888888888888888,
           "#b5de2b"
          ],
          [
           1,
           "#fde725"
          ]
         ],
         "type": "heatmap",
         "x": [
          5,
          6,
          7,
          8,
          9,
          10,
          11,
          12,
          13,
          14,
          15,
          16,
          17,
          18,
          19,
          20,
          21,
          22,
          23,
          24,
          25,
          26,
          27,
          28,
          29
         ],
         "y": [
          10,
          20,
          30,
          40,
          50,
          60,
          70,
          80,
          90,
          100,
          110,
          120,
          130,
          140,
          150,
          160,
          170,
          180,
          190
         ],
         "z": [
          [
           0,
           0,
           0,
           0,
           0,
           0,
           0,
           0,
           0,
           0,
           0,
           0,
           0,
           0,
           0,
           0,
           0,
           0,
           0,
           0,
           0,
           0,
           0,
           0,
           0
          ],
          [
           2,
           1.3333333333333335,
           0.8571428571428572,
           0.5,
           0.22222222222222232,
           0,
           0,
           0,
           0,
           0,
           0,
           0,
           0,
           0,
           0,
           0,
           0,
           0,
           0,
           0,
           0,
           0,
           0,
           0,
           0
          ],
          [
           4,
           3,
           2.2857142857142856,
           1.75,
           1.3333333333333335,
           1,
           0.7272727272727271,
           0.5,
           0.3076923076923075,
           0.1428571428571428,
           0,
           0,
           0,
           0,
           0,
           0,
           0,
           0,
           0,
           0,
           0,
           0,
           0,
           0,
           0
          ],
          [
           6,
           4.666666666666667,
           3.7142857142857144,
           3,
           2.4444444444444446,
           2,
           1.6363636363636362,
           1.3333333333333335,
           1.076923076923077,
           0.8571428571428572,
           0.6666666666666665,
           0.5,
           0.3529411764705883,
           0.22222222222222232,
           0.10526315789473673,
           0,
           0,
           0,
           0,
           0,
           0,
           0,
           0,
           0,
           0
          ],
          [
           8,
           6.333333333333334,
           5.142857142857143,
           4.25,
           3.5555555555555554,
           3,
           2.545454545454546,
           2.166666666666667,
           1.8461538461538463,
           1.5714285714285716,
           1.3333333333333335,
           1.125,
           0.9411764705882355,
           0.7777777777777777,
           0.6315789473684212,
           0.5,
           0.38095238095238093,
           0.27272727272727293,
           0.17391304347826075,
           0.08333333333333348,
           0,
           0,
           0,
           0,
           0
          ],
          [
           10,
           8,
           6.571428571428571,
           5.5,
           4.666666666666667,
           4,
           3.454545454545454,
           3,
           2.615384615384615,
           2.2857142857142856,
           2,
           1.75,
           1.5294117647058822,
           1.3333333333333335,
           1.1578947368421053,
           1,
           0.8571428571428572,
           0.7272727272727271,
           0.6086956521739131,
           0.5,
           0.3999999999999999,
           0.3076923076923075,
           0.22222222222222232,
           0.1428571428571428,
           0.06896551724137945
          ],
          [
           10,
           9.666666666666666,
           8,
           6.75,
           5.777777777777778,
           5,
           4.363636363636363,
           3.833333333333333,
           3.384615384615385,
           3,
           2.666666666666667,
           2.375,
           2.117647058823529,
           1.8888888888888888,
           1.6842105263157894,
           1.5,
           1.3333333333333335,
           1.1818181818181817,
           1.0434782608695654,
           0.9166666666666665,
           0.7999999999999998,
           0.6923076923076925,
           0.5925925925925926,
           0.5,
           0.4137931034482758
          ],
          [
           10,
           10,
           9.428571428571429,
           8,
           6.888888888888889,
           6,
           5.2727272727272725,
           4.666666666666667,
           4.153846153846154,
           3.7142857142857144,
           3.333333333333333,
           3,
           2.7058823529411766,
           2.4444444444444446,
           2.2105263157894735,
           2,
           1.8095238095238093,
           1.6363636363636362,
           1.4782608695652173,
           1.3333333333333335,
           1.2000000000000002,
           1.076923076923077,
           0.9629629629629628,
           0.8571428571428572,
           0.7586206896551726
          ],
          [
           10,
           10,
           10,
           9.25,
           8,
           7,
           6.181818181818182,
           5.5,
           4.923076923076923,
           4.428571428571429,
           4,
           3.625,
           3.2941176470588234,
           3,
           2.7368421052631575,
           2.5,
           2.2857142857142856,
           2.090909090909091,
           1.9130434782608696,
           1.75,
           1.6,
           1.4615384615384617,
           1.3333333333333335,
           1.2142857142857144,
           1.103448275862069
          ],
          [
           10,
           10,
           10,
           10,
           9.11111111111111,
           8,
           7.090909090909092,
           6.333333333333334,
           5.6923076923076925,
           5.142857142857143,
           4.666666666666667,
           4.25,
           3.882352941176471,
           3.5555555555555554,
           3.2631578947368425,
           3,
           2.761904761904762,
           2.545454545454546,
           2.3478260869565215,
           2.166666666666667,
           2,
           1.8461538461538463,
           1.7037037037037037,
           1.5714285714285716,
           1.4482758620689653
          ],
          [
           10,
           10,
           10,
           10,
           10,
           9,
           8,
           7.166666666666666,
           6.461538461538462,
           5.857142857142857,
           5.333333333333333,
           4.875,
           4.470588235294118,
           4.111111111111111,
           3.7894736842105265,
           3.5,
           3.238095238095238,
           3,
           2.782608695652174,
           2.583333333333333,
           2.4000000000000004,
           2.230769230769231,
           2.0740740740740744,
           1.9285714285714284,
           1.793103448275862
          ],
          [
           10,
           10,
           10,
           10,
           10,
           10,
           8.909090909090908,
           8,
           7.23076923076923,
           6.571428571428571,
           6,
           5.5,
           5.0588235294117645,
           4.666666666666667,
           4.315789473684211,
           4,
           3.7142857142857144,
           3.454545454545454,
           3.217391304347826,
           3,
           2.8,
           2.615384615384615,
           2.4444444444444446,
           2.2857142857142856,
           2.137931034482759
          ],
          [
           10,
           10,
           10,
           10,
           10,
           10,
           9.818181818181818,
           8.833333333333334,
           8,
           7.2857142857142865,
           6.666666666666666,
           6.125,
           5.647058823529412,
           5.222222222222222,
           4.842105263157895,
           4.5,
           4.190476190476191,
           3.909090909090909,
           3.6521739130434785,
           3.416666666666667,
           3.2,
           3,
           2.814814814814815,
           2.6428571428571432,
           2.482758620689655
          ],
          [
           10,
           10,
           10,
           10,
           10,
           10,
           10,
           9.666666666666666,
           8.76923076923077,
           8,
           7.333333333333334,
           6.75,
           6.235294117647058,
           5.777777777777778,
           5.368421052631579,
           5,
           4.666666666666667,
           4.363636363636363,
           4.086956521739131,
           3.833333333333333,
           3.5999999999999996,
           3.384615384615385,
           3.185185185185185,
           3,
           2.8275862068965516
          ],
          [
           10,
           10,
           10,
           10,
           10,
           10,
           10,
           10,
           9.538461538461538,
           8.714285714285714,
           8,
           7.375,
           6.8235294117647065,
           6.333333333333334,
           5.894736842105263,
           5.5,
           5.142857142857143,
           4.818181818181818,
           4.521739130434782,
           4.25,
           4,
           3.769230769230769,
           3.5555555555555554,
           3.3571428571428568,
           3.1724137931034484
          ],
          [
           10,
           10,
           10,
           10,
           10,
           10,
           10,
           10,
           10,
           9.428571428571429,
           8.666666666666666,
           8,
           7.411764705882353,
           6.888888888888889,
           6.421052631578947,
           6,
           5.619047619047619,
           5.2727272727272725,
           4.956521739130435,
           4.666666666666667,
           4.4,
           4.153846153846154,
           3.9259259259259256,
           3.7142857142857144,
           3.517241379310345
          ],
          [
           10,
           10,
           10,
           10,
           10,
           10,
           10,
           10,
           10,
           10,
           9.333333333333334,
           8.625,
           8,
           7.444444444444445,
           6.947368421052632,
           6.5,
           6.095238095238095,
           5.7272727272727275,
           5.391304347826087,
           5.083333333333333,
           4.8,
           4.538461538461538,
           4.296296296296297,
           4.071428571428571,
           3.862068965517241
          ],
          [
           10,
           10,
           10,
           10,
           10,
           10,
           10,
           10,
           10,
           10,
           10,
           9.25,
           8.588235294117647,
           8,
           7.473684210526315,
           7,
           6.571428571428571,
           6.181818181818182,
           5.826086956521739,
           5.5,
           5.2,
           4.923076923076923,
           4.666666666666667,
           4.428571428571429,
           4.206896551724138
          ],
          [
           10,
           10,
           10,
           10,
           10,
           10,
           10,
           10,
           10,
           10,
           10,
           9.875,
           9.176470588235293,
           8.555555555555555,
           8,
           7.5,
           7.0476190476190474,
           6.636363636363637,
           6.260869565217391,
           5.916666666666667,
           5.6,
           5.3076923076923075,
           5.037037037037037,
           4.785714285714286,
           4.551724137931035
          ]
         ]
        }
       ],
       "layout": {
        "template": {
         "data": {
          "bar": [
           {
            "error_x": {
             "color": "#2a3f5f"
            },
            "error_y": {
             "color": "#2a3f5f"
            },
            "marker": {
             "line": {
              "color": "white",
              "width": 0.5
             },
             "pattern": {
              "fillmode": "overlay",
              "size": 10,
              "solidity": 0.2
             }
            },
            "type": "bar"
           }
          ],
          "barpolar": [
           {
            "marker": {
             "line": {
              "color": "white",
              "width": 0.5
             },
             "pattern": {
              "fillmode": "overlay",
              "size": 10,
              "solidity": 0.2
             }
            },
            "type": "barpolar"
           }
          ],
          "carpet": [
           {
            "aaxis": {
             "endlinecolor": "#2a3f5f",
             "gridcolor": "#C8D4E3",
             "linecolor": "#C8D4E3",
             "minorgridcolor": "#C8D4E3",
             "startlinecolor": "#2a3f5f"
            },
            "baxis": {
             "endlinecolor": "#2a3f5f",
             "gridcolor": "#C8D4E3",
             "linecolor": "#C8D4E3",
             "minorgridcolor": "#C8D4E3",
             "startlinecolor": "#2a3f5f"
            },
            "type": "carpet"
           }
          ],
          "choropleth": [
           {
            "colorbar": {
             "outlinewidth": 0,
             "ticks": ""
            },
            "type": "choropleth"
           }
          ],
          "contour": [
           {
            "colorbar": {
             "outlinewidth": 0,
             "ticks": ""
            },
            "colorscale": [
             [
              0,
              "#0d0887"
             ],
             [
              0.1111111111111111,
              "#46039f"
             ],
             [
              0.2222222222222222,
              "#7201a8"
             ],
             [
              0.3333333333333333,
              "#9c179e"
             ],
             [
              0.4444444444444444,
              "#bd3786"
             ],
             [
              0.5555555555555556,
              "#d8576b"
             ],
             [
              0.6666666666666666,
              "#ed7953"
             ],
             [
              0.7777777777777778,
              "#fb9f3a"
             ],
             [
              0.8888888888888888,
              "#fdca26"
             ],
             [
              1,
              "#f0f921"
             ]
            ],
            "type": "contour"
           }
          ],
          "contourcarpet": [
           {
            "colorbar": {
             "outlinewidth": 0,
             "ticks": ""
            },
            "type": "contourcarpet"
           }
          ],
          "heatmap": [
           {
            "colorbar": {
             "outlinewidth": 0,
             "ticks": ""
            },
            "colorscale": [
             [
              0,
              "#0d0887"
             ],
             [
              0.1111111111111111,
              "#46039f"
             ],
             [
              0.2222222222222222,
              "#7201a8"
             ],
             [
              0.3333333333333333,
              "#9c179e"
             ],
             [
              0.4444444444444444,
              "#bd3786"
             ],
             [
              0.5555555555555556,
              "#d8576b"
             ],
             [
              0.6666666666666666,
              "#ed7953"
             ],
             [
              0.7777777777777778,
              "#fb9f3a"
             ],
             [
              0.8888888888888888,
              "#fdca26"
             ],
             [
              1,
              "#f0f921"
             ]
            ],
            "type": "heatmap"
           }
          ],
          "heatmapgl": [
           {
            "colorbar": {
             "outlinewidth": 0,
             "ticks": ""
            },
            "colorscale": [
             [
              0,
              "#0d0887"
             ],
             [
              0.1111111111111111,
              "#46039f"
             ],
             [
              0.2222222222222222,
              "#7201a8"
             ],
             [
              0.3333333333333333,
              "#9c179e"
             ],
             [
              0.4444444444444444,
              "#bd3786"
             ],
             [
              0.5555555555555556,
              "#d8576b"
             ],
             [
              0.6666666666666666,
              "#ed7953"
             ],
             [
              0.7777777777777778,
              "#fb9f3a"
             ],
             [
              0.8888888888888888,
              "#fdca26"
             ],
             [
              1,
              "#f0f921"
             ]
            ],
            "type": "heatmapgl"
           }
          ],
          "histogram": [
           {
            "marker": {
             "pattern": {
              "fillmode": "overlay",
              "size": 10,
              "solidity": 0.2
             }
            },
            "type": "histogram"
           }
          ],
          "histogram2d": [
           {
            "colorbar": {
             "outlinewidth": 0,
             "ticks": ""
            },
            "colorscale": [
             [
              0,
              "#0d0887"
             ],
             [
              0.1111111111111111,
              "#46039f"
             ],
             [
              0.2222222222222222,
              "#7201a8"
             ],
             [
              0.3333333333333333,
              "#9c179e"
             ],
             [
              0.4444444444444444,
              "#bd3786"
             ],
             [
              0.5555555555555556,
              "#d8576b"
             ],
             [
              0.6666666666666666,
              "#ed7953"
             ],
             [
              0.7777777777777778,
              "#fb9f3a"
             ],
             [
              0.8888888888888888,
              "#fdca26"
             ],
             [
              1,
              "#f0f921"
             ]
            ],
            "type": "histogram2d"
           }
          ],
          "histogram2dcontour": [
           {
            "colorbar": {
             "outlinewidth": 0,
             "ticks": ""
            },
            "colorscale": [
             [
              0,
              "#0d0887"
             ],
             [
              0.1111111111111111,
              "#46039f"
             ],
             [
              0.2222222222222222,
              "#7201a8"
             ],
             [
              0.3333333333333333,
              "#9c179e"
             ],
             [
              0.4444444444444444,
              "#bd3786"
             ],
             [
              0.5555555555555556,
              "#d8576b"
             ],
             [
              0.6666666666666666,
              "#ed7953"
             ],
             [
              0.7777777777777778,
              "#fb9f3a"
             ],
             [
              0.8888888888888888,
              "#fdca26"
             ],
             [
              1,
              "#f0f921"
             ]
            ],
            "type": "histogram2dcontour"
           }
          ],
          "mesh3d": [
           {
            "colorbar": {
             "outlinewidth": 0,
             "ticks": ""
            },
            "type": "mesh3d"
           }
          ],
          "parcoords": [
           {
            "line": {
             "colorbar": {
              "outlinewidth": 0,
              "ticks": ""
             }
            },
            "type": "parcoords"
           }
          ],
          "pie": [
           {
            "automargin": true,
            "type": "pie"
           }
          ],
          "scatter": [
           {
            "fillpattern": {
             "fillmode": "overlay",
             "size": 10,
             "solidity": 0.2
            },
            "type": "scatter"
           }
          ],
          "scatter3d": [
           {
            "line": {
             "colorbar": {
              "outlinewidth": 0,
              "ticks": ""
             }
            },
            "marker": {
             "colorbar": {
              "outlinewidth": 0,
              "ticks": ""
             }
            },
            "type": "scatter3d"
           }
          ],
          "scattercarpet": [
           {
            "marker": {
             "colorbar": {
              "outlinewidth": 0,
              "ticks": ""
             }
            },
            "type": "scattercarpet"
           }
          ],
          "scattergeo": [
           {
            "marker": {
             "colorbar": {
              "outlinewidth": 0,
              "ticks": ""
             }
            },
            "type": "scattergeo"
           }
          ],
          "scattergl": [
           {
            "marker": {
             "colorbar": {
              "outlinewidth": 0,
              "ticks": ""
             }
            },
            "type": "scattergl"
           }
          ],
          "scattermapbox": [
           {
            "marker": {
             "colorbar": {
              "outlinewidth": 0,
              "ticks": ""
             }
            },
            "type": "scattermapbox"
           }
          ],
          "scatterpolar": [
           {
            "marker": {
             "colorbar": {
              "outlinewidth": 0,
              "ticks": ""
             }
            },
            "type": "scatterpolar"
           }
          ],
          "scatterpolargl": [
           {
            "marker": {
             "colorbar": {
              "outlinewidth": 0,
              "ticks": ""
             }
            },
            "type": "scatterpolargl"
           }
          ],
          "scatterternary": [
           {
            "marker": {
             "colorbar": {
              "outlinewidth": 0,
              "ticks": ""
             }
            },
            "type": "scatterternary"
           }
          ],
          "surface": [
           {
            "colorbar": {
             "outlinewidth": 0,
             "ticks": ""
            },
            "colorscale": [
             [
              0,
              "#0d0887"
             ],
             [
              0.1111111111111111,
              "#46039f"
             ],
             [
              0.2222222222222222,
              "#7201a8"
             ],
             [
              0.3333333333333333,
              "#9c179e"
             ],
             [
              0.4444444444444444,
              "#bd3786"
             ],
             [
              0.5555555555555556,
              "#d8576b"
             ],
             [
              0.6666666666666666,
              "#ed7953"
             ],
             [
              0.7777777777777778,
              "#fb9f3a"
             ],
             [
              0.8888888888888888,
              "#fdca26"
             ],
             [
              1,
              "#f0f921"
             ]
            ],
            "type": "surface"
           }
          ],
          "table": [
           {
            "cells": {
             "fill": {
              "color": "#EBF0F8"
             },
             "line": {
              "color": "white"
             }
            },
            "header": {
             "fill": {
              "color": "#C8D4E3"
             },
             "line": {
              "color": "white"
             }
            },
            "type": "table"
           }
          ]
         },
         "layout": {
          "annotationdefaults": {
           "arrowcolor": "#2a3f5f",
           "arrowhead": 0,
           "arrowwidth": 1
          },
          "autotypenumbers": "strict",
          "coloraxis": {
           "colorbar": {
            "outlinewidth": 0,
            "ticks": ""
           }
          },
          "colorscale": {
           "diverging": [
            [
             0,
             "#8e0152"
            ],
            [
             0.1,
             "#c51b7d"
            ],
            [
             0.2,
             "#de77ae"
            ],
            [
             0.3,
             "#f1b6da"
            ],
            [
             0.4,
             "#fde0ef"
            ],
            [
             0.5,
             "#f7f7f7"
            ],
            [
             0.6,
             "#e6f5d0"
            ],
            [
             0.7,
             "#b8e186"
            ],
            [
             0.8,
             "#7fbc41"
            ],
            [
             0.9,
             "#4d9221"
            ],
            [
             1,
             "#276419"
            ]
           ],
           "sequential": [
            [
             0,
             "#0d0887"
            ],
            [
             0.1111111111111111,
             "#46039f"
            ],
            [
             0.2222222222222222,
             "#7201a8"
            ],
            [
             0.3333333333333333,
             "#9c179e"
            ],
            [
             0.4444444444444444,
             "#bd3786"
            ],
            [
             0.5555555555555556,
             "#d8576b"
            ],
            [
             0.6666666666666666,
             "#ed7953"
            ],
            [
             0.7777777777777778,
             "#fb9f3a"
            ],
            [
             0.8888888888888888,
             "#fdca26"
            ],
            [
             1,
             "#f0f921"
            ]
           ],
           "sequentialminus": [
            [
             0,
             "#0d0887"
            ],
            [
             0.1111111111111111,
             "#46039f"
            ],
            [
             0.2222222222222222,
             "#7201a8"
            ],
            [
             0.3333333333333333,
             "#9c179e"
            ],
            [
             0.4444444444444444,
             "#bd3786"
            ],
            [
             0.5555555555555556,
             "#d8576b"
            ],
            [
             0.6666666666666666,
             "#ed7953"
            ],
            [
             0.7777777777777778,
             "#fb9f3a"
            ],
            [
             0.8888888888888888,
             "#fdca26"
            ],
            [
             1,
             "#f0f921"
            ]
           ]
          },
          "colorway": [
           "#636efa",
           "#EF553B",
           "#00cc96",
           "#ab63fa",
           "#FFA15A",
           "#19d3f3",
           "#FF6692",
           "#B6E880",
           "#FF97FF",
           "#FECB52"
          ],
          "font": {
           "color": "#2a3f5f"
          },
          "geo": {
           "bgcolor": "white",
           "lakecolor": "white",
           "landcolor": "white",
           "showlakes": true,
           "showland": true,
           "subunitcolor": "#C8D4E3"
          },
          "hoverlabel": {
           "align": "left"
          },
          "hovermode": "closest",
          "mapbox": {
           "style": "light"
          },
          "paper_bgcolor": "white",
          "plot_bgcolor": "white",
          "polar": {
           "angularaxis": {
            "gridcolor": "#EBF0F8",
            "linecolor": "#EBF0F8",
            "ticks": ""
           },
           "bgcolor": "white",
           "radialaxis": {
            "gridcolor": "#EBF0F8",
            "linecolor": "#EBF0F8",
            "ticks": ""
           }
          },
          "scene": {
           "xaxis": {
            "backgroundcolor": "white",
            "gridcolor": "#DFE8F3",
            "gridwidth": 2,
            "linecolor": "#EBF0F8",
            "showbackground": true,
            "ticks": "",
            "zerolinecolor": "#EBF0F8"
           },
           "yaxis": {
            "backgroundcolor": "white",
            "gridcolor": "#DFE8F3",
            "gridwidth": 2,
            "linecolor": "#EBF0F8",
            "showbackground": true,
            "ticks": "",
            "zerolinecolor": "#EBF0F8"
           },
           "zaxis": {
            "backgroundcolor": "white",
            "gridcolor": "#DFE8F3",
            "gridwidth": 2,
            "linecolor": "#EBF0F8",
            "showbackground": true,
            "ticks": "",
            "zerolinecolor": "#EBF0F8"
           }
          },
          "shapedefaults": {
           "line": {
            "color": "#2a3f5f"
           }
          },
          "ternary": {
           "aaxis": {
            "gridcolor": "#DFE8F3",
            "linecolor": "#A2B1C6",
            "ticks": ""
           },
           "baxis": {
            "gridcolor": "#DFE8F3",
            "linecolor": "#A2B1C6",
            "ticks": ""
           },
           "bgcolor": "white",
           "caxis": {
            "gridcolor": "#DFE8F3",
            "linecolor": "#A2B1C6",
            "ticks": ""
           }
          },
          "title": {
           "x": 0.05
          },
          "xaxis": {
           "automargin": true,
           "gridcolor": "#EBF0F8",
           "linecolor": "#EBF0F8",
           "ticks": "",
           "title": {
            "standoff": 15
           },
           "zerolinecolor": "#EBF0F8",
           "zerolinewidth": 2
          },
          "yaxis": {
           "automargin": true,
           "gridcolor": "#EBF0F8",
           "linecolor": "#EBF0F8",
           "ticks": "",
           "title": {
            "standoff": 15
           },
           "zerolinecolor": "#EBF0F8",
           "zerolinewidth": 2
          }
         }
        },
        "title": {
         "text": "Staffing vs. Call Volume Heatmap"
        },
        "xaxis": {
         "title": {
          "text": "Staffing Levels (Agents)"
         }
        },
        "yaxis": {
         "title": {
          "text": "Call Volume (Calls/hour)"
         }
        }
       }
      }
     },
     "metadata": {},
     "output_type": "display_data"
    }
   ],
   "source": [
    "import plotly.graph_objs as go\n",
    "import numpy as np\n",
    "\n",
    "def staffing_vs_call_volume_heatmap():\n",
    "    staffing_levels = np.arange(5, 30, 1)  # Number of agents\n",
    "    call_volumes = np.arange(10, 200, 10)  # Call volume per hour\n",
    "    heatmap_data = np.array([\n",
    "        [np.clip((vol / staff) - 2, 0, 10) for staff in staffing_levels]\n",
    "        for vol in call_volumes\n",
    "    ])  # mock data for average wait time\n",
    "\n",
    "    fig = go.Figure(data=go.Heatmap(\n",
    "        z=heatmap_data,\n",
    "        x=staffing_levels,\n",
    "        y=call_volumes,\n",
    "        colorscale='Viridis',\n",
    "        colorbar_title=\"Avg Wait Time (min)\"\n",
    "    ))\n",
    "\n",
    "    fig.update_layout(\n",
    "        title=\"Staffing vs. Call Volume Heatmap\",\n",
    "        xaxis_title=\"Staffing Levels (Agents)\",\n",
    "        yaxis_title=\"Call Volume (Calls/hour)\",\n",
    "        template=\"plotly_white\"\n",
    "    )\n",
    "    fig.show()\n",
    "\n",
    "staffing_vs_call_volume_heatmap()\n"
   ]
  },
  {
   "cell_type": "code",
   "execution_count": null,
   "metadata": {},
   "outputs": [],
   "source": []
  }
 ],
 "metadata": {
  "kernelspec": {
   "display_name": "Python 3",
   "language": "python",
   "name": "python3"
  },
  "language_info": {
   "codemirror_mode": {
    "name": "ipython",
    "version": 3
   },
   "file_extension": ".py",
   "mimetype": "text/x-python",
   "name": "python",
   "nbconvert_exporter": "python",
   "pygments_lexer": "ipython3",
   "version": "3.10.9"
  },
  "orig_nbformat": 4
 },
 "nbformat": 4,
 "nbformat_minor": 2
}
